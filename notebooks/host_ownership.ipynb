{
 "cells": [
  {
   "cell_type": "markdown",
   "metadata": {},
   "source": [
    "# Airbnb Data Exploration\n",
    "\n",
    "Data exploration of Airbnb for London"
   ]
  },
  {
   "cell_type": "code",
   "execution_count": 4,
   "metadata": {},
   "outputs": [],
   "source": [
    "# imports\n",
    "import pandas as pd\n",
    "import seaborn as sns\n",
    "import numpy as np\n",
    "import plotly.express as px"
   ]
  },
  {
   "cell_type": "code",
   "execution_count": 14,
   "metadata": {},
   "outputs": [
    {
     "output_type": "execute_result",
     "data": {
      "text/plain": "      id                                               name host_id  \\\n0  13913                Holiday London DB Room Let-on going   54730   \n1  15400                Bright Chelsea  Apartment. Chelsea!   60302   \n2  17402              Superb 3-Bed/2 Bath & Wifi: Trendy W1   67564   \n3  17506  Boutique Chelsea/Fulham Double bed 5-star ensuite   67915   \n4  25023      All-comforts 2-bed flat near Wimbledon tennis  102813   \n\n   host_name neighbourhood_group           neighbourhood  latitude longitude  \\\n0      Alina                 NaN               Islington  51.56802  -0.11121   \n1   Philippa                 NaN  Kensington and Chelsea  51.48796  -0.16898   \n2        Liz                 NaN             Westminster  51.52195  -0.14094   \n3  Charlotte                 NaN  Hammersmith and Fulham  51.47935  -0.19743   \n4     Amanda                 NaN              Wandsworth  51.44687  -0.21874   \n\n         room_type price minimum_nights number_of_reviews last_review  \\\n0     Private room    65              1                21  2020-02-22   \n1  Entire home/apt   100             10                89  2020-03-16   \n2  Entire home/apt   300              3                42  2019-11-02   \n3     Private room   150              3                 0         NaN   \n4  Entire home/apt    65             21                35  2020-03-30   \n\n  reviews_per_month calculated_host_listings_count availability_365  \n0              0.18                              2              359  \n1              0.71                              1              232  \n2              0.38                             15              307  \n3               NaN                              2              362  \n4              0.70                              1               15  ",
      "text/html": "<div>\n<style scoped>\n    .dataframe tbody tr th:only-of-type {\n        vertical-align: middle;\n    }\n\n    .dataframe tbody tr th {\n        vertical-align: top;\n    }\n\n    .dataframe thead th {\n        text-align: right;\n    }\n</style>\n<table border=\"1\" class=\"dataframe\">\n  <thead>\n    <tr style=\"text-align: right;\">\n      <th></th>\n      <th>id</th>\n      <th>name</th>\n      <th>host_id</th>\n      <th>host_name</th>\n      <th>neighbourhood_group</th>\n      <th>neighbourhood</th>\n      <th>latitude</th>\n      <th>longitude</th>\n      <th>room_type</th>\n      <th>price</th>\n      <th>minimum_nights</th>\n      <th>number_of_reviews</th>\n      <th>last_review</th>\n      <th>reviews_per_month</th>\n      <th>calculated_host_listings_count</th>\n      <th>availability_365</th>\n    </tr>\n  </thead>\n  <tbody>\n    <tr>\n      <th>0</th>\n      <td>13913</td>\n      <td>Holiday London DB Room Let-on going</td>\n      <td>54730</td>\n      <td>Alina</td>\n      <td>NaN</td>\n      <td>Islington</td>\n      <td>51.56802</td>\n      <td>-0.11121</td>\n      <td>Private room</td>\n      <td>65</td>\n      <td>1</td>\n      <td>21</td>\n      <td>2020-02-22</td>\n      <td>0.18</td>\n      <td>2</td>\n      <td>359</td>\n    </tr>\n    <tr>\n      <th>1</th>\n      <td>15400</td>\n      <td>Bright Chelsea  Apartment. Chelsea!</td>\n      <td>60302</td>\n      <td>Philippa</td>\n      <td>NaN</td>\n      <td>Kensington and Chelsea</td>\n      <td>51.48796</td>\n      <td>-0.16898</td>\n      <td>Entire home/apt</td>\n      <td>100</td>\n      <td>10</td>\n      <td>89</td>\n      <td>2020-03-16</td>\n      <td>0.71</td>\n      <td>1</td>\n      <td>232</td>\n    </tr>\n    <tr>\n      <th>2</th>\n      <td>17402</td>\n      <td>Superb 3-Bed/2 Bath &amp; Wifi: Trendy W1</td>\n      <td>67564</td>\n      <td>Liz</td>\n      <td>NaN</td>\n      <td>Westminster</td>\n      <td>51.52195</td>\n      <td>-0.14094</td>\n      <td>Entire home/apt</td>\n      <td>300</td>\n      <td>3</td>\n      <td>42</td>\n      <td>2019-11-02</td>\n      <td>0.38</td>\n      <td>15</td>\n      <td>307</td>\n    </tr>\n    <tr>\n      <th>3</th>\n      <td>17506</td>\n      <td>Boutique Chelsea/Fulham Double bed 5-star ensuite</td>\n      <td>67915</td>\n      <td>Charlotte</td>\n      <td>NaN</td>\n      <td>Hammersmith and Fulham</td>\n      <td>51.47935</td>\n      <td>-0.19743</td>\n      <td>Private room</td>\n      <td>150</td>\n      <td>3</td>\n      <td>0</td>\n      <td>NaN</td>\n      <td>NaN</td>\n      <td>2</td>\n      <td>362</td>\n    </tr>\n    <tr>\n      <th>4</th>\n      <td>25023</td>\n      <td>All-comforts 2-bed flat near Wimbledon tennis</td>\n      <td>102813</td>\n      <td>Amanda</td>\n      <td>NaN</td>\n      <td>Wandsworth</td>\n      <td>51.44687</td>\n      <td>-0.21874</td>\n      <td>Entire home/apt</td>\n      <td>65</td>\n      <td>21</td>\n      <td>35</td>\n      <td>2020-03-30</td>\n      <td>0.70</td>\n      <td>1</td>\n      <td>15</td>\n    </tr>\n  </tbody>\n</table>\n</div>"
     },
     "metadata": {},
     "execution_count": 14
    }
   ],
   "source": [
    "listings_df = pd.read_csv(\"../data/02_intermediate/listings.csv\", dtype='unicode')\n",
    "listings_df.head()"
   ]
  },
  {
   "cell_type": "code",
   "execution_count": 37,
   "metadata": {},
   "outputs": [
    {
     "output_type": "execute_result",
     "data": {
      "text/plain": "53837"
     },
     "metadata": {},
     "execution_count": 37
    }
   ],
   "source": [
    "listings_df['host_id'].unique().shape[0]"
   ]
  },
  {
   "cell_type": "code",
   "execution_count": 33,
   "metadata": {},
   "outputs": [],
   "source": [
    "def check_uniqueness(df, column_name):\n",
    "    print(\"Number of rows: \" + str(df.shape[0]))\n",
    "    print(\"Number of distinct rows: \" + str(df[column_name].unique().shape[0]))  # making sure no duplicate listings\n",
    "\n",
    "def convert_dtype(df, column_names, dtypes):\n",
    "    for col_name, dtype in zip(column_names, dtypes):\n",
    "        df[col_name] = df[col_name].astype(dtype) # convert string to int    \n",
    "    return df\n",
    "\n",
    "def custom_bar(df_series, x_label, y_label):\n",
    "    fig = px.bar(df_series.sort_values(ascending=False), template='plotly_dark')\n",
    "    fig.update_layout(\n",
    "        showlegend=False,\n",
    "        autosize=False,\n",
    "        width=1200,\n",
    "        height=500,\n",
    "        yaxis=dict(\n",
    "            title_text=x_label,\n",
    "            tickmode=\"array\",\n",
    "            titlefont=dict(size=14),\n",
    "        ),\n",
    "        xaxis=dict(\n",
    "        title_text=y_label,\n",
    "        tickmode=\"array\",\n",
    "        titlefont=dict(size=14),\n",
    "        ))\n",
    "    fig.show()\n",
    "\n",
    "def custom_scatter(df, x_col, y_col, color_col, text_col, size_col):\n",
    "    fig = px.scatter(neighbourhood_avgs,\n",
    "                    x=x_col,\n",
    "                    y=y_col,\n",
    "                    color=color_col,\n",
    "                    text=text_col,\n",
    "                    size=size_col,\n",
    "                    size_max=30,\n",
    "                    template='plotly_dark')\n",
    "\n",
    "    fig.update_traces(textposition='top center')\n",
    "\n",
    "    fig.update_layout(\n",
    "        showlegend=False,\n",
    "        autosize=False,\n",
    "        width=1200,\n",
    "        height=800,\n",
    "        yaxis=dict(\n",
    "            title_text=y_col,\n",
    "            tickmode=\"array\",\n",
    "            titlefont=dict(size=14),\n",
    "        ),\n",
    "        xaxis=dict(\n",
    "        title_text=x_col,\n",
    "        tickmode=\"array\",\n",
    "        titlefont=dict(size=14),\n",
    "        ))\n",
    "    \n",
    "    fig.show()"
   ]
  },
  {
   "cell_type": "markdown",
   "metadata": {},
   "source": [
    "## Host Listings"
   ]
  },
  {
   "cell_type": "code",
   "execution_count": 16,
   "metadata": {
    "tags": []
   },
   "outputs": [
    {
     "output_type": "stream",
     "name": "stdout",
     "text": "Number of rows: 86358\nNumber of distinct rows: 86358\n"
    }
   ],
   "source": [
    "check_uniqueness(listings_df, 'id')"
   ]
  },
  {
   "cell_type": "code",
   "execution_count": 22,
   "metadata": {},
   "outputs": [],
   "source": [
    "df = convert_dtype(listings_df, ['calculated_host_listings_count', 'price', 'availability_365'], ['int', 'int', 'int'])"
   ]
  },
  {
   "cell_type": "code",
   "execution_count": 29,
   "metadata": {
    "tags": []
   },
   "outputs": [
    {
     "output_type": "execute_result",
     "data": {
      "text/plain": "                      Avg. Listing Price (£)  Avg. No of Host Owned Listings  \\\nneighbourhood                                                                  \nBarking and Dagenham               59.833333                        2.515152   \nBarnet                             93.640120                       11.700000   \nBexley                             57.452107                        2.233716   \nBrent                             102.219194                       18.886372   \nBromley                            65.461774                        2.102446   \n\n                      Yearly Availability (out 365 days)         neighbourhood  \nneighbourhood                                                                   \nBarking and Dagenham                          136.941919  Barking and Dagenham  \nBarnet                                        137.138922                Barnet  \nBexley                                        145.839080                Bexley  \nBrent                                         119.416123                 Brent  \nBromley                                       131.181957               Bromley  ",
      "text/html": "<div>\n<style scoped>\n    .dataframe tbody tr th:only-of-type {\n        vertical-align: middle;\n    }\n\n    .dataframe tbody tr th {\n        vertical-align: top;\n    }\n\n    .dataframe thead th {\n        text-align: right;\n    }\n</style>\n<table border=\"1\" class=\"dataframe\">\n  <thead>\n    <tr style=\"text-align: right;\">\n      <th></th>\n      <th>Avg. Listing Price (£)</th>\n      <th>Avg. No of Host Owned Listings</th>\n      <th>Yearly Availability (out 365 days)</th>\n      <th>neighbourhood</th>\n    </tr>\n    <tr>\n      <th>neighbourhood</th>\n      <th></th>\n      <th></th>\n      <th></th>\n      <th></th>\n    </tr>\n  </thead>\n  <tbody>\n    <tr>\n      <th>Barking and Dagenham</th>\n      <td>59.833333</td>\n      <td>2.515152</td>\n      <td>136.941919</td>\n      <td>Barking and Dagenham</td>\n    </tr>\n    <tr>\n      <th>Barnet</th>\n      <td>93.640120</td>\n      <td>11.700000</td>\n      <td>137.138922</td>\n      <td>Barnet</td>\n    </tr>\n    <tr>\n      <th>Bexley</th>\n      <td>57.452107</td>\n      <td>2.233716</td>\n      <td>145.839080</td>\n      <td>Bexley</td>\n    </tr>\n    <tr>\n      <th>Brent</th>\n      <td>102.219194</td>\n      <td>18.886372</td>\n      <td>119.416123</td>\n      <td>Brent</td>\n    </tr>\n    <tr>\n      <th>Bromley</th>\n      <td>65.461774</td>\n      <td>2.102446</td>\n      <td>131.181957</td>\n      <td>Bromley</td>\n    </tr>\n  </tbody>\n</table>\n</div>"
     },
     "metadata": {},
     "execution_count": 29
    }
   ],
   "source": [
    "neighbourhood_avgs = listings_df.groupby('neighbourhood').mean()\n",
    "neighbourhood_avgs.rename(columns = {\n",
    "'price':'Avg. Listing Price (£)',\n",
    "'calculated_host_listings_count': 'Avg. No of Host Owned Listings',\n",
    "'availability_365': 'Yearly Availability (out 365 days)'},\n",
    "inplace = True)\n",
    "neighbourhood_avgs['neighbourhood'] = neighbourhood_avgs.index\n",
    "neighbourhood_avgs.head()"
   ]
  },
  {
   "cell_type": "code",
   "execution_count": 30,
   "metadata": {},
   "outputs": [
    {
     "output_type": "display_data",
     "data": {
      "application/vnd.plotly.v1+json": {
       "config": {
        "plotlyServerURL": "https://plot.ly"
       },
       "data": [
        {
         "alignmentgroup": "True",
         "hovertemplate": "variable=Avg. Listing Price (£)<br>neighbourhood=%{x}<br>value=%{y}<extra></extra>",
         "legendgroup": "Avg. Listing Price (£)",
         "marker": {
          "color": "#636efa"
         },
         "name": "Avg. Listing Price (£)",
         "offsetgroup": "Avg. Listing Price (£)",
         "orientation": "v",
         "showlegend": true,
         "textposition": "auto",
         "type": "bar",
         "x": [
          "Westminster",
          "Kensington and Chelsea",
          "City of London",
          "Camden",
          "Hammersmith and Fulham",
          "Richmond upon Thames",
          "Wandsworth",
          "Southwark",
          "Islington",
          "Merton",
          "Hounslow",
          "Brent",
          "Lambeth",
          "Tower Hamlets",
          "Hackney",
          "Barnet",
          "Haringey",
          "Greenwich",
          "Ealing",
          "Sutton",
          "Newham",
          "Kingston upon Thames",
          "Harrow",
          "Waltham Forest",
          "Redbridge",
          "Lewisham",
          "Hillingdon",
          "Havering",
          "Enfield",
          "Bromley",
          "Barking and Dagenham",
          "Croydon",
          "Bexley"
         ],
         "xaxis": "x",
         "y": [
          235.68963089610781,
          217.89949004770523,
          188.5397148676171,
          153.16610603876342,
          148.19513347507677,
          129.76499589153656,
          124.25651255573808,
          124.19951583619124,
          117.31201434548714,
          115.73607038123167,
          108.50950226244343,
          102.21919385796545,
          100.72116369596394,
          95.73116211993751,
          94.47423510466989,
          93.64011976047904,
          91.63546798029557,
          90.27764976958525,
          90.21620111731843,
          85.09748427672956,
          83.3732496378561,
          82.38545454545455,
          78.04228329809725,
          70.8340108401084,
          70.68484042553192,
          70.13069647463456,
          68.27777777777777,
          67.67578125,
          66.44084507042254,
          65.46177370030581,
          59.833333333333336,
          59.144821264894595,
          57.452107279693486
         ],
         "yaxis": "y"
        }
       ],
       "layout": {
        "autosize": false,
        "barmode": "relative",
        "height": 500,
        "legend": {
         "title": {
          "text": "variable"
         },
         "tracegroupgap": 0
        },
        "margin": {
         "t": 60
        },
        "showlegend": false,
        "template": {
         "data": {
          "bar": [
           {
            "error_x": {
             "color": "#f2f5fa"
            },
            "error_y": {
             "color": "#f2f5fa"
            },
            "marker": {
             "line": {
              "color": "rgb(17,17,17)",
              "width": 0.5
             }
            },
            "type": "bar"
           }
          ],
          "barpolar": [
           {
            "marker": {
             "line": {
              "color": "rgb(17,17,17)",
              "width": 0.5
             }
            },
            "type": "barpolar"
           }
          ],
          "carpet": [
           {
            "aaxis": {
             "endlinecolor": "#A2B1C6",
             "gridcolor": "#506784",
             "linecolor": "#506784",
             "minorgridcolor": "#506784",
             "startlinecolor": "#A2B1C6"
            },
            "baxis": {
             "endlinecolor": "#A2B1C6",
             "gridcolor": "#506784",
             "linecolor": "#506784",
             "minorgridcolor": "#506784",
             "startlinecolor": "#A2B1C6"
            },
            "type": "carpet"
           }
          ],
          "choropleth": [
           {
            "colorbar": {
             "outlinewidth": 0,
             "ticks": ""
            },
            "type": "choropleth"
           }
          ],
          "contour": [
           {
            "colorbar": {
             "outlinewidth": 0,
             "ticks": ""
            },
            "colorscale": [
             [
              0,
              "#0d0887"
             ],
             [
              0.1111111111111111,
              "#46039f"
             ],
             [
              0.2222222222222222,
              "#7201a8"
             ],
             [
              0.3333333333333333,
              "#9c179e"
             ],
             [
              0.4444444444444444,
              "#bd3786"
             ],
             [
              0.5555555555555556,
              "#d8576b"
             ],
             [
              0.6666666666666666,
              "#ed7953"
             ],
             [
              0.7777777777777778,
              "#fb9f3a"
             ],
             [
              0.8888888888888888,
              "#fdca26"
             ],
             [
              1,
              "#f0f921"
             ]
            ],
            "type": "contour"
           }
          ],
          "contourcarpet": [
           {
            "colorbar": {
             "outlinewidth": 0,
             "ticks": ""
            },
            "type": "contourcarpet"
           }
          ],
          "heatmap": [
           {
            "colorbar": {
             "outlinewidth": 0,
             "ticks": ""
            },
            "colorscale": [
             [
              0,
              "#0d0887"
             ],
             [
              0.1111111111111111,
              "#46039f"
             ],
             [
              0.2222222222222222,
              "#7201a8"
             ],
             [
              0.3333333333333333,
              "#9c179e"
             ],
             [
              0.4444444444444444,
              "#bd3786"
             ],
             [
              0.5555555555555556,
              "#d8576b"
             ],
             [
              0.6666666666666666,
              "#ed7953"
             ],
             [
              0.7777777777777778,
              "#fb9f3a"
             ],
             [
              0.8888888888888888,
              "#fdca26"
             ],
             [
              1,
              "#f0f921"
             ]
            ],
            "type": "heatmap"
           }
          ],
          "heatmapgl": [
           {
            "colorbar": {
             "outlinewidth": 0,
             "ticks": ""
            },
            "colorscale": [
             [
              0,
              "#0d0887"
             ],
             [
              0.1111111111111111,
              "#46039f"
             ],
             [
              0.2222222222222222,
              "#7201a8"
             ],
             [
              0.3333333333333333,
              "#9c179e"
             ],
             [
              0.4444444444444444,
              "#bd3786"
             ],
             [
              0.5555555555555556,
              "#d8576b"
             ],
             [
              0.6666666666666666,
              "#ed7953"
             ],
             [
              0.7777777777777778,
              "#fb9f3a"
             ],
             [
              0.8888888888888888,
              "#fdca26"
             ],
             [
              1,
              "#f0f921"
             ]
            ],
            "type": "heatmapgl"
           }
          ],
          "histogram": [
           {
            "marker": {
             "colorbar": {
              "outlinewidth": 0,
              "ticks": ""
             }
            },
            "type": "histogram"
           }
          ],
          "histogram2d": [
           {
            "colorbar": {
             "outlinewidth": 0,
             "ticks": ""
            },
            "colorscale": [
             [
              0,
              "#0d0887"
             ],
             [
              0.1111111111111111,
              "#46039f"
             ],
             [
              0.2222222222222222,
              "#7201a8"
             ],
             [
              0.3333333333333333,
              "#9c179e"
             ],
             [
              0.4444444444444444,
              "#bd3786"
             ],
             [
              0.5555555555555556,
              "#d8576b"
             ],
             [
              0.6666666666666666,
              "#ed7953"
             ],
             [
              0.7777777777777778,
              "#fb9f3a"
             ],
             [
              0.8888888888888888,
              "#fdca26"
             ],
             [
              1,
              "#f0f921"
             ]
            ],
            "type": "histogram2d"
           }
          ],
          "histogram2dcontour": [
           {
            "colorbar": {
             "outlinewidth": 0,
             "ticks": ""
            },
            "colorscale": [
             [
              0,
              "#0d0887"
             ],
             [
              0.1111111111111111,
              "#46039f"
             ],
             [
              0.2222222222222222,
              "#7201a8"
             ],
             [
              0.3333333333333333,
              "#9c179e"
             ],
             [
              0.4444444444444444,
              "#bd3786"
             ],
             [
              0.5555555555555556,
              "#d8576b"
             ],
             [
              0.6666666666666666,
              "#ed7953"
             ],
             [
              0.7777777777777778,
              "#fb9f3a"
             ],
             [
              0.8888888888888888,
              "#fdca26"
             ],
             [
              1,
              "#f0f921"
             ]
            ],
            "type": "histogram2dcontour"
           }
          ],
          "mesh3d": [
           {
            "colorbar": {
             "outlinewidth": 0,
             "ticks": ""
            },
            "type": "mesh3d"
           }
          ],
          "parcoords": [
           {
            "line": {
             "colorbar": {
              "outlinewidth": 0,
              "ticks": ""
             }
            },
            "type": "parcoords"
           }
          ],
          "pie": [
           {
            "automargin": true,
            "type": "pie"
           }
          ],
          "scatter": [
           {
            "marker": {
             "line": {
              "color": "#283442"
             }
            },
            "type": "scatter"
           }
          ],
          "scatter3d": [
           {
            "line": {
             "colorbar": {
              "outlinewidth": 0,
              "ticks": ""
             }
            },
            "marker": {
             "colorbar": {
              "outlinewidth": 0,
              "ticks": ""
             }
            },
            "type": "scatter3d"
           }
          ],
          "scattercarpet": [
           {
            "marker": {
             "colorbar": {
              "outlinewidth": 0,
              "ticks": ""
             }
            },
            "type": "scattercarpet"
           }
          ],
          "scattergeo": [
           {
            "marker": {
             "colorbar": {
              "outlinewidth": 0,
              "ticks": ""
             }
            },
            "type": "scattergeo"
           }
          ],
          "scattergl": [
           {
            "marker": {
             "line": {
              "color": "#283442"
             }
            },
            "type": "scattergl"
           }
          ],
          "scattermapbox": [
           {
            "marker": {
             "colorbar": {
              "outlinewidth": 0,
              "ticks": ""
             }
            },
            "type": "scattermapbox"
           }
          ],
          "scatterpolar": [
           {
            "marker": {
             "colorbar": {
              "outlinewidth": 0,
              "ticks": ""
             }
            },
            "type": "scatterpolar"
           }
          ],
          "scatterpolargl": [
           {
            "marker": {
             "colorbar": {
              "outlinewidth": 0,
              "ticks": ""
             }
            },
            "type": "scatterpolargl"
           }
          ],
          "scatterternary": [
           {
            "marker": {
             "colorbar": {
              "outlinewidth": 0,
              "ticks": ""
             }
            },
            "type": "scatterternary"
           }
          ],
          "surface": [
           {
            "colorbar": {
             "outlinewidth": 0,
             "ticks": ""
            },
            "colorscale": [
             [
              0,
              "#0d0887"
             ],
             [
              0.1111111111111111,
              "#46039f"
             ],
             [
              0.2222222222222222,
              "#7201a8"
             ],
             [
              0.3333333333333333,
              "#9c179e"
             ],
             [
              0.4444444444444444,
              "#bd3786"
             ],
             [
              0.5555555555555556,
              "#d8576b"
             ],
             [
              0.6666666666666666,
              "#ed7953"
             ],
             [
              0.7777777777777778,
              "#fb9f3a"
             ],
             [
              0.8888888888888888,
              "#fdca26"
             ],
             [
              1,
              "#f0f921"
             ]
            ],
            "type": "surface"
           }
          ],
          "table": [
           {
            "cells": {
             "fill": {
              "color": "#506784"
             },
             "line": {
              "color": "rgb(17,17,17)"
             }
            },
            "header": {
             "fill": {
              "color": "#2a3f5f"
             },
             "line": {
              "color": "rgb(17,17,17)"
             }
            },
            "type": "table"
           }
          ]
         },
         "layout": {
          "annotationdefaults": {
           "arrowcolor": "#f2f5fa",
           "arrowhead": 0,
           "arrowwidth": 1
          },
          "coloraxis": {
           "colorbar": {
            "outlinewidth": 0,
            "ticks": ""
           }
          },
          "colorscale": {
           "diverging": [
            [
             0,
             "#8e0152"
            ],
            [
             0.1,
             "#c51b7d"
            ],
            [
             0.2,
             "#de77ae"
            ],
            [
             0.3,
             "#f1b6da"
            ],
            [
             0.4,
             "#fde0ef"
            ],
            [
             0.5,
             "#f7f7f7"
            ],
            [
             0.6,
             "#e6f5d0"
            ],
            [
             0.7,
             "#b8e186"
            ],
            [
             0.8,
             "#7fbc41"
            ],
            [
             0.9,
             "#4d9221"
            ],
            [
             1,
             "#276419"
            ]
           ],
           "sequential": [
            [
             0,
             "#0d0887"
            ],
            [
             0.1111111111111111,
             "#46039f"
            ],
            [
             0.2222222222222222,
             "#7201a8"
            ],
            [
             0.3333333333333333,
             "#9c179e"
            ],
            [
             0.4444444444444444,
             "#bd3786"
            ],
            [
             0.5555555555555556,
             "#d8576b"
            ],
            [
             0.6666666666666666,
             "#ed7953"
            ],
            [
             0.7777777777777778,
             "#fb9f3a"
            ],
            [
             0.8888888888888888,
             "#fdca26"
            ],
            [
             1,
             "#f0f921"
            ]
           ],
           "sequentialminus": [
            [
             0,
             "#0d0887"
            ],
            [
             0.1111111111111111,
             "#46039f"
            ],
            [
             0.2222222222222222,
             "#7201a8"
            ],
            [
             0.3333333333333333,
             "#9c179e"
            ],
            [
             0.4444444444444444,
             "#bd3786"
            ],
            [
             0.5555555555555556,
             "#d8576b"
            ],
            [
             0.6666666666666666,
             "#ed7953"
            ],
            [
             0.7777777777777778,
             "#fb9f3a"
            ],
            [
             0.8888888888888888,
             "#fdca26"
            ],
            [
             1,
             "#f0f921"
            ]
           ]
          },
          "colorway": [
           "#636efa",
           "#EF553B",
           "#00cc96",
           "#ab63fa",
           "#FFA15A",
           "#19d3f3",
           "#FF6692",
           "#B6E880",
           "#FF97FF",
           "#FECB52"
          ],
          "font": {
           "color": "#f2f5fa"
          },
          "geo": {
           "bgcolor": "rgb(17,17,17)",
           "lakecolor": "rgb(17,17,17)",
           "landcolor": "rgb(17,17,17)",
           "showlakes": true,
           "showland": true,
           "subunitcolor": "#506784"
          },
          "hoverlabel": {
           "align": "left"
          },
          "hovermode": "closest",
          "mapbox": {
           "style": "dark"
          },
          "paper_bgcolor": "rgb(17,17,17)",
          "plot_bgcolor": "rgb(17,17,17)",
          "polar": {
           "angularaxis": {
            "gridcolor": "#506784",
            "linecolor": "#506784",
            "ticks": ""
           },
           "bgcolor": "rgb(17,17,17)",
           "radialaxis": {
            "gridcolor": "#506784",
            "linecolor": "#506784",
            "ticks": ""
           }
          },
          "scene": {
           "xaxis": {
            "backgroundcolor": "rgb(17,17,17)",
            "gridcolor": "#506784",
            "gridwidth": 2,
            "linecolor": "#506784",
            "showbackground": true,
            "ticks": "",
            "zerolinecolor": "#C8D4E3"
           },
           "yaxis": {
            "backgroundcolor": "rgb(17,17,17)",
            "gridcolor": "#506784",
            "gridwidth": 2,
            "linecolor": "#506784",
            "showbackground": true,
            "ticks": "",
            "zerolinecolor": "#C8D4E3"
           },
           "zaxis": {
            "backgroundcolor": "rgb(17,17,17)",
            "gridcolor": "#506784",
            "gridwidth": 2,
            "linecolor": "#506784",
            "showbackground": true,
            "ticks": "",
            "zerolinecolor": "#C8D4E3"
           }
          },
          "shapedefaults": {
           "line": {
            "color": "#f2f5fa"
           }
          },
          "sliderdefaults": {
           "bgcolor": "#C8D4E3",
           "bordercolor": "rgb(17,17,17)",
           "borderwidth": 1,
           "tickwidth": 0
          },
          "ternary": {
           "aaxis": {
            "gridcolor": "#506784",
            "linecolor": "#506784",
            "ticks": ""
           },
           "baxis": {
            "gridcolor": "#506784",
            "linecolor": "#506784",
            "ticks": ""
           },
           "bgcolor": "rgb(17,17,17)",
           "caxis": {
            "gridcolor": "#506784",
            "linecolor": "#506784",
            "ticks": ""
           }
          },
          "title": {
           "x": 0.05
          },
          "updatemenudefaults": {
           "bgcolor": "#506784",
           "borderwidth": 0
          },
          "xaxis": {
           "automargin": true,
           "gridcolor": "#283442",
           "linecolor": "#506784",
           "ticks": "",
           "title": {
            "standoff": 15
           },
           "zerolinecolor": "#283442",
           "zerolinewidth": 2
          },
          "yaxis": {
           "automargin": true,
           "gridcolor": "#283442",
           "linecolor": "#506784",
           "ticks": "",
           "title": {
            "standoff": 15
           },
           "zerolinecolor": "#283442",
           "zerolinewidth": 2
          }
         }
        },
        "width": 1200,
        "xaxis": {
         "anchor": "y",
         "domain": [
          0,
          1
         ],
         "tickmode": "array",
         "title": {
          "font": {
           "size": 14
          },
          "text": "Avg. Listing Price (£)"
         }
        },
        "yaxis": {
         "anchor": "x",
         "domain": [
          0,
          1
         ],
         "tickmode": "array",
         "title": {
          "font": {
           "size": 14
          },
          "text": "Airbnb London Neighbourhood"
         }
        }
       }
      }
     },
     "metadata": {}
    }
   ],
   "source": [
    "custom_bar(neighbourhood_avgs['Avg. Listing Price (£)'], \"Airbnb London Neighbourhood\", \"Avg. Listing Price (£)\")"
   ]
  },
  {
   "cell_type": "code",
   "execution_count": 31,
   "metadata": {},
   "outputs": [
    {
     "output_type": "display_data",
     "data": {
      "application/vnd.plotly.v1+json": {
       "config": {
        "plotlyServerURL": "https://plot.ly"
       },
       "data": [
        {
         "alignmentgroup": "True",
         "hovertemplate": "variable=Avg. No of Host Owned Listings<br>neighbourhood=%{x}<br>value=%{y}<extra></extra>",
         "legendgroup": "Avg. No of Host Owned Listings",
         "marker": {
          "color": "#636efa"
         },
         "name": "Avg. No of Host Owned Listings",
         "offsetgroup": "Avg. No of Host Owned Listings",
         "orientation": "v",
         "showlegend": true,
         "textposition": "auto",
         "type": "bar",
         "x": [
          "Kensington and Chelsea",
          "Hammersmith and Fulham",
          "Wandsworth",
          "Merton",
          "Richmond upon Thames",
          "City of London",
          "Camden",
          "Westminster",
          "Islington",
          "Hounslow",
          "Tower Hamlets",
          "Brent",
          "Lambeth",
          "Hackney",
          "Haringey",
          "Barnet",
          "Ealing",
          "Southwark",
          "Greenwich",
          "Hillingdon",
          "Newham",
          "Havering",
          "Redbridge",
          "Kingston upon Thames",
          "Enfield",
          "Waltham Forest",
          "Harrow",
          "Lewisham",
          "Croydon",
          "Barking and Dagenham",
          "Bexley",
          "Bromley",
          "Sutton"
         ],
         "xaxis": "x",
         "y": [
          42.44777101496957,
          38.95676824946846,
          37.81459751232105,
          32.31818181818182,
          29.686113393590798,
          27.780040733197556,
          26.85695979497037,
          24.50417379060646,
          24.33791591950588,
          23.638009049773757,
          21.671313544045187,
          18.88637236084453,
          16.120467117393975,
          13.782608695652174,
          12.717868338557993,
          11.7,
          10.692737430167599,
          10.652612467218075,
          8.006336405529954,
          7.513513513513513,
          5.700144857556736,
          4.94921875,
          4.264627659574468,
          4.08,
          3.832394366197183,
          3.769647696476965,
          3.295983086680761,
          3.1371453138435084,
          2.852428964252979,
          2.515151515151515,
          2.2337164750957856,
          2.102446483180428,
          1.921383647798742
         ],
         "yaxis": "y"
        }
       ],
       "layout": {
        "autosize": false,
        "barmode": "relative",
        "height": 500,
        "legend": {
         "title": {
          "text": "variable"
         },
         "tracegroupgap": 0
        },
        "margin": {
         "t": 60
        },
        "showlegend": false,
        "template": {
         "data": {
          "bar": [
           {
            "error_x": {
             "color": "#f2f5fa"
            },
            "error_y": {
             "color": "#f2f5fa"
            },
            "marker": {
             "line": {
              "color": "rgb(17,17,17)",
              "width": 0.5
             }
            },
            "type": "bar"
           }
          ],
          "barpolar": [
           {
            "marker": {
             "line": {
              "color": "rgb(17,17,17)",
              "width": 0.5
             }
            },
            "type": "barpolar"
           }
          ],
          "carpet": [
           {
            "aaxis": {
             "endlinecolor": "#A2B1C6",
             "gridcolor": "#506784",
             "linecolor": "#506784",
             "minorgridcolor": "#506784",
             "startlinecolor": "#A2B1C6"
            },
            "baxis": {
             "endlinecolor": "#A2B1C6",
             "gridcolor": "#506784",
             "linecolor": "#506784",
             "minorgridcolor": "#506784",
             "startlinecolor": "#A2B1C6"
            },
            "type": "carpet"
           }
          ],
          "choropleth": [
           {
            "colorbar": {
             "outlinewidth": 0,
             "ticks": ""
            },
            "type": "choropleth"
           }
          ],
          "contour": [
           {
            "colorbar": {
             "outlinewidth": 0,
             "ticks": ""
            },
            "colorscale": [
             [
              0,
              "#0d0887"
             ],
             [
              0.1111111111111111,
              "#46039f"
             ],
             [
              0.2222222222222222,
              "#7201a8"
             ],
             [
              0.3333333333333333,
              "#9c179e"
             ],
             [
              0.4444444444444444,
              "#bd3786"
             ],
             [
              0.5555555555555556,
              "#d8576b"
             ],
             [
              0.6666666666666666,
              "#ed7953"
             ],
             [
              0.7777777777777778,
              "#fb9f3a"
             ],
             [
              0.8888888888888888,
              "#fdca26"
             ],
             [
              1,
              "#f0f921"
             ]
            ],
            "type": "contour"
           }
          ],
          "contourcarpet": [
           {
            "colorbar": {
             "outlinewidth": 0,
             "ticks": ""
            },
            "type": "contourcarpet"
           }
          ],
          "heatmap": [
           {
            "colorbar": {
             "outlinewidth": 0,
             "ticks": ""
            },
            "colorscale": [
             [
              0,
              "#0d0887"
             ],
             [
              0.1111111111111111,
              "#46039f"
             ],
             [
              0.2222222222222222,
              "#7201a8"
             ],
             [
              0.3333333333333333,
              "#9c179e"
             ],
             [
              0.4444444444444444,
              "#bd3786"
             ],
             [
              0.5555555555555556,
              "#d8576b"
             ],
             [
              0.6666666666666666,
              "#ed7953"
             ],
             [
              0.7777777777777778,
              "#fb9f3a"
             ],
             [
              0.8888888888888888,
              "#fdca26"
             ],
             [
              1,
              "#f0f921"
             ]
            ],
            "type": "heatmap"
           }
          ],
          "heatmapgl": [
           {
            "colorbar": {
             "outlinewidth": 0,
             "ticks": ""
            },
            "colorscale": [
             [
              0,
              "#0d0887"
             ],
             [
              0.1111111111111111,
              "#46039f"
             ],
             [
              0.2222222222222222,
              "#7201a8"
             ],
             [
              0.3333333333333333,
              "#9c179e"
             ],
             [
              0.4444444444444444,
              "#bd3786"
             ],
             [
              0.5555555555555556,
              "#d8576b"
             ],
             [
              0.6666666666666666,
              "#ed7953"
             ],
             [
              0.7777777777777778,
              "#fb9f3a"
             ],
             [
              0.8888888888888888,
              "#fdca26"
             ],
             [
              1,
              "#f0f921"
             ]
            ],
            "type": "heatmapgl"
           }
          ],
          "histogram": [
           {
            "marker": {
             "colorbar": {
              "outlinewidth": 0,
              "ticks": ""
             }
            },
            "type": "histogram"
           }
          ],
          "histogram2d": [
           {
            "colorbar": {
             "outlinewidth": 0,
             "ticks": ""
            },
            "colorscale": [
             [
              0,
              "#0d0887"
             ],
             [
              0.1111111111111111,
              "#46039f"
             ],
             [
              0.2222222222222222,
              "#7201a8"
             ],
             [
              0.3333333333333333,
              "#9c179e"
             ],
             [
              0.4444444444444444,
              "#bd3786"
             ],
             [
              0.5555555555555556,
              "#d8576b"
             ],
             [
              0.6666666666666666,
              "#ed7953"
             ],
             [
              0.7777777777777778,
              "#fb9f3a"
             ],
             [
              0.8888888888888888,
              "#fdca26"
             ],
             [
              1,
              "#f0f921"
             ]
            ],
            "type": "histogram2d"
           }
          ],
          "histogram2dcontour": [
           {
            "colorbar": {
             "outlinewidth": 0,
             "ticks": ""
            },
            "colorscale": [
             [
              0,
              "#0d0887"
             ],
             [
              0.1111111111111111,
              "#46039f"
             ],
             [
              0.2222222222222222,
              "#7201a8"
             ],
             [
              0.3333333333333333,
              "#9c179e"
             ],
             [
              0.4444444444444444,
              "#bd3786"
             ],
             [
              0.5555555555555556,
              "#d8576b"
             ],
             [
              0.6666666666666666,
              "#ed7953"
             ],
             [
              0.7777777777777778,
              "#fb9f3a"
             ],
             [
              0.8888888888888888,
              "#fdca26"
             ],
             [
              1,
              "#f0f921"
             ]
            ],
            "type": "histogram2dcontour"
           }
          ],
          "mesh3d": [
           {
            "colorbar": {
             "outlinewidth": 0,
             "ticks": ""
            },
            "type": "mesh3d"
           }
          ],
          "parcoords": [
           {
            "line": {
             "colorbar": {
              "outlinewidth": 0,
              "ticks": ""
             }
            },
            "type": "parcoords"
           }
          ],
          "pie": [
           {
            "automargin": true,
            "type": "pie"
           }
          ],
          "scatter": [
           {
            "marker": {
             "line": {
              "color": "#283442"
             }
            },
            "type": "scatter"
           }
          ],
          "scatter3d": [
           {
            "line": {
             "colorbar": {
              "outlinewidth": 0,
              "ticks": ""
             }
            },
            "marker": {
             "colorbar": {
              "outlinewidth": 0,
              "ticks": ""
             }
            },
            "type": "scatter3d"
           }
          ],
          "scattercarpet": [
           {
            "marker": {
             "colorbar": {
              "outlinewidth": 0,
              "ticks": ""
             }
            },
            "type": "scattercarpet"
           }
          ],
          "scattergeo": [
           {
            "marker": {
             "colorbar": {
              "outlinewidth": 0,
              "ticks": ""
             }
            },
            "type": "scattergeo"
           }
          ],
          "scattergl": [
           {
            "marker": {
             "line": {
              "color": "#283442"
             }
            },
            "type": "scattergl"
           }
          ],
          "scattermapbox": [
           {
            "marker": {
             "colorbar": {
              "outlinewidth": 0,
              "ticks": ""
             }
            },
            "type": "scattermapbox"
           }
          ],
          "scatterpolar": [
           {
            "marker": {
             "colorbar": {
              "outlinewidth": 0,
              "ticks": ""
             }
            },
            "type": "scatterpolar"
           }
          ],
          "scatterpolargl": [
           {
            "marker": {
             "colorbar": {
              "outlinewidth": 0,
              "ticks": ""
             }
            },
            "type": "scatterpolargl"
           }
          ],
          "scatterternary": [
           {
            "marker": {
             "colorbar": {
              "outlinewidth": 0,
              "ticks": ""
             }
            },
            "type": "scatterternary"
           }
          ],
          "surface": [
           {
            "colorbar": {
             "outlinewidth": 0,
             "ticks": ""
            },
            "colorscale": [
             [
              0,
              "#0d0887"
             ],
             [
              0.1111111111111111,
              "#46039f"
             ],
             [
              0.2222222222222222,
              "#7201a8"
             ],
             [
              0.3333333333333333,
              "#9c179e"
             ],
             [
              0.4444444444444444,
              "#bd3786"
             ],
             [
              0.5555555555555556,
              "#d8576b"
             ],
             [
              0.6666666666666666,
              "#ed7953"
             ],
             [
              0.7777777777777778,
              "#fb9f3a"
             ],
             [
              0.8888888888888888,
              "#fdca26"
             ],
             [
              1,
              "#f0f921"
             ]
            ],
            "type": "surface"
           }
          ],
          "table": [
           {
            "cells": {
             "fill": {
              "color": "#506784"
             },
             "line": {
              "color": "rgb(17,17,17)"
             }
            },
            "header": {
             "fill": {
              "color": "#2a3f5f"
             },
             "line": {
              "color": "rgb(17,17,17)"
             }
            },
            "type": "table"
           }
          ]
         },
         "layout": {
          "annotationdefaults": {
           "arrowcolor": "#f2f5fa",
           "arrowhead": 0,
           "arrowwidth": 1
          },
          "coloraxis": {
           "colorbar": {
            "outlinewidth": 0,
            "ticks": ""
           }
          },
          "colorscale": {
           "diverging": [
            [
             0,
             "#8e0152"
            ],
            [
             0.1,
             "#c51b7d"
            ],
            [
             0.2,
             "#de77ae"
            ],
            [
             0.3,
             "#f1b6da"
            ],
            [
             0.4,
             "#fde0ef"
            ],
            [
             0.5,
             "#f7f7f7"
            ],
            [
             0.6,
             "#e6f5d0"
            ],
            [
             0.7,
             "#b8e186"
            ],
            [
             0.8,
             "#7fbc41"
            ],
            [
             0.9,
             "#4d9221"
            ],
            [
             1,
             "#276419"
            ]
           ],
           "sequential": [
            [
             0,
             "#0d0887"
            ],
            [
             0.1111111111111111,
             "#46039f"
            ],
            [
             0.2222222222222222,
             "#7201a8"
            ],
            [
             0.3333333333333333,
             "#9c179e"
            ],
            [
             0.4444444444444444,
             "#bd3786"
            ],
            [
             0.5555555555555556,
             "#d8576b"
            ],
            [
             0.6666666666666666,
             "#ed7953"
            ],
            [
             0.7777777777777778,
             "#fb9f3a"
            ],
            [
             0.8888888888888888,
             "#fdca26"
            ],
            [
             1,
             "#f0f921"
            ]
           ],
           "sequentialminus": [
            [
             0,
             "#0d0887"
            ],
            [
             0.1111111111111111,
             "#46039f"
            ],
            [
             0.2222222222222222,
             "#7201a8"
            ],
            [
             0.3333333333333333,
             "#9c179e"
            ],
            [
             0.4444444444444444,
             "#bd3786"
            ],
            [
             0.5555555555555556,
             "#d8576b"
            ],
            [
             0.6666666666666666,
             "#ed7953"
            ],
            [
             0.7777777777777778,
             "#fb9f3a"
            ],
            [
             0.8888888888888888,
             "#fdca26"
            ],
            [
             1,
             "#f0f921"
            ]
           ]
          },
          "colorway": [
           "#636efa",
           "#EF553B",
           "#00cc96",
           "#ab63fa",
           "#FFA15A",
           "#19d3f3",
           "#FF6692",
           "#B6E880",
           "#FF97FF",
           "#FECB52"
          ],
          "font": {
           "color": "#f2f5fa"
          },
          "geo": {
           "bgcolor": "rgb(17,17,17)",
           "lakecolor": "rgb(17,17,17)",
           "landcolor": "rgb(17,17,17)",
           "showlakes": true,
           "showland": true,
           "subunitcolor": "#506784"
          },
          "hoverlabel": {
           "align": "left"
          },
          "hovermode": "closest",
          "mapbox": {
           "style": "dark"
          },
          "paper_bgcolor": "rgb(17,17,17)",
          "plot_bgcolor": "rgb(17,17,17)",
          "polar": {
           "angularaxis": {
            "gridcolor": "#506784",
            "linecolor": "#506784",
            "ticks": ""
           },
           "bgcolor": "rgb(17,17,17)",
           "radialaxis": {
            "gridcolor": "#506784",
            "linecolor": "#506784",
            "ticks": ""
           }
          },
          "scene": {
           "xaxis": {
            "backgroundcolor": "rgb(17,17,17)",
            "gridcolor": "#506784",
            "gridwidth": 2,
            "linecolor": "#506784",
            "showbackground": true,
            "ticks": "",
            "zerolinecolor": "#C8D4E3"
           },
           "yaxis": {
            "backgroundcolor": "rgb(17,17,17)",
            "gridcolor": "#506784",
            "gridwidth": 2,
            "linecolor": "#506784",
            "showbackground": true,
            "ticks": "",
            "zerolinecolor": "#C8D4E3"
           },
           "zaxis": {
            "backgroundcolor": "rgb(17,17,17)",
            "gridcolor": "#506784",
            "gridwidth": 2,
            "linecolor": "#506784",
            "showbackground": true,
            "ticks": "",
            "zerolinecolor": "#C8D4E3"
           }
          },
          "shapedefaults": {
           "line": {
            "color": "#f2f5fa"
           }
          },
          "sliderdefaults": {
           "bgcolor": "#C8D4E3",
           "bordercolor": "rgb(17,17,17)",
           "borderwidth": 1,
           "tickwidth": 0
          },
          "ternary": {
           "aaxis": {
            "gridcolor": "#506784",
            "linecolor": "#506784",
            "ticks": ""
           },
           "baxis": {
            "gridcolor": "#506784",
            "linecolor": "#506784",
            "ticks": ""
           },
           "bgcolor": "rgb(17,17,17)",
           "caxis": {
            "gridcolor": "#506784",
            "linecolor": "#506784",
            "ticks": ""
           }
          },
          "title": {
           "x": 0.05
          },
          "updatemenudefaults": {
           "bgcolor": "#506784",
           "borderwidth": 0
          },
          "xaxis": {
           "automargin": true,
           "gridcolor": "#283442",
           "linecolor": "#506784",
           "ticks": "",
           "title": {
            "standoff": 15
           },
           "zerolinecolor": "#283442",
           "zerolinewidth": 2
          },
          "yaxis": {
           "automargin": true,
           "gridcolor": "#283442",
           "linecolor": "#506784",
           "ticks": "",
           "title": {
            "standoff": 15
           },
           "zerolinecolor": "#283442",
           "zerolinewidth": 2
          }
         }
        },
        "width": 1200,
        "xaxis": {
         "anchor": "y",
         "domain": [
          0,
          1
         ],
         "tickmode": "array",
         "title": {
          "font": {
           "size": 14
          },
          "text": "Avg. No of Host Owned Listings"
         }
        },
        "yaxis": {
         "anchor": "x",
         "domain": [
          0,
          1
         ],
         "tickmode": "array",
         "title": {
          "font": {
           "size": 14
          },
          "text": "Airbnb London Neighbourhood"
         }
        }
       }
      }
     },
     "metadata": {}
    }
   ],
   "source": [
    "custom_bar(neighbourhood_avgs['Avg. No of Host Owned Listings'], \"Airbnb London Neighbourhood\", \"Avg. No of Host Owned Listings\")"
   ]
  },
  {
   "cell_type": "code",
   "execution_count": 32,
   "metadata": {},
   "outputs": [
    {
     "output_type": "display_data",
     "data": {
      "application/vnd.plotly.v1+json": {
       "config": {
        "plotlyServerURL": "https://plot.ly"
       },
       "data": [
        {
         "alignmentgroup": "True",
         "hovertemplate": "variable=Yearly Availability (out 365 days)<br>neighbourhood=%{x}<br>value=%{y}<extra></extra>",
         "legendgroup": "Yearly Availability (out 365 days)",
         "marker": {
          "color": "#636efa"
         },
         "name": "Yearly Availability (out 365 days)",
         "offsetgroup": "Yearly Availability (out 365 days)",
         "orientation": "v",
         "showlegend": true,
         "textposition": "auto",
         "type": "bar",
         "x": [
          "City of London",
          "Hillingdon",
          "Harrow",
          "Redbridge",
          "Westminster",
          "Kensington and Chelsea",
          "Havering",
          "Enfield",
          "Bexley",
          "Barnet",
          "Barking and Dagenham",
          "Bromley",
          "Croydon",
          "Camden",
          "Sutton",
          "Greenwich",
          "Hounslow",
          "Newham",
          "Brent",
          "Ealing",
          "Hammersmith and Fulham",
          "Richmond upon Thames",
          "Tower Hamlets",
          "Waltham Forest",
          "Merton",
          "Kingston upon Thames",
          "Lambeth",
          "Haringey",
          "Southwark",
          "Lewisham",
          "Islington",
          "Wandsworth",
          "Hackney"
         ],
         "xaxis": "x",
         "y": [
          189.9042769857434,
          161.30780780780782,
          152.9598308668076,
          151.66755319148936,
          150.95071909886352,
          149.47458463563086,
          149.04296875,
          148.75352112676057,
          145.83908045977012,
          137.13892215568862,
          136.9419191919192,
          131.18195718654434,
          129.18790100824933,
          126.73714560307545,
          124.30188679245283,
          123.76440092165899,
          120.87511312217194,
          119.59536455818446,
          119.41612284069097,
          117.32849162011173,
          116.88589652728561,
          112.1380443714051,
          111.22761687297199,
          108.91734417344173,
          104.30645161290323,
          100.9090909090909,
          98.52489244007376,
          96.13255709807434,
          95.87028444623765,
          92.7274290627687,
          89.85694361426579,
          86.62966439802864,
          78.5207729468599
         ],
         "yaxis": "y"
        }
       ],
       "layout": {
        "autosize": false,
        "barmode": "relative",
        "height": 500,
        "legend": {
         "title": {
          "text": "variable"
         },
         "tracegroupgap": 0
        },
        "margin": {
         "t": 60
        },
        "showlegend": false,
        "template": {
         "data": {
          "bar": [
           {
            "error_x": {
             "color": "#f2f5fa"
            },
            "error_y": {
             "color": "#f2f5fa"
            },
            "marker": {
             "line": {
              "color": "rgb(17,17,17)",
              "width": 0.5
             }
            },
            "type": "bar"
           }
          ],
          "barpolar": [
           {
            "marker": {
             "line": {
              "color": "rgb(17,17,17)",
              "width": 0.5
             }
            },
            "type": "barpolar"
           }
          ],
          "carpet": [
           {
            "aaxis": {
             "endlinecolor": "#A2B1C6",
             "gridcolor": "#506784",
             "linecolor": "#506784",
             "minorgridcolor": "#506784",
             "startlinecolor": "#A2B1C6"
            },
            "baxis": {
             "endlinecolor": "#A2B1C6",
             "gridcolor": "#506784",
             "linecolor": "#506784",
             "minorgridcolor": "#506784",
             "startlinecolor": "#A2B1C6"
            },
            "type": "carpet"
           }
          ],
          "choropleth": [
           {
            "colorbar": {
             "outlinewidth": 0,
             "ticks": ""
            },
            "type": "choropleth"
           }
          ],
          "contour": [
           {
            "colorbar": {
             "outlinewidth": 0,
             "ticks": ""
            },
            "colorscale": [
             [
              0,
              "#0d0887"
             ],
             [
              0.1111111111111111,
              "#46039f"
             ],
             [
              0.2222222222222222,
              "#7201a8"
             ],
             [
              0.3333333333333333,
              "#9c179e"
             ],
             [
              0.4444444444444444,
              "#bd3786"
             ],
             [
              0.5555555555555556,
              "#d8576b"
             ],
             [
              0.6666666666666666,
              "#ed7953"
             ],
             [
              0.7777777777777778,
              "#fb9f3a"
             ],
             [
              0.8888888888888888,
              "#fdca26"
             ],
             [
              1,
              "#f0f921"
             ]
            ],
            "type": "contour"
           }
          ],
          "contourcarpet": [
           {
            "colorbar": {
             "outlinewidth": 0,
             "ticks": ""
            },
            "type": "contourcarpet"
           }
          ],
          "heatmap": [
           {
            "colorbar": {
             "outlinewidth": 0,
             "ticks": ""
            },
            "colorscale": [
             [
              0,
              "#0d0887"
             ],
             [
              0.1111111111111111,
              "#46039f"
             ],
             [
              0.2222222222222222,
              "#7201a8"
             ],
             [
              0.3333333333333333,
              "#9c179e"
             ],
             [
              0.4444444444444444,
              "#bd3786"
             ],
             [
              0.5555555555555556,
              "#d8576b"
             ],
             [
              0.6666666666666666,
              "#ed7953"
             ],
             [
              0.7777777777777778,
              "#fb9f3a"
             ],
             [
              0.8888888888888888,
              "#fdca26"
             ],
             [
              1,
              "#f0f921"
             ]
            ],
            "type": "heatmap"
           }
          ],
          "heatmapgl": [
           {
            "colorbar": {
             "outlinewidth": 0,
             "ticks": ""
            },
            "colorscale": [
             [
              0,
              "#0d0887"
             ],
             [
              0.1111111111111111,
              "#46039f"
             ],
             [
              0.2222222222222222,
              "#7201a8"
             ],
             [
              0.3333333333333333,
              "#9c179e"
             ],
             [
              0.4444444444444444,
              "#bd3786"
             ],
             [
              0.5555555555555556,
              "#d8576b"
             ],
             [
              0.6666666666666666,
              "#ed7953"
             ],
             [
              0.7777777777777778,
              "#fb9f3a"
             ],
             [
              0.8888888888888888,
              "#fdca26"
             ],
             [
              1,
              "#f0f921"
             ]
            ],
            "type": "heatmapgl"
           }
          ],
          "histogram": [
           {
            "marker": {
             "colorbar": {
              "outlinewidth": 0,
              "ticks": ""
             }
            },
            "type": "histogram"
           }
          ],
          "histogram2d": [
           {
            "colorbar": {
             "outlinewidth": 0,
             "ticks": ""
            },
            "colorscale": [
             [
              0,
              "#0d0887"
             ],
             [
              0.1111111111111111,
              "#46039f"
             ],
             [
              0.2222222222222222,
              "#7201a8"
             ],
             [
              0.3333333333333333,
              "#9c179e"
             ],
             [
              0.4444444444444444,
              "#bd3786"
             ],
             [
              0.5555555555555556,
              "#d8576b"
             ],
             [
              0.6666666666666666,
              "#ed7953"
             ],
             [
              0.7777777777777778,
              "#fb9f3a"
             ],
             [
              0.8888888888888888,
              "#fdca26"
             ],
             [
              1,
              "#f0f921"
             ]
            ],
            "type": "histogram2d"
           }
          ],
          "histogram2dcontour": [
           {
            "colorbar": {
             "outlinewidth": 0,
             "ticks": ""
            },
            "colorscale": [
             [
              0,
              "#0d0887"
             ],
             [
              0.1111111111111111,
              "#46039f"
             ],
             [
              0.2222222222222222,
              "#7201a8"
             ],
             [
              0.3333333333333333,
              "#9c179e"
             ],
             [
              0.4444444444444444,
              "#bd3786"
             ],
             [
              0.5555555555555556,
              "#d8576b"
             ],
             [
              0.6666666666666666,
              "#ed7953"
             ],
             [
              0.7777777777777778,
              "#fb9f3a"
             ],
             [
              0.8888888888888888,
              "#fdca26"
             ],
             [
              1,
              "#f0f921"
             ]
            ],
            "type": "histogram2dcontour"
           }
          ],
          "mesh3d": [
           {
            "colorbar": {
             "outlinewidth": 0,
             "ticks": ""
            },
            "type": "mesh3d"
           }
          ],
          "parcoords": [
           {
            "line": {
             "colorbar": {
              "outlinewidth": 0,
              "ticks": ""
             }
            },
            "type": "parcoords"
           }
          ],
          "pie": [
           {
            "automargin": true,
            "type": "pie"
           }
          ],
          "scatter": [
           {
            "marker": {
             "line": {
              "color": "#283442"
             }
            },
            "type": "scatter"
           }
          ],
          "scatter3d": [
           {
            "line": {
             "colorbar": {
              "outlinewidth": 0,
              "ticks": ""
             }
            },
            "marker": {
             "colorbar": {
              "outlinewidth": 0,
              "ticks": ""
             }
            },
            "type": "scatter3d"
           }
          ],
          "scattercarpet": [
           {
            "marker": {
             "colorbar": {
              "outlinewidth": 0,
              "ticks": ""
             }
            },
            "type": "scattercarpet"
           }
          ],
          "scattergeo": [
           {
            "marker": {
             "colorbar": {
              "outlinewidth": 0,
              "ticks": ""
             }
            },
            "type": "scattergeo"
           }
          ],
          "scattergl": [
           {
            "marker": {
             "line": {
              "color": "#283442"
             }
            },
            "type": "scattergl"
           }
          ],
          "scattermapbox": [
           {
            "marker": {
             "colorbar": {
              "outlinewidth": 0,
              "ticks": ""
             }
            },
            "type": "scattermapbox"
           }
          ],
          "scatterpolar": [
           {
            "marker": {
             "colorbar": {
              "outlinewidth": 0,
              "ticks": ""
             }
            },
            "type": "scatterpolar"
           }
          ],
          "scatterpolargl": [
           {
            "marker": {
             "colorbar": {
              "outlinewidth": 0,
              "ticks": ""
             }
            },
            "type": "scatterpolargl"
           }
          ],
          "scatterternary": [
           {
            "marker": {
             "colorbar": {
              "outlinewidth": 0,
              "ticks": ""
             }
            },
            "type": "scatterternary"
           }
          ],
          "surface": [
           {
            "colorbar": {
             "outlinewidth": 0,
             "ticks": ""
            },
            "colorscale": [
             [
              0,
              "#0d0887"
             ],
             [
              0.1111111111111111,
              "#46039f"
             ],
             [
              0.2222222222222222,
              "#7201a8"
             ],
             [
              0.3333333333333333,
              "#9c179e"
             ],
             [
              0.4444444444444444,
              "#bd3786"
             ],
             [
              0.5555555555555556,
              "#d8576b"
             ],
             [
              0.6666666666666666,
              "#ed7953"
             ],
             [
              0.7777777777777778,
              "#fb9f3a"
             ],
             [
              0.8888888888888888,
              "#fdca26"
             ],
             [
              1,
              "#f0f921"
             ]
            ],
            "type": "surface"
           }
          ],
          "table": [
           {
            "cells": {
             "fill": {
              "color": "#506784"
             },
             "line": {
              "color": "rgb(17,17,17)"
             }
            },
            "header": {
             "fill": {
              "color": "#2a3f5f"
             },
             "line": {
              "color": "rgb(17,17,17)"
             }
            },
            "type": "table"
           }
          ]
         },
         "layout": {
          "annotationdefaults": {
           "arrowcolor": "#f2f5fa",
           "arrowhead": 0,
           "arrowwidth": 1
          },
          "coloraxis": {
           "colorbar": {
            "outlinewidth": 0,
            "ticks": ""
           }
          },
          "colorscale": {
           "diverging": [
            [
             0,
             "#8e0152"
            ],
            [
             0.1,
             "#c51b7d"
            ],
            [
             0.2,
             "#de77ae"
            ],
            [
             0.3,
             "#f1b6da"
            ],
            [
             0.4,
             "#fde0ef"
            ],
            [
             0.5,
             "#f7f7f7"
            ],
            [
             0.6,
             "#e6f5d0"
            ],
            [
             0.7,
             "#b8e186"
            ],
            [
             0.8,
             "#7fbc41"
            ],
            [
             0.9,
             "#4d9221"
            ],
            [
             1,
             "#276419"
            ]
           ],
           "sequential": [
            [
             0,
             "#0d0887"
            ],
            [
             0.1111111111111111,
             "#46039f"
            ],
            [
             0.2222222222222222,
             "#7201a8"
            ],
            [
             0.3333333333333333,
             "#9c179e"
            ],
            [
             0.4444444444444444,
             "#bd3786"
            ],
            [
             0.5555555555555556,
             "#d8576b"
            ],
            [
             0.6666666666666666,
             "#ed7953"
            ],
            [
             0.7777777777777778,
             "#fb9f3a"
            ],
            [
             0.8888888888888888,
             "#fdca26"
            ],
            [
             1,
             "#f0f921"
            ]
           ],
           "sequentialminus": [
            [
             0,
             "#0d0887"
            ],
            [
             0.1111111111111111,
             "#46039f"
            ],
            [
             0.2222222222222222,
             "#7201a8"
            ],
            [
             0.3333333333333333,
             "#9c179e"
            ],
            [
             0.4444444444444444,
             "#bd3786"
            ],
            [
             0.5555555555555556,
             "#d8576b"
            ],
            [
             0.6666666666666666,
             "#ed7953"
            ],
            [
             0.7777777777777778,
             "#fb9f3a"
            ],
            [
             0.8888888888888888,
             "#fdca26"
            ],
            [
             1,
             "#f0f921"
            ]
           ]
          },
          "colorway": [
           "#636efa",
           "#EF553B",
           "#00cc96",
           "#ab63fa",
           "#FFA15A",
           "#19d3f3",
           "#FF6692",
           "#B6E880",
           "#FF97FF",
           "#FECB52"
          ],
          "font": {
           "color": "#f2f5fa"
          },
          "geo": {
           "bgcolor": "rgb(17,17,17)",
           "lakecolor": "rgb(17,17,17)",
           "landcolor": "rgb(17,17,17)",
           "showlakes": true,
           "showland": true,
           "subunitcolor": "#506784"
          },
          "hoverlabel": {
           "align": "left"
          },
          "hovermode": "closest",
          "mapbox": {
           "style": "dark"
          },
          "paper_bgcolor": "rgb(17,17,17)",
          "plot_bgcolor": "rgb(17,17,17)",
          "polar": {
           "angularaxis": {
            "gridcolor": "#506784",
            "linecolor": "#506784",
            "ticks": ""
           },
           "bgcolor": "rgb(17,17,17)",
           "radialaxis": {
            "gridcolor": "#506784",
            "linecolor": "#506784",
            "ticks": ""
           }
          },
          "scene": {
           "xaxis": {
            "backgroundcolor": "rgb(17,17,17)",
            "gridcolor": "#506784",
            "gridwidth": 2,
            "linecolor": "#506784",
            "showbackground": true,
            "ticks": "",
            "zerolinecolor": "#C8D4E3"
           },
           "yaxis": {
            "backgroundcolor": "rgb(17,17,17)",
            "gridcolor": "#506784",
            "gridwidth": 2,
            "linecolor": "#506784",
            "showbackground": true,
            "ticks": "",
            "zerolinecolor": "#C8D4E3"
           },
           "zaxis": {
            "backgroundcolor": "rgb(17,17,17)",
            "gridcolor": "#506784",
            "gridwidth": 2,
            "linecolor": "#506784",
            "showbackground": true,
            "ticks": "",
            "zerolinecolor": "#C8D4E3"
           }
          },
          "shapedefaults": {
           "line": {
            "color": "#f2f5fa"
           }
          },
          "sliderdefaults": {
           "bgcolor": "#C8D4E3",
           "bordercolor": "rgb(17,17,17)",
           "borderwidth": 1,
           "tickwidth": 0
          },
          "ternary": {
           "aaxis": {
            "gridcolor": "#506784",
            "linecolor": "#506784",
            "ticks": ""
           },
           "baxis": {
            "gridcolor": "#506784",
            "linecolor": "#506784",
            "ticks": ""
           },
           "bgcolor": "rgb(17,17,17)",
           "caxis": {
            "gridcolor": "#506784",
            "linecolor": "#506784",
            "ticks": ""
           }
          },
          "title": {
           "x": 0.05
          },
          "updatemenudefaults": {
           "bgcolor": "#506784",
           "borderwidth": 0
          },
          "xaxis": {
           "automargin": true,
           "gridcolor": "#283442",
           "linecolor": "#506784",
           "ticks": "",
           "title": {
            "standoff": 15
           },
           "zerolinecolor": "#283442",
           "zerolinewidth": 2
          },
          "yaxis": {
           "automargin": true,
           "gridcolor": "#283442",
           "linecolor": "#506784",
           "ticks": "",
           "title": {
            "standoff": 15
           },
           "zerolinecolor": "#283442",
           "zerolinewidth": 2
          }
         }
        },
        "width": 1200,
        "xaxis": {
         "anchor": "y",
         "domain": [
          0,
          1
         ],
         "tickmode": "array",
         "title": {
          "font": {
           "size": 14
          },
          "text": "Yearly Availability (out 365 days)"
         }
        },
        "yaxis": {
         "anchor": "x",
         "domain": [
          0,
          1
         ],
         "tickmode": "array",
         "title": {
          "font": {
           "size": 14
          },
          "text": "Airbnb London Neighbourhood"
         }
        }
       }
      }
     },
     "metadata": {}
    }
   ],
   "source": [
    "custom_bar(neighbourhood_avgs['Yearly Availability (out 365 days)'], \"Airbnb London Neighbourhood\", \"Yearly Availability (out 365 days)\")"
   ]
  },
  {
   "cell_type": "code",
   "execution_count": 34,
   "metadata": {},
   "outputs": [
    {
     "output_type": "display_data",
     "data": {
      "application/vnd.plotly.v1+json": {
       "config": {
        "plotlyServerURL": "https://plot.ly"
       },
       "data": [
        {
         "hovertemplate": "neighbourhood=%{text}<br>Avg. No of Host Owned Listings=%{x}<br>Yearly Availability (out 365 days)=%{y}<br>Avg. Listing Price (£)=%{marker.size}<extra></extra>",
         "legendgroup": "Barking and Dagenham",
         "marker": {
          "color": "#636efa",
          "size": [
           59.833333333333336
          ],
          "sizemode": "area",
          "sizeref": 0.26187736766234204,
          "symbol": "circle"
         },
         "mode": "markers+text",
         "name": "Barking and Dagenham",
         "orientation": "v",
         "showlegend": true,
         "text": [
          "Barking and Dagenham"
         ],
         "textposition": "top center",
         "type": "scatter",
         "x": [
          2.515151515151515
         ],
         "xaxis": "x",
         "y": [
          136.9419191919192
         ],
         "yaxis": "y"
        },
        {
         "hovertemplate": "neighbourhood=%{text}<br>Avg. No of Host Owned Listings=%{x}<br>Yearly Availability (out 365 days)=%{y}<br>Avg. Listing Price (£)=%{marker.size}<extra></extra>",
         "legendgroup": "Barnet",
         "marker": {
          "color": "#EF553B",
          "size": [
           93.64011976047904
          ],
          "sizemode": "area",
          "sizeref": 0.26187736766234204,
          "symbol": "circle"
         },
         "mode": "markers+text",
         "name": "Barnet",
         "orientation": "v",
         "showlegend": true,
         "text": [
          "Barnet"
         ],
         "textposition": "top center",
         "type": "scatter",
         "x": [
          11.7
         ],
         "xaxis": "x",
         "y": [
          137.13892215568862
         ],
         "yaxis": "y"
        },
        {
         "hovertemplate": "neighbourhood=%{text}<br>Avg. No of Host Owned Listings=%{x}<br>Yearly Availability (out 365 days)=%{y}<br>Avg. Listing Price (£)=%{marker.size}<extra></extra>",
         "legendgroup": "Bexley",
         "marker": {
          "color": "#00cc96",
          "size": [
           57.452107279693486
          ],
          "sizemode": "area",
          "sizeref": 0.26187736766234204,
          "symbol": "circle"
         },
         "mode": "markers+text",
         "name": "Bexley",
         "orientation": "v",
         "showlegend": true,
         "text": [
          "Bexley"
         ],
         "textposition": "top center",
         "type": "scatter",
         "x": [
          2.2337164750957856
         ],
         "xaxis": "x",
         "y": [
          145.83908045977012
         ],
         "yaxis": "y"
        },
        {
         "hovertemplate": "neighbourhood=%{text}<br>Avg. No of Host Owned Listings=%{x}<br>Yearly Availability (out 365 days)=%{y}<br>Avg. Listing Price (£)=%{marker.size}<extra></extra>",
         "legendgroup": "Brent",
         "marker": {
          "color": "#ab63fa",
          "size": [
           102.21919385796545
          ],
          "sizemode": "area",
          "sizeref": 0.26187736766234204,
          "symbol": "circle"
         },
         "mode": "markers+text",
         "name": "Brent",
         "orientation": "v",
         "showlegend": true,
         "text": [
          "Brent"
         ],
         "textposition": "top center",
         "type": "scatter",
         "x": [
          18.88637236084453
         ],
         "xaxis": "x",
         "y": [
          119.41612284069097
         ],
         "yaxis": "y"
        },
        {
         "hovertemplate": "neighbourhood=%{text}<br>Avg. No of Host Owned Listings=%{x}<br>Yearly Availability (out 365 days)=%{y}<br>Avg. Listing Price (£)=%{marker.size}<extra></extra>",
         "legendgroup": "Bromley",
         "marker": {
          "color": "#FFA15A",
          "size": [
           65.46177370030581
          ],
          "sizemode": "area",
          "sizeref": 0.26187736766234204,
          "symbol": "circle"
         },
         "mode": "markers+text",
         "name": "Bromley",
         "orientation": "v",
         "showlegend": true,
         "text": [
          "Bromley"
         ],
         "textposition": "top center",
         "type": "scatter",
         "x": [
          2.102446483180428
         ],
         "xaxis": "x",
         "y": [
          131.18195718654434
         ],
         "yaxis": "y"
        },
        {
         "hovertemplate": "neighbourhood=%{text}<br>Avg. No of Host Owned Listings=%{x}<br>Yearly Availability (out 365 days)=%{y}<br>Avg. Listing Price (£)=%{marker.size}<extra></extra>",
         "legendgroup": "Camden",
         "marker": {
          "color": "#19d3f3",
          "size": [
           153.16610603876342
          ],
          "sizemode": "area",
          "sizeref": 0.26187736766234204,
          "symbol": "circle"
         },
         "mode": "markers+text",
         "name": "Camden",
         "orientation": "v",
         "showlegend": true,
         "text": [
          "Camden"
         ],
         "textposition": "top center",
         "type": "scatter",
         "x": [
          26.85695979497037
         ],
         "xaxis": "x",
         "y": [
          126.73714560307545
         ],
         "yaxis": "y"
        },
        {
         "hovertemplate": "neighbourhood=%{text}<br>Avg. No of Host Owned Listings=%{x}<br>Yearly Availability (out 365 days)=%{y}<br>Avg. Listing Price (£)=%{marker.size}<extra></extra>",
         "legendgroup": "City of London",
         "marker": {
          "color": "#FF6692",
          "size": [
           188.5397148676171
          ],
          "sizemode": "area",
          "sizeref": 0.26187736766234204,
          "symbol": "circle"
         },
         "mode": "markers+text",
         "name": "City of London",
         "orientation": "v",
         "showlegend": true,
         "text": [
          "City of London"
         ],
         "textposition": "top center",
         "type": "scatter",
         "x": [
          27.780040733197556
         ],
         "xaxis": "x",
         "y": [
          189.9042769857434
         ],
         "yaxis": "y"
        },
        {
         "hovertemplate": "neighbourhood=%{text}<br>Avg. No of Host Owned Listings=%{x}<br>Yearly Availability (out 365 days)=%{y}<br>Avg. Listing Price (£)=%{marker.size}<extra></extra>",
         "legendgroup": "Croydon",
         "marker": {
          "color": "#B6E880",
          "size": [
           59.144821264894595
          ],
          "sizemode": "area",
          "sizeref": 0.26187736766234204,
          "symbol": "circle"
         },
         "mode": "markers+text",
         "name": "Croydon",
         "orientation": "v",
         "showlegend": true,
         "text": [
          "Croydon"
         ],
         "textposition": "top center",
         "type": "scatter",
         "x": [
          2.852428964252979
         ],
         "xaxis": "x",
         "y": [
          129.18790100824933
         ],
         "yaxis": "y"
        },
        {
         "hovertemplate": "neighbourhood=%{text}<br>Avg. No of Host Owned Listings=%{x}<br>Yearly Availability (out 365 days)=%{y}<br>Avg. Listing Price (£)=%{marker.size}<extra></extra>",
         "legendgroup": "Ealing",
         "marker": {
          "color": "#FF97FF",
          "size": [
           90.21620111731843
          ],
          "sizemode": "area",
          "sizeref": 0.26187736766234204,
          "symbol": "circle"
         },
         "mode": "markers+text",
         "name": "Ealing",
         "orientation": "v",
         "showlegend": true,
         "text": [
          "Ealing"
         ],
         "textposition": "top center",
         "type": "scatter",
         "x": [
          10.692737430167599
         ],
         "xaxis": "x",
         "y": [
          117.32849162011173
         ],
         "yaxis": "y"
        },
        {
         "hovertemplate": "neighbourhood=%{text}<br>Avg. No of Host Owned Listings=%{x}<br>Yearly Availability (out 365 days)=%{y}<br>Avg. Listing Price (£)=%{marker.size}<extra></extra>",
         "legendgroup": "Enfield",
         "marker": {
          "color": "#FECB52",
          "size": [
           66.44084507042254
          ],
          "sizemode": "area",
          "sizeref": 0.26187736766234204,
          "symbol": "circle"
         },
         "mode": "markers+text",
         "name": "Enfield",
         "orientation": "v",
         "showlegend": true,
         "text": [
          "Enfield"
         ],
         "textposition": "top center",
         "type": "scatter",
         "x": [
          3.832394366197183
         ],
         "xaxis": "x",
         "y": [
          148.75352112676057
         ],
         "yaxis": "y"
        },
        {
         "hovertemplate": "neighbourhood=%{text}<br>Avg. No of Host Owned Listings=%{x}<br>Yearly Availability (out 365 days)=%{y}<br>Avg. Listing Price (£)=%{marker.size}<extra></extra>",
         "legendgroup": "Greenwich",
         "marker": {
          "color": "#636efa",
          "size": [
           90.27764976958525
          ],
          "sizemode": "area",
          "sizeref": 0.26187736766234204,
          "symbol": "circle"
         },
         "mode": "markers+text",
         "name": "Greenwich",
         "orientation": "v",
         "showlegend": true,
         "text": [
          "Greenwich"
         ],
         "textposition": "top center",
         "type": "scatter",
         "x": [
          8.006336405529954
         ],
         "xaxis": "x",
         "y": [
          123.76440092165899
         ],
         "yaxis": "y"
        },
        {
         "hovertemplate": "neighbourhood=%{text}<br>Avg. No of Host Owned Listings=%{x}<br>Yearly Availability (out 365 days)=%{y}<br>Avg. Listing Price (£)=%{marker.size}<extra></extra>",
         "legendgroup": "Hackney",
         "marker": {
          "color": "#EF553B",
          "size": [
           94.47423510466989
          ],
          "sizemode": "area",
          "sizeref": 0.26187736766234204,
          "symbol": "circle"
         },
         "mode": "markers+text",
         "name": "Hackney",
         "orientation": "v",
         "showlegend": true,
         "text": [
          "Hackney"
         ],
         "textposition": "top center",
         "type": "scatter",
         "x": [
          13.782608695652174
         ],
         "xaxis": "x",
         "y": [
          78.5207729468599
         ],
         "yaxis": "y"
        },
        {
         "hovertemplate": "neighbourhood=%{text}<br>Avg. No of Host Owned Listings=%{x}<br>Yearly Availability (out 365 days)=%{y}<br>Avg. Listing Price (£)=%{marker.size}<extra></extra>",
         "legendgroup": "Hammersmith and Fulham",
         "marker": {
          "color": "#00cc96",
          "size": [
           148.19513347507677
          ],
          "sizemode": "area",
          "sizeref": 0.26187736766234204,
          "symbol": "circle"
         },
         "mode": "markers+text",
         "name": "Hammersmith and Fulham",
         "orientation": "v",
         "showlegend": true,
         "text": [
          "Hammersmith and Fulham"
         ],
         "textposition": "top center",
         "type": "scatter",
         "x": [
          38.95676824946846
         ],
         "xaxis": "x",
         "y": [
          116.88589652728561
         ],
         "yaxis": "y"
        },
        {
         "hovertemplate": "neighbourhood=%{text}<br>Avg. No of Host Owned Listings=%{x}<br>Yearly Availability (out 365 days)=%{y}<br>Avg. Listing Price (£)=%{marker.size}<extra></extra>",
         "legendgroup": "Haringey",
         "marker": {
          "color": "#ab63fa",
          "size": [
           91.63546798029557
          ],
          "sizemode": "area",
          "sizeref": 0.26187736766234204,
          "symbol": "circle"
         },
         "mode": "markers+text",
         "name": "Haringey",
         "orientation": "v",
         "showlegend": true,
         "text": [
          "Haringey"
         ],
         "textposition": "top center",
         "type": "scatter",
         "x": [
          12.717868338557993
         ],
         "xaxis": "x",
         "y": [
          96.13255709807434
         ],
         "yaxis": "y"
        },
        {
         "hovertemplate": "neighbourhood=%{text}<br>Avg. No of Host Owned Listings=%{x}<br>Yearly Availability (out 365 days)=%{y}<br>Avg. Listing Price (£)=%{marker.size}<extra></extra>",
         "legendgroup": "Harrow",
         "marker": {
          "color": "#FFA15A",
          "size": [
           78.04228329809725
          ],
          "sizemode": "area",
          "sizeref": 0.26187736766234204,
          "symbol": "circle"
         },
         "mode": "markers+text",
         "name": "Harrow",
         "orientation": "v",
         "showlegend": true,
         "text": [
          "Harrow"
         ],
         "textposition": "top center",
         "type": "scatter",
         "x": [
          3.295983086680761
         ],
         "xaxis": "x",
         "y": [
          152.9598308668076
         ],
         "yaxis": "y"
        },
        {
         "hovertemplate": "neighbourhood=%{text}<br>Avg. No of Host Owned Listings=%{x}<br>Yearly Availability (out 365 days)=%{y}<br>Avg. Listing Price (£)=%{marker.size}<extra></extra>",
         "legendgroup": "Havering",
         "marker": {
          "color": "#19d3f3",
          "size": [
           67.67578125
          ],
          "sizemode": "area",
          "sizeref": 0.26187736766234204,
          "symbol": "circle"
         },
         "mode": "markers+text",
         "name": "Havering",
         "orientation": "v",
         "showlegend": true,
         "text": [
          "Havering"
         ],
         "textposition": "top center",
         "type": "scatter",
         "x": [
          4.94921875
         ],
         "xaxis": "x",
         "y": [
          149.04296875
         ],
         "yaxis": "y"
        },
        {
         "hovertemplate": "neighbourhood=%{text}<br>Avg. No of Host Owned Listings=%{x}<br>Yearly Availability (out 365 days)=%{y}<br>Avg. Listing Price (£)=%{marker.size}<extra></extra>",
         "legendgroup": "Hillingdon",
         "marker": {
          "color": "#FF6692",
          "size": [
           68.27777777777777
          ],
          "sizemode": "area",
          "sizeref": 0.26187736766234204,
          "symbol": "circle"
         },
         "mode": "markers+text",
         "name": "Hillingdon",
         "orientation": "v",
         "showlegend": true,
         "text": [
          "Hillingdon"
         ],
         "textposition": "top center",
         "type": "scatter",
         "x": [
          7.513513513513513
         ],
         "xaxis": "x",
         "y": [
          161.30780780780782
         ],
         "yaxis": "y"
        },
        {
         "hovertemplate": "neighbourhood=%{text}<br>Avg. No of Host Owned Listings=%{x}<br>Yearly Availability (out 365 days)=%{y}<br>Avg. Listing Price (£)=%{marker.size}<extra></extra>",
         "legendgroup": "Hounslow",
         "marker": {
          "color": "#B6E880",
          "size": [
           108.50950226244343
          ],
          "sizemode": "area",
          "sizeref": 0.26187736766234204,
          "symbol": "circle"
         },
         "mode": "markers+text",
         "name": "Hounslow",
         "orientation": "v",
         "showlegend": true,
         "text": [
          "Hounslow"
         ],
         "textposition": "top center",
         "type": "scatter",
         "x": [
          23.638009049773757
         ],
         "xaxis": "x",
         "y": [
          120.87511312217194
         ],
         "yaxis": "y"
        },
        {
         "hovertemplate": "neighbourhood=%{text}<br>Avg. No of Host Owned Listings=%{x}<br>Yearly Availability (out 365 days)=%{y}<br>Avg. Listing Price (£)=%{marker.size}<extra></extra>",
         "legendgroup": "Islington",
         "marker": {
          "color": "#FF97FF",
          "size": [
           117.31201434548714
          ],
          "sizemode": "area",
          "sizeref": 0.26187736766234204,
          "symbol": "circle"
         },
         "mode": "markers+text",
         "name": "Islington",
         "orientation": "v",
         "showlegend": true,
         "text": [
          "Islington"
         ],
         "textposition": "top center",
         "type": "scatter",
         "x": [
          24.33791591950588
         ],
         "xaxis": "x",
         "y": [
          89.85694361426579
         ],
         "yaxis": "y"
        },
        {
         "hovertemplate": "neighbourhood=%{text}<br>Avg. No of Host Owned Listings=%{x}<br>Yearly Availability (out 365 days)=%{y}<br>Avg. Listing Price (£)=%{marker.size}<extra></extra>",
         "legendgroup": "Kensington and Chelsea",
         "marker": {
          "color": "#FECB52",
          "size": [
           217.89949004770523
          ],
          "sizemode": "area",
          "sizeref": 0.26187736766234204,
          "symbol": "circle"
         },
         "mode": "markers+text",
         "name": "Kensington and Chelsea",
         "orientation": "v",
         "showlegend": true,
         "text": [
          "Kensington and Chelsea"
         ],
         "textposition": "top center",
         "type": "scatter",
         "x": [
          42.44777101496957
         ],
         "xaxis": "x",
         "y": [
          149.47458463563086
         ],
         "yaxis": "y"
        },
        {
         "hovertemplate": "neighbourhood=%{text}<br>Avg. No of Host Owned Listings=%{x}<br>Yearly Availability (out 365 days)=%{y}<br>Avg. Listing Price (£)=%{marker.size}<extra></extra>",
         "legendgroup": "Kingston upon Thames",
         "marker": {
          "color": "#636efa",
          "size": [
           82.38545454545455
          ],
          "sizemode": "area",
          "sizeref": 0.26187736766234204,
          "symbol": "circle"
         },
         "mode": "markers+text",
         "name": "Kingston upon Thames",
         "orientation": "v",
         "showlegend": true,
         "text": [
          "Kingston upon Thames"
         ],
         "textposition": "top center",
         "type": "scatter",
         "x": [
          4.08
         ],
         "xaxis": "x",
         "y": [
          100.9090909090909
         ],
         "yaxis": "y"
        },
        {
         "hovertemplate": "neighbourhood=%{text}<br>Avg. No of Host Owned Listings=%{x}<br>Yearly Availability (out 365 days)=%{y}<br>Avg. Listing Price (£)=%{marker.size}<extra></extra>",
         "legendgroup": "Lambeth",
         "marker": {
          "color": "#EF553B",
          "size": [
           100.72116369596394
          ],
          "sizemode": "area",
          "sizeref": 0.26187736766234204,
          "symbol": "circle"
         },
         "mode": "markers+text",
         "name": "Lambeth",
         "orientation": "v",
         "showlegend": true,
         "text": [
          "Lambeth"
         ],
         "textposition": "top center",
         "type": "scatter",
         "x": [
          16.120467117393975
         ],
         "xaxis": "x",
         "y": [
          98.52489244007376
         ],
         "yaxis": "y"
        },
        {
         "hovertemplate": "neighbourhood=%{text}<br>Avg. No of Host Owned Listings=%{x}<br>Yearly Availability (out 365 days)=%{y}<br>Avg. Listing Price (£)=%{marker.size}<extra></extra>",
         "legendgroup": "Lewisham",
         "marker": {
          "color": "#00cc96",
          "size": [
           70.13069647463456
          ],
          "sizemode": "area",
          "sizeref": 0.26187736766234204,
          "symbol": "circle"
         },
         "mode": "markers+text",
         "name": "Lewisham",
         "orientation": "v",
         "showlegend": true,
         "text": [
          "Lewisham"
         ],
         "textposition": "top center",
         "type": "scatter",
         "x": [
          3.1371453138435084
         ],
         "xaxis": "x",
         "y": [
          92.7274290627687
         ],
         "yaxis": "y"
        },
        {
         "hovertemplate": "neighbourhood=%{text}<br>Avg. No of Host Owned Listings=%{x}<br>Yearly Availability (out 365 days)=%{y}<br>Avg. Listing Price (£)=%{marker.size}<extra></extra>",
         "legendgroup": "Merton",
         "marker": {
          "color": "#ab63fa",
          "size": [
           115.73607038123167
          ],
          "sizemode": "area",
          "sizeref": 0.26187736766234204,
          "symbol": "circle"
         },
         "mode": "markers+text",
         "name": "Merton",
         "orientation": "v",
         "showlegend": true,
         "text": [
          "Merton"
         ],
         "textposition": "top center",
         "type": "scatter",
         "x": [
          32.31818181818182
         ],
         "xaxis": "x",
         "y": [
          104.30645161290323
         ],
         "yaxis": "y"
        },
        {
         "hovertemplate": "neighbourhood=%{text}<br>Avg. No of Host Owned Listings=%{x}<br>Yearly Availability (out 365 days)=%{y}<br>Avg. Listing Price (£)=%{marker.size}<extra></extra>",
         "legendgroup": "Newham",
         "marker": {
          "color": "#FFA15A",
          "size": [
           83.3732496378561
          ],
          "sizemode": "area",
          "sizeref": 0.26187736766234204,
          "symbol": "circle"
         },
         "mode": "markers+text",
         "name": "Newham",
         "orientation": "v",
         "showlegend": true,
         "text": [
          "Newham"
         ],
         "textposition": "top center",
         "type": "scatter",
         "x": [
          5.700144857556736
         ],
         "xaxis": "x",
         "y": [
          119.59536455818446
         ],
         "yaxis": "y"
        },
        {
         "hovertemplate": "neighbourhood=%{text}<br>Avg. No of Host Owned Listings=%{x}<br>Yearly Availability (out 365 days)=%{y}<br>Avg. Listing Price (£)=%{marker.size}<extra></extra>",
         "legendgroup": "Redbridge",
         "marker": {
          "color": "#19d3f3",
          "size": [
           70.68484042553192
          ],
          "sizemode": "area",
          "sizeref": 0.26187736766234204,
          "symbol": "circle"
         },
         "mode": "markers+text",
         "name": "Redbridge",
         "orientation": "v",
         "showlegend": true,
         "text": [
          "Redbridge"
         ],
         "textposition": "top center",
         "type": "scatter",
         "x": [
          4.264627659574468
         ],
         "xaxis": "x",
         "y": [
          151.66755319148936
         ],
         "yaxis": "y"
        },
        {
         "hovertemplate": "neighbourhood=%{text}<br>Avg. No of Host Owned Listings=%{x}<br>Yearly Availability (out 365 days)=%{y}<br>Avg. Listing Price (£)=%{marker.size}<extra></extra>",
         "legendgroup": "Richmond upon Thames",
         "marker": {
          "color": "#FF6692",
          "size": [
           129.76499589153656
          ],
          "sizemode": "area",
          "sizeref": 0.26187736766234204,
          "symbol": "circle"
         },
         "mode": "markers+text",
         "name": "Richmond upon Thames",
         "orientation": "v",
         "showlegend": true,
         "text": [
          "Richmond upon Thames"
         ],
         "textposition": "top center",
         "type": "scatter",
         "x": [
          29.686113393590798
         ],
         "xaxis": "x",
         "y": [
          112.1380443714051
         ],
         "yaxis": "y"
        },
        {
         "hovertemplate": "neighbourhood=%{text}<br>Avg. No of Host Owned Listings=%{x}<br>Yearly Availability (out 365 days)=%{y}<br>Avg. Listing Price (£)=%{marker.size}<extra></extra>",
         "legendgroup": "Southwark",
         "marker": {
          "color": "#B6E880",
          "size": [
           124.19951583619124
          ],
          "sizemode": "area",
          "sizeref": 0.26187736766234204,
          "symbol": "circle"
         },
         "mode": "markers+text",
         "name": "Southwark",
         "orientation": "v",
         "showlegend": true,
         "text": [
          "Southwark"
         ],
         "textposition": "top center",
         "type": "scatter",
         "x": [
          10.652612467218075
         ],
         "xaxis": "x",
         "y": [
          95.87028444623765
         ],
         "yaxis": "y"
        },
        {
         "hovertemplate": "neighbourhood=%{text}<br>Avg. No of Host Owned Listings=%{x}<br>Yearly Availability (out 365 days)=%{y}<br>Avg. Listing Price (£)=%{marker.size}<extra></extra>",
         "legendgroup": "Sutton",
         "marker": {
          "color": "#FF97FF",
          "size": [
           85.09748427672956
          ],
          "sizemode": "area",
          "sizeref": 0.26187736766234204,
          "symbol": "circle"
         },
         "mode": "markers+text",
         "name": "Sutton",
         "orientation": "v",
         "showlegend": true,
         "text": [
          "Sutton"
         ],
         "textposition": "top center",
         "type": "scatter",
         "x": [
          1.921383647798742
         ],
         "xaxis": "x",
         "y": [
          124.30188679245283
         ],
         "yaxis": "y"
        },
        {
         "hovertemplate": "neighbourhood=%{text}<br>Avg. No of Host Owned Listings=%{x}<br>Yearly Availability (out 365 days)=%{y}<br>Avg. Listing Price (£)=%{marker.size}<extra></extra>",
         "legendgroup": "Tower Hamlets",
         "marker": {
          "color": "#FECB52",
          "size": [
           95.73116211993751
          ],
          "sizemode": "area",
          "sizeref": 0.26187736766234204,
          "symbol": "circle"
         },
         "mode": "markers+text",
         "name": "Tower Hamlets",
         "orientation": "v",
         "showlegend": true,
         "text": [
          "Tower Hamlets"
         ],
         "textposition": "top center",
         "type": "scatter",
         "x": [
          21.671313544045187
         ],
         "xaxis": "x",
         "y": [
          111.22761687297199
         ],
         "yaxis": "y"
        },
        {
         "hovertemplate": "neighbourhood=%{text}<br>Avg. No of Host Owned Listings=%{x}<br>Yearly Availability (out 365 days)=%{y}<br>Avg. Listing Price (£)=%{marker.size}<extra></extra>",
         "legendgroup": "Waltham Forest",
         "marker": {
          "color": "#636efa",
          "size": [
           70.8340108401084
          ],
          "sizemode": "area",
          "sizeref": 0.26187736766234204,
          "symbol": "circle"
         },
         "mode": "markers+text",
         "name": "Waltham Forest",
         "orientation": "v",
         "showlegend": true,
         "text": [
          "Waltham Forest"
         ],
         "textposition": "top center",
         "type": "scatter",
         "x": [
          3.769647696476965
         ],
         "xaxis": "x",
         "y": [
          108.91734417344173
         ],
         "yaxis": "y"
        },
        {
         "hovertemplate": "neighbourhood=%{text}<br>Avg. No of Host Owned Listings=%{x}<br>Yearly Availability (out 365 days)=%{y}<br>Avg. Listing Price (£)=%{marker.size}<extra></extra>",
         "legendgroup": "Wandsworth",
         "marker": {
          "color": "#EF553B",
          "size": [
           124.25651255573808
          ],
          "sizemode": "area",
          "sizeref": 0.26187736766234204,
          "symbol": "circle"
         },
         "mode": "markers+text",
         "name": "Wandsworth",
         "orientation": "v",
         "showlegend": true,
         "text": [
          "Wandsworth"
         ],
         "textposition": "top center",
         "type": "scatter",
         "x": [
          37.81459751232105
         ],
         "xaxis": "x",
         "y": [
          86.62966439802864
         ],
         "yaxis": "y"
        },
        {
         "hovertemplate": "neighbourhood=%{text}<br>Avg. No of Host Owned Listings=%{x}<br>Yearly Availability (out 365 days)=%{y}<br>Avg. Listing Price (£)=%{marker.size}<extra></extra>",
         "legendgroup": "Westminster",
         "marker": {
          "color": "#00cc96",
          "size": [
           235.68963089610781
          ],
          "sizemode": "area",
          "sizeref": 0.26187736766234204,
          "symbol": "circle"
         },
         "mode": "markers+text",
         "name": "Westminster",
         "orientation": "v",
         "showlegend": true,
         "text": [
          "Westminster"
         ],
         "textposition": "top center",
         "type": "scatter",
         "x": [
          24.50417379060646
         ],
         "xaxis": "x",
         "y": [
          150.95071909886352
         ],
         "yaxis": "y"
        }
       ],
       "layout": {
        "autosize": false,
        "height": 800,
        "legend": {
         "itemsizing": "constant",
         "title": {
          "text": "neighbourhood"
         },
         "tracegroupgap": 0
        },
        "margin": {
         "t": 60
        },
        "showlegend": false,
        "template": {
         "data": {
          "bar": [
           {
            "error_x": {
             "color": "#f2f5fa"
            },
            "error_y": {
             "color": "#f2f5fa"
            },
            "marker": {
             "line": {
              "color": "rgb(17,17,17)",
              "width": 0.5
             }
            },
            "type": "bar"
           }
          ],
          "barpolar": [
           {
            "marker": {
             "line": {
              "color": "rgb(17,17,17)",
              "width": 0.5
             }
            },
            "type": "barpolar"
           }
          ],
          "carpet": [
           {
            "aaxis": {
             "endlinecolor": "#A2B1C6",
             "gridcolor": "#506784",
             "linecolor": "#506784",
             "minorgridcolor": "#506784",
             "startlinecolor": "#A2B1C6"
            },
            "baxis": {
             "endlinecolor": "#A2B1C6",
             "gridcolor": "#506784",
             "linecolor": "#506784",
             "minorgridcolor": "#506784",
             "startlinecolor": "#A2B1C6"
            },
            "type": "carpet"
           }
          ],
          "choropleth": [
           {
            "colorbar": {
             "outlinewidth": 0,
             "ticks": ""
            },
            "type": "choropleth"
           }
          ],
          "contour": [
           {
            "colorbar": {
             "outlinewidth": 0,
             "ticks": ""
            },
            "colorscale": [
             [
              0,
              "#0d0887"
             ],
             [
              0.1111111111111111,
              "#46039f"
             ],
             [
              0.2222222222222222,
              "#7201a8"
             ],
             [
              0.3333333333333333,
              "#9c179e"
             ],
             [
              0.4444444444444444,
              "#bd3786"
             ],
             [
              0.5555555555555556,
              "#d8576b"
             ],
             [
              0.6666666666666666,
              "#ed7953"
             ],
             [
              0.7777777777777778,
              "#fb9f3a"
             ],
             [
              0.8888888888888888,
              "#fdca26"
             ],
             [
              1,
              "#f0f921"
             ]
            ],
            "type": "contour"
           }
          ],
          "contourcarpet": [
           {
            "colorbar": {
             "outlinewidth": 0,
             "ticks": ""
            },
            "type": "contourcarpet"
           }
          ],
          "heatmap": [
           {
            "colorbar": {
             "outlinewidth": 0,
             "ticks": ""
            },
            "colorscale": [
             [
              0,
              "#0d0887"
             ],
             [
              0.1111111111111111,
              "#46039f"
             ],
             [
              0.2222222222222222,
              "#7201a8"
             ],
             [
              0.3333333333333333,
              "#9c179e"
             ],
             [
              0.4444444444444444,
              "#bd3786"
             ],
             [
              0.5555555555555556,
              "#d8576b"
             ],
             [
              0.6666666666666666,
              "#ed7953"
             ],
             [
              0.7777777777777778,
              "#fb9f3a"
             ],
             [
              0.8888888888888888,
              "#fdca26"
             ],
             [
              1,
              "#f0f921"
             ]
            ],
            "type": "heatmap"
           }
          ],
          "heatmapgl": [
           {
            "colorbar": {
             "outlinewidth": 0,
             "ticks": ""
            },
            "colorscale": [
             [
              0,
              "#0d0887"
             ],
             [
              0.1111111111111111,
              "#46039f"
             ],
             [
              0.2222222222222222,
              "#7201a8"
             ],
             [
              0.3333333333333333,
              "#9c179e"
             ],
             [
              0.4444444444444444,
              "#bd3786"
             ],
             [
              0.5555555555555556,
              "#d8576b"
             ],
             [
              0.6666666666666666,
              "#ed7953"
             ],
             [
              0.7777777777777778,
              "#fb9f3a"
             ],
             [
              0.8888888888888888,
              "#fdca26"
             ],
             [
              1,
              "#f0f921"
             ]
            ],
            "type": "heatmapgl"
           }
          ],
          "histogram": [
           {
            "marker": {
             "colorbar": {
              "outlinewidth": 0,
              "ticks": ""
             }
            },
            "type": "histogram"
           }
          ],
          "histogram2d": [
           {
            "colorbar": {
             "outlinewidth": 0,
             "ticks": ""
            },
            "colorscale": [
             [
              0,
              "#0d0887"
             ],
             [
              0.1111111111111111,
              "#46039f"
             ],
             [
              0.2222222222222222,
              "#7201a8"
             ],
             [
              0.3333333333333333,
              "#9c179e"
             ],
             [
              0.4444444444444444,
              "#bd3786"
             ],
             [
              0.5555555555555556,
              "#d8576b"
             ],
             [
              0.6666666666666666,
              "#ed7953"
             ],
             [
              0.7777777777777778,
              "#fb9f3a"
             ],
             [
              0.8888888888888888,
              "#fdca26"
             ],
             [
              1,
              "#f0f921"
             ]
            ],
            "type": "histogram2d"
           }
          ],
          "histogram2dcontour": [
           {
            "colorbar": {
             "outlinewidth": 0,
             "ticks": ""
            },
            "colorscale": [
             [
              0,
              "#0d0887"
             ],
             [
              0.1111111111111111,
              "#46039f"
             ],
             [
              0.2222222222222222,
              "#7201a8"
             ],
             [
              0.3333333333333333,
              "#9c179e"
             ],
             [
              0.4444444444444444,
              "#bd3786"
             ],
             [
              0.5555555555555556,
              "#d8576b"
             ],
             [
              0.6666666666666666,
              "#ed7953"
             ],
             [
              0.7777777777777778,
              "#fb9f3a"
             ],
             [
              0.8888888888888888,
              "#fdca26"
             ],
             [
              1,
              "#f0f921"
             ]
            ],
            "type": "histogram2dcontour"
           }
          ],
          "mesh3d": [
           {
            "colorbar": {
             "outlinewidth": 0,
             "ticks": ""
            },
            "type": "mesh3d"
           }
          ],
          "parcoords": [
           {
            "line": {
             "colorbar": {
              "outlinewidth": 0,
              "ticks": ""
             }
            },
            "type": "parcoords"
           }
          ],
          "pie": [
           {
            "automargin": true,
            "type": "pie"
           }
          ],
          "scatter": [
           {
            "marker": {
             "line": {
              "color": "#283442"
             }
            },
            "type": "scatter"
           }
          ],
          "scatter3d": [
           {
            "line": {
             "colorbar": {
              "outlinewidth": 0,
              "ticks": ""
             }
            },
            "marker": {
             "colorbar": {
              "outlinewidth": 0,
              "ticks": ""
             }
            },
            "type": "scatter3d"
           }
          ],
          "scattercarpet": [
           {
            "marker": {
             "colorbar": {
              "outlinewidth": 0,
              "ticks": ""
             }
            },
            "type": "scattercarpet"
           }
          ],
          "scattergeo": [
           {
            "marker": {
             "colorbar": {
              "outlinewidth": 0,
              "ticks": ""
             }
            },
            "type": "scattergeo"
           }
          ],
          "scattergl": [
           {
            "marker": {
             "line": {
              "color": "#283442"
             }
            },
            "type": "scattergl"
           }
          ],
          "scattermapbox": [
           {
            "marker": {
             "colorbar": {
              "outlinewidth": 0,
              "ticks": ""
             }
            },
            "type": "scattermapbox"
           }
          ],
          "scatterpolar": [
           {
            "marker": {
             "colorbar": {
              "outlinewidth": 0,
              "ticks": ""
             }
            },
            "type": "scatterpolar"
           }
          ],
          "scatterpolargl": [
           {
            "marker": {
             "colorbar": {
              "outlinewidth": 0,
              "ticks": ""
             }
            },
            "type": "scatterpolargl"
           }
          ],
          "scatterternary": [
           {
            "marker": {
             "colorbar": {
              "outlinewidth": 0,
              "ticks": ""
             }
            },
            "type": "scatterternary"
           }
          ],
          "surface": [
           {
            "colorbar": {
             "outlinewidth": 0,
             "ticks": ""
            },
            "colorscale": [
             [
              0,
              "#0d0887"
             ],
             [
              0.1111111111111111,
              "#46039f"
             ],
             [
              0.2222222222222222,
              "#7201a8"
             ],
             [
              0.3333333333333333,
              "#9c179e"
             ],
             [
              0.4444444444444444,
              "#bd3786"
             ],
             [
              0.5555555555555556,
              "#d8576b"
             ],
             [
              0.6666666666666666,
              "#ed7953"
             ],
             [
              0.7777777777777778,
              "#fb9f3a"
             ],
             [
              0.8888888888888888,
              "#fdca26"
             ],
             [
              1,
              "#f0f921"
             ]
            ],
            "type": "surface"
           }
          ],
          "table": [
           {
            "cells": {
             "fill": {
              "color": "#506784"
             },
             "line": {
              "color": "rgb(17,17,17)"
             }
            },
            "header": {
             "fill": {
              "color": "#2a3f5f"
             },
             "line": {
              "color": "rgb(17,17,17)"
             }
            },
            "type": "table"
           }
          ]
         },
         "layout": {
          "annotationdefaults": {
           "arrowcolor": "#f2f5fa",
           "arrowhead": 0,
           "arrowwidth": 1
          },
          "coloraxis": {
           "colorbar": {
            "outlinewidth": 0,
            "ticks": ""
           }
          },
          "colorscale": {
           "diverging": [
            [
             0,
             "#8e0152"
            ],
            [
             0.1,
             "#c51b7d"
            ],
            [
             0.2,
             "#de77ae"
            ],
            [
             0.3,
             "#f1b6da"
            ],
            [
             0.4,
             "#fde0ef"
            ],
            [
             0.5,
             "#f7f7f7"
            ],
            [
             0.6,
             "#e6f5d0"
            ],
            [
             0.7,
             "#b8e186"
            ],
            [
             0.8,
             "#7fbc41"
            ],
            [
             0.9,
             "#4d9221"
            ],
            [
             1,
             "#276419"
            ]
           ],
           "sequential": [
            [
             0,
             "#0d0887"
            ],
            [
             0.1111111111111111,
             "#46039f"
            ],
            [
             0.2222222222222222,
             "#7201a8"
            ],
            [
             0.3333333333333333,
             "#9c179e"
            ],
            [
             0.4444444444444444,
             "#bd3786"
            ],
            [
             0.5555555555555556,
             "#d8576b"
            ],
            [
             0.6666666666666666,
             "#ed7953"
            ],
            [
             0.7777777777777778,
             "#fb9f3a"
            ],
            [
             0.8888888888888888,
             "#fdca26"
            ],
            [
             1,
             "#f0f921"
            ]
           ],
           "sequentialminus": [
            [
             0,
             "#0d0887"
            ],
            [
             0.1111111111111111,
             "#46039f"
            ],
            [
             0.2222222222222222,
             "#7201a8"
            ],
            [
             0.3333333333333333,
             "#9c179e"
            ],
            [
             0.4444444444444444,
             "#bd3786"
            ],
            [
             0.5555555555555556,
             "#d8576b"
            ],
            [
             0.6666666666666666,
             "#ed7953"
            ],
            [
             0.7777777777777778,
             "#fb9f3a"
            ],
            [
             0.8888888888888888,
             "#fdca26"
            ],
            [
             1,
             "#f0f921"
            ]
           ]
          },
          "colorway": [
           "#636efa",
           "#EF553B",
           "#00cc96",
           "#ab63fa",
           "#FFA15A",
           "#19d3f3",
           "#FF6692",
           "#B6E880",
           "#FF97FF",
           "#FECB52"
          ],
          "font": {
           "color": "#f2f5fa"
          },
          "geo": {
           "bgcolor": "rgb(17,17,17)",
           "lakecolor": "rgb(17,17,17)",
           "landcolor": "rgb(17,17,17)",
           "showlakes": true,
           "showland": true,
           "subunitcolor": "#506784"
          },
          "hoverlabel": {
           "align": "left"
          },
          "hovermode": "closest",
          "mapbox": {
           "style": "dark"
          },
          "paper_bgcolor": "rgb(17,17,17)",
          "plot_bgcolor": "rgb(17,17,17)",
          "polar": {
           "angularaxis": {
            "gridcolor": "#506784",
            "linecolor": "#506784",
            "ticks": ""
           },
           "bgcolor": "rgb(17,17,17)",
           "radialaxis": {
            "gridcolor": "#506784",
            "linecolor": "#506784",
            "ticks": ""
           }
          },
          "scene": {
           "xaxis": {
            "backgroundcolor": "rgb(17,17,17)",
            "gridcolor": "#506784",
            "gridwidth": 2,
            "linecolor": "#506784",
            "showbackground": true,
            "ticks": "",
            "zerolinecolor": "#C8D4E3"
           },
           "yaxis": {
            "backgroundcolor": "rgb(17,17,17)",
            "gridcolor": "#506784",
            "gridwidth": 2,
            "linecolor": "#506784",
            "showbackground": true,
            "ticks": "",
            "zerolinecolor": "#C8D4E3"
           },
           "zaxis": {
            "backgroundcolor": "rgb(17,17,17)",
            "gridcolor": "#506784",
            "gridwidth": 2,
            "linecolor": "#506784",
            "showbackground": true,
            "ticks": "",
            "zerolinecolor": "#C8D4E3"
           }
          },
          "shapedefaults": {
           "line": {
            "color": "#f2f5fa"
           }
          },
          "sliderdefaults": {
           "bgcolor": "#C8D4E3",
           "bordercolor": "rgb(17,17,17)",
           "borderwidth": 1,
           "tickwidth": 0
          },
          "ternary": {
           "aaxis": {
            "gridcolor": "#506784",
            "linecolor": "#506784",
            "ticks": ""
           },
           "baxis": {
            "gridcolor": "#506784",
            "linecolor": "#506784",
            "ticks": ""
           },
           "bgcolor": "rgb(17,17,17)",
           "caxis": {
            "gridcolor": "#506784",
            "linecolor": "#506784",
            "ticks": ""
           }
          },
          "title": {
           "x": 0.05
          },
          "updatemenudefaults": {
           "bgcolor": "#506784",
           "borderwidth": 0
          },
          "xaxis": {
           "automargin": true,
           "gridcolor": "#283442",
           "linecolor": "#506784",
           "ticks": "",
           "title": {
            "standoff": 15
           },
           "zerolinecolor": "#283442",
           "zerolinewidth": 2
          },
          "yaxis": {
           "automargin": true,
           "gridcolor": "#283442",
           "linecolor": "#506784",
           "ticks": "",
           "title": {
            "standoff": 15
           },
           "zerolinecolor": "#283442",
           "zerolinewidth": 2
          }
         }
        },
        "width": 1200,
        "xaxis": {
         "anchor": "y",
         "domain": [
          0,
          1
         ],
         "tickmode": "array",
         "title": {
          "font": {
           "size": 14
          },
          "text": "Avg. No of Host Owned Listings"
         }
        },
        "yaxis": {
         "anchor": "x",
         "domain": [
          0,
          1
         ],
         "tickmode": "array",
         "title": {
          "font": {
           "size": 14
          },
          "text": "Yearly Availability (out 365 days)"
         }
        }
       }
      }
     },
     "metadata": {}
    }
   ],
   "source": [
    "custom_scatter(neighbourhood_avgs, \"Avg. No of Host Owned Listings\", \"Yearly Availability (out 365 days)\", \"neighbourhood\", \"neighbourhood\", 'Avg. Listing Price (£)')"
   ]
  },
  {
   "cell_type": "code",
   "execution_count": 154,
   "metadata": {},
   "outputs": [
    {
     "output_type": "execute_result",
     "data": {
      "text/plain": "      id                                               name host_id  \\\n0  13913                Holiday London DB Room Let-on going   54730   \n1  15400                Bright Chelsea  Apartment. Chelsea!   60302   \n2  17402              Superb 3-Bed/2 Bath & Wifi: Trendy W1   67564   \n3  17506  Boutique Chelsea/Fulham Double bed 5-star ensuite   67915   \n4  25023      All-comforts 2-bed flat near Wimbledon tennis  102813   \n\n   host_name neighbourhood_group           neighbourhood  latitude longitude  \\\n0      Alina                 NaN               Islington  51.56802  -0.11121   \n1   Philippa                 NaN  Kensington and Chelsea  51.48796  -0.16898   \n2        Liz                 NaN             Westminster  51.52195  -0.14094   \n3  Charlotte                 NaN  Hammersmith and Fulham  51.47935  -0.19743   \n4     Amanda                 NaN              Wandsworth  51.44687  -0.21874   \n\n         room_type  price minimum_nights number_of_reviews last_review  \\\n0     Private room     65              1                21  2020-02-22   \n1  Entire home/apt    100             10                89  2020-03-16   \n2  Entire home/apt    300              3                42  2019-11-02   \n3     Private room    150              3                 0         NaN   \n4  Entire home/apt     65             21                35  2020-03-30   \n\n  reviews_per_month  calculated_host_listings_count  availability_365  \n0              0.18                               2               359  \n1              0.71                               1               232  \n2              0.38                              15               307  \n3               NaN                               2               362  \n4              0.70                               1                15  ",
      "text/html": "<div>\n<style scoped>\n    .dataframe tbody tr th:only-of-type {\n        vertical-align: middle;\n    }\n\n    .dataframe tbody tr th {\n        vertical-align: top;\n    }\n\n    .dataframe thead th {\n        text-align: right;\n    }\n</style>\n<table border=\"1\" class=\"dataframe\">\n  <thead>\n    <tr style=\"text-align: right;\">\n      <th></th>\n      <th>id</th>\n      <th>name</th>\n      <th>host_id</th>\n      <th>host_name</th>\n      <th>neighbourhood_group</th>\n      <th>neighbourhood</th>\n      <th>latitude</th>\n      <th>longitude</th>\n      <th>room_type</th>\n      <th>price</th>\n      <th>minimum_nights</th>\n      <th>number_of_reviews</th>\n      <th>last_review</th>\n      <th>reviews_per_month</th>\n      <th>calculated_host_listings_count</th>\n      <th>availability_365</th>\n    </tr>\n  </thead>\n  <tbody>\n    <tr>\n      <th>0</th>\n      <td>13913</td>\n      <td>Holiday London DB Room Let-on going</td>\n      <td>54730</td>\n      <td>Alina</td>\n      <td>NaN</td>\n      <td>Islington</td>\n      <td>51.56802</td>\n      <td>-0.11121</td>\n      <td>Private room</td>\n      <td>65</td>\n      <td>1</td>\n      <td>21</td>\n      <td>2020-02-22</td>\n      <td>0.18</td>\n      <td>2</td>\n      <td>359</td>\n    </tr>\n    <tr>\n      <th>1</th>\n      <td>15400</td>\n      <td>Bright Chelsea  Apartment. Chelsea!</td>\n      <td>60302</td>\n      <td>Philippa</td>\n      <td>NaN</td>\n      <td>Kensington and Chelsea</td>\n      <td>51.48796</td>\n      <td>-0.16898</td>\n      <td>Entire home/apt</td>\n      <td>100</td>\n      <td>10</td>\n      <td>89</td>\n      <td>2020-03-16</td>\n      <td>0.71</td>\n      <td>1</td>\n      <td>232</td>\n    </tr>\n    <tr>\n      <th>2</th>\n      <td>17402</td>\n      <td>Superb 3-Bed/2 Bath &amp; Wifi: Trendy W1</td>\n      <td>67564</td>\n      <td>Liz</td>\n      <td>NaN</td>\n      <td>Westminster</td>\n      <td>51.52195</td>\n      <td>-0.14094</td>\n      <td>Entire home/apt</td>\n      <td>300</td>\n      <td>3</td>\n      <td>42</td>\n      <td>2019-11-02</td>\n      <td>0.38</td>\n      <td>15</td>\n      <td>307</td>\n    </tr>\n    <tr>\n      <th>3</th>\n      <td>17506</td>\n      <td>Boutique Chelsea/Fulham Double bed 5-star ensuite</td>\n      <td>67915</td>\n      <td>Charlotte</td>\n      <td>NaN</td>\n      <td>Hammersmith and Fulham</td>\n      <td>51.47935</td>\n      <td>-0.19743</td>\n      <td>Private room</td>\n      <td>150</td>\n      <td>3</td>\n      <td>0</td>\n      <td>NaN</td>\n      <td>NaN</td>\n      <td>2</td>\n      <td>362</td>\n    </tr>\n    <tr>\n      <th>4</th>\n      <td>25023</td>\n      <td>All-comforts 2-bed flat near Wimbledon tennis</td>\n      <td>102813</td>\n      <td>Amanda</td>\n      <td>NaN</td>\n      <td>Wandsworth</td>\n      <td>51.44687</td>\n      <td>-0.21874</td>\n      <td>Entire home/apt</td>\n      <td>65</td>\n      <td>21</td>\n      <td>35</td>\n      <td>2020-03-30</td>\n      <td>0.70</td>\n      <td>1</td>\n      <td>15</td>\n    </tr>\n  </tbody>\n</table>\n</div>"
     },
     "metadata": {},
     "execution_count": 154
    }
   ],
   "source": [
    "listings_df.head()"
   ]
  },
  {
   "cell_type": "code",
   "execution_count": 155,
   "metadata": {},
   "outputs": [
    {
     "output_type": "execute_result",
     "data": {
      "text/plain": "array(['Private room', 'Entire home/apt', 'Hotel room', 'Shared room'],\n      dtype=object)"
     },
     "metadata": {},
     "execution_count": 155
    }
   ],
   "source": [
    "listings_df['room_type'].unique()"
   ]
  },
  {
   "cell_type": "code",
   "execution_count": 159,
   "metadata": {},
   "outputs": [
    {
     "output_type": "execute_result",
     "data": {
      "text/plain": "            neighbourhood        room_type\n0               Islington     Private room\n1  Kensington and Chelsea  Entire home/apt\n2             Westminster  Entire home/apt\n3  Hammersmith and Fulham     Private room\n4              Wandsworth  Entire home/apt",
      "text/html": "<div>\n<style scoped>\n    .dataframe tbody tr th:only-of-type {\n        vertical-align: middle;\n    }\n\n    .dataframe tbody tr th {\n        vertical-align: top;\n    }\n\n    .dataframe thead th {\n        text-align: right;\n    }\n</style>\n<table border=\"1\" class=\"dataframe\">\n  <thead>\n    <tr style=\"text-align: right;\">\n      <th></th>\n      <th>neighbourhood</th>\n      <th>room_type</th>\n    </tr>\n  </thead>\n  <tbody>\n    <tr>\n      <th>0</th>\n      <td>Islington</td>\n      <td>Private room</td>\n    </tr>\n    <tr>\n      <th>1</th>\n      <td>Kensington and Chelsea</td>\n      <td>Entire home/apt</td>\n    </tr>\n    <tr>\n      <th>2</th>\n      <td>Westminster</td>\n      <td>Entire home/apt</td>\n    </tr>\n    <tr>\n      <th>3</th>\n      <td>Hammersmith and Fulham</td>\n      <td>Private room</td>\n    </tr>\n    <tr>\n      <th>4</th>\n      <td>Wandsworth</td>\n      <td>Entire home/apt</td>\n    </tr>\n  </tbody>\n</table>\n</div>"
     },
     "metadata": {},
     "execution_count": 159
    }
   ],
   "source": [
    "listing_type_df = listings_df[['neighbourhood', 'room_type']]\n",
    "listing_type_df.head()"
   ]
  },
  {
   "cell_type": "code",
   "execution_count": 162,
   "metadata": {},
   "outputs": [],
   "source": [
    "onehot_encoding = pd.get_dummies(listing_type_df['room_type'])\n",
    "listing_type_encoded = listing_type_df.join(onehot_encoding)\n",
    "listing_type_encoded.head()"
   ]
  },
  {
   "cell_type": "code",
   "execution_count": 189,
   "metadata": {},
   "outputs": [
    {
     "output_type": "execute_result",
     "data": {
      "text/plain": "                        Entire home/apt  Hotel room  Private room  \\\nneighbourhood                                                       \nWestminster                      7389.0       113.0        2371.0   \nTower Hamlets                    4067.0        40.0        4153.0   \nCamden                           4125.0        98.0        1977.0   \nHackney                          3382.0        13.0        2786.0   \nKensington and Chelsea           4853.0       182.0         988.0   \n\n                        Shared room  total_listings  \nneighbourhood                                        \nWestminster                    70.0          9943.0  \nTower Hamlets                  61.0          8321.0  \nCamden                         43.0          6243.0  \nHackney                        29.0          6210.0  \nKensington and Chelsea         56.0          6079.0  ",
      "text/html": "<div>\n<style scoped>\n    .dataframe tbody tr th:only-of-type {\n        vertical-align: middle;\n    }\n\n    .dataframe tbody tr th {\n        vertical-align: top;\n    }\n\n    .dataframe thead th {\n        text-align: right;\n    }\n</style>\n<table border=\"1\" class=\"dataframe\">\n  <thead>\n    <tr style=\"text-align: right;\">\n      <th></th>\n      <th>Entire home/apt</th>\n      <th>Hotel room</th>\n      <th>Private room</th>\n      <th>Shared room</th>\n      <th>total_listings</th>\n    </tr>\n    <tr>\n      <th>neighbourhood</th>\n      <th></th>\n      <th></th>\n      <th></th>\n      <th></th>\n      <th></th>\n    </tr>\n  </thead>\n  <tbody>\n    <tr>\n      <th>Westminster</th>\n      <td>7389.0</td>\n      <td>113.0</td>\n      <td>2371.0</td>\n      <td>70.0</td>\n      <td>9943.0</td>\n    </tr>\n    <tr>\n      <th>Tower Hamlets</th>\n      <td>4067.0</td>\n      <td>40.0</td>\n      <td>4153.0</td>\n      <td>61.0</td>\n      <td>8321.0</td>\n    </tr>\n    <tr>\n      <th>Camden</th>\n      <td>4125.0</td>\n      <td>98.0</td>\n      <td>1977.0</td>\n      <td>43.0</td>\n      <td>6243.0</td>\n    </tr>\n    <tr>\n      <th>Hackney</th>\n      <td>3382.0</td>\n      <td>13.0</td>\n      <td>2786.0</td>\n      <td>29.0</td>\n      <td>6210.0</td>\n    </tr>\n    <tr>\n      <th>Kensington and Chelsea</th>\n      <td>4853.0</td>\n      <td>182.0</td>\n      <td>988.0</td>\n      <td>56.0</td>\n      <td>6079.0</td>\n    </tr>\n  </tbody>\n</table>\n</div>"
     },
     "metadata": {},
     "execution_count": 189
    }
   ],
   "source": [
    "listing_type_bars_df = listing_type_encoded.groupby('neighbourhood').sum()\n",
    "#Total sum per row: \n",
    "listing_type_bars_df['total_listings'] = listing_type_bars_df.sum(axis=1)\n",
    "listing_type_bars_df = listing_type_bars_df.sort_values('total_listings', ascending=False)\n",
    "listing_type_bars_df.head()"
   ]
  },
  {
   "cell_type": "code",
   "execution_count": 195,
   "metadata": {},
   "outputs": [
    {
     "output_type": "display_data",
     "data": {
      "application/vnd.plotly.v1+json": {
       "config": {
        "plotlyServerURL": "https://plot.ly"
       },
       "data": [
        {
         "alignmentgroup": "True",
         "hovertemplate": "variable=Entire home/apt<br>neighbourhood=%{x}<br>value=%{y}<extra></extra>",
         "legendgroup": "Entire home/apt",
         "marker": {
          "color": "#636efa"
         },
         "name": "Entire home/apt",
         "offsetgroup": "Entire home/apt",
         "orientation": "v",
         "showlegend": true,
         "textposition": "auto",
         "type": "bar",
         "x": [
          "Westminster",
          "Tower Hamlets",
          "Camden",
          "Hackney",
          "Kensington and Chelsea",
          "Islington",
          "Southwark",
          "Lambeth",
          "Wandsworth",
          "Hammersmith and Fulham",
          "Brent",
          "Lewisham",
          "Haringey",
          "Newham",
          "Ealing",
          "Greenwich",
          "Barnet",
          "Waltham Forest",
          "Merton",
          "Richmond upon Thames",
          "Hounslow",
          "Croydon",
          "Redbridge",
          "Enfield",
          "Hillingdon",
          "Bromley",
          "Kingston upon Thames",
          "City of London",
          "Harrow",
          "Barking and Dagenham",
          "Sutton",
          "Bexley",
          "Havering"
         ],
         "xaxis": "x",
         "y": [
          7389,
          4067,
          4125,
          3382,
          4853,
          3124,
          2694,
          2516,
          2375,
          2786,
          1227,
          975,
          991,
          802,
          705,
          829,
          719,
          669,
          604,
          684,
          505,
          394,
          243,
          233,
          215,
          239,
          234,
          428,
          163,
          110,
          97,
          76,
          97
         ],
         "yaxis": "y"
        },
        {
         "alignmentgroup": "True",
         "hovertemplate": "variable=Hotel room<br>neighbourhood=%{x}<br>value=%{y}<extra></extra>",
         "legendgroup": "Hotel room",
         "marker": {
          "color": "#EF553B"
         },
         "name": "Hotel room",
         "offsetgroup": "Hotel room",
         "orientation": "v",
         "showlegend": true,
         "textposition": "auto",
         "type": "bar",
         "x": [
          "Westminster",
          "Tower Hamlets",
          "Camden",
          "Hackney",
          "Kensington and Chelsea",
          "Islington",
          "Southwark",
          "Lambeth",
          "Wandsworth",
          "Hammersmith and Fulham",
          "Brent",
          "Lewisham",
          "Haringey",
          "Newham",
          "Ealing",
          "Greenwich",
          "Barnet",
          "Waltham Forest",
          "Merton",
          "Richmond upon Thames",
          "Hounslow",
          "Croydon",
          "Redbridge",
          "Enfield",
          "Hillingdon",
          "Bromley",
          "Kingston upon Thames",
          "City of London",
          "Harrow",
          "Barking and Dagenham",
          "Sutton",
          "Bexley",
          "Havering"
         ],
         "xaxis": "x",
         "y": [
          113,
          40,
          98,
          13,
          182,
          38,
          16,
          14,
          36,
          32,
          20,
          0,
          3,
          7,
          27,
          11,
          32,
          5,
          1,
          5,
          4,
          14,
          0,
          25,
          7,
          15,
          0,
          4,
          0,
          3,
          0,
          2,
          0
         ],
         "yaxis": "y"
        },
        {
         "alignmentgroup": "True",
         "hovertemplate": "variable=Private room<br>neighbourhood=%{x}<br>value=%{y}<extra></extra>",
         "legendgroup": "Private room",
         "marker": {
          "color": "#00cc96"
         },
         "name": "Private room",
         "offsetgroup": "Private room",
         "orientation": "v",
         "showlegend": true,
         "textposition": "auto",
         "type": "bar",
         "x": [
          "Westminster",
          "Tower Hamlets",
          "Camden",
          "Hackney",
          "Kensington and Chelsea",
          "Islington",
          "Southwark",
          "Lambeth",
          "Wandsworth",
          "Hammersmith and Fulham",
          "Brent",
          "Lewisham",
          "Haringey",
          "Newham",
          "Ealing",
          "Greenwich",
          "Barnet",
          "Waltham Forest",
          "Merton",
          "Richmond upon Thames",
          "Hounslow",
          "Croydon",
          "Redbridge",
          "Enfield",
          "Hillingdon",
          "Bromley",
          "Kingston upon Thames",
          "City of London",
          "Harrow",
          "Barking and Dagenham",
          "Sutton",
          "Bexley",
          "Havering"
         ],
         "xaxis": "x",
         "y": [
          2371,
          4153,
          1977,
          2786,
          988,
          1836,
          2201,
          2306,
          1838,
          1392,
          1323,
          1317,
          1214,
          1232,
          1045,
          883,
          905,
          786,
          745,
          524,
          587,
          672,
          500,
          447,
          440,
          394,
          313,
          57,
          302,
          279,
          219,
          180,
          157
         ],
         "yaxis": "y"
        },
        {
         "alignmentgroup": "True",
         "hovertemplate": "variable=Shared room<br>neighbourhood=%{x}<br>value=%{y}<extra></extra>",
         "legendgroup": "Shared room",
         "marker": {
          "color": "#ab63fa"
         },
         "name": "Shared room",
         "offsetgroup": "Shared room",
         "orientation": "v",
         "showlegend": true,
         "textposition": "auto",
         "type": "bar",
         "x": [
          "Westminster",
          "Tower Hamlets",
          "Camden",
          "Hackney",
          "Kensington and Chelsea",
          "Islington",
          "Southwark",
          "Lambeth",
          "Wandsworth",
          "Hammersmith and Fulham",
          "Brent",
          "Lewisham",
          "Haringey",
          "Newham",
          "Ealing",
          "Greenwich",
          "Barnet",
          "Waltham Forest",
          "Merton",
          "Richmond upon Thames",
          "Hounslow",
          "Croydon",
          "Redbridge",
          "Enfield",
          "Hillingdon",
          "Bromley",
          "Kingston upon Thames",
          "City of London",
          "Harrow",
          "Barking and Dagenham",
          "Sutton",
          "Bexley",
          "Havering"
         ],
         "xaxis": "x",
         "y": [
          70,
          61,
          43,
          29,
          56,
          21,
          46,
          45,
          12,
          23,
          35,
          34,
          25,
          30,
          13,
          13,
          14,
          16,
          14,
          4,
          9,
          11,
          9,
          5,
          4,
          6,
          3,
          2,
          8,
          4,
          2,
          3,
          2
         ],
         "yaxis": "y"
        }
       ],
       "layout": {
        "autosize": false,
        "barmode": "relative",
        "height": 500,
        "legend": {
         "title": {
          "text": "variable"
         },
         "tracegroupgap": 0
        },
        "margin": {
         "t": 60
        },
        "template": {
         "data": {
          "bar": [
           {
            "error_x": {
             "color": "#f2f5fa"
            },
            "error_y": {
             "color": "#f2f5fa"
            },
            "marker": {
             "line": {
              "color": "rgb(17,17,17)",
              "width": 0.5
             }
            },
            "type": "bar"
           }
          ],
          "barpolar": [
           {
            "marker": {
             "line": {
              "color": "rgb(17,17,17)",
              "width": 0.5
             }
            },
            "type": "barpolar"
           }
          ],
          "carpet": [
           {
            "aaxis": {
             "endlinecolor": "#A2B1C6",
             "gridcolor": "#506784",
             "linecolor": "#506784",
             "minorgridcolor": "#506784",
             "startlinecolor": "#A2B1C6"
            },
            "baxis": {
             "endlinecolor": "#A2B1C6",
             "gridcolor": "#506784",
             "linecolor": "#506784",
             "minorgridcolor": "#506784",
             "startlinecolor": "#A2B1C6"
            },
            "type": "carpet"
           }
          ],
          "choropleth": [
           {
            "colorbar": {
             "outlinewidth": 0,
             "ticks": ""
            },
            "type": "choropleth"
           }
          ],
          "contour": [
           {
            "colorbar": {
             "outlinewidth": 0,
             "ticks": ""
            },
            "colorscale": [
             [
              0,
              "#0d0887"
             ],
             [
              0.1111111111111111,
              "#46039f"
             ],
             [
              0.2222222222222222,
              "#7201a8"
             ],
             [
              0.3333333333333333,
              "#9c179e"
             ],
             [
              0.4444444444444444,
              "#bd3786"
             ],
             [
              0.5555555555555556,
              "#d8576b"
             ],
             [
              0.6666666666666666,
              "#ed7953"
             ],
             [
              0.7777777777777778,
              "#fb9f3a"
             ],
             [
              0.8888888888888888,
              "#fdca26"
             ],
             [
              1,
              "#f0f921"
             ]
            ],
            "type": "contour"
           }
          ],
          "contourcarpet": [
           {
            "colorbar": {
             "outlinewidth": 0,
             "ticks": ""
            },
            "type": "contourcarpet"
           }
          ],
          "heatmap": [
           {
            "colorbar": {
             "outlinewidth": 0,
             "ticks": ""
            },
            "colorscale": [
             [
              0,
              "#0d0887"
             ],
             [
              0.1111111111111111,
              "#46039f"
             ],
             [
              0.2222222222222222,
              "#7201a8"
             ],
             [
              0.3333333333333333,
              "#9c179e"
             ],
             [
              0.4444444444444444,
              "#bd3786"
             ],
             [
              0.5555555555555556,
              "#d8576b"
             ],
             [
              0.6666666666666666,
              "#ed7953"
             ],
             [
              0.7777777777777778,
              "#fb9f3a"
             ],
             [
              0.8888888888888888,
              "#fdca26"
             ],
             [
              1,
              "#f0f921"
             ]
            ],
            "type": "heatmap"
           }
          ],
          "heatmapgl": [
           {
            "colorbar": {
             "outlinewidth": 0,
             "ticks": ""
            },
            "colorscale": [
             [
              0,
              "#0d0887"
             ],
             [
              0.1111111111111111,
              "#46039f"
             ],
             [
              0.2222222222222222,
              "#7201a8"
             ],
             [
              0.3333333333333333,
              "#9c179e"
             ],
             [
              0.4444444444444444,
              "#bd3786"
             ],
             [
              0.5555555555555556,
              "#d8576b"
             ],
             [
              0.6666666666666666,
              "#ed7953"
             ],
             [
              0.7777777777777778,
              "#fb9f3a"
             ],
             [
              0.8888888888888888,
              "#fdca26"
             ],
             [
              1,
              "#f0f921"
             ]
            ],
            "type": "heatmapgl"
           }
          ],
          "histogram": [
           {
            "marker": {
             "colorbar": {
              "outlinewidth": 0,
              "ticks": ""
             }
            },
            "type": "histogram"
           }
          ],
          "histogram2d": [
           {
            "colorbar": {
             "outlinewidth": 0,
             "ticks": ""
            },
            "colorscale": [
             [
              0,
              "#0d0887"
             ],
             [
              0.1111111111111111,
              "#46039f"
             ],
             [
              0.2222222222222222,
              "#7201a8"
             ],
             [
              0.3333333333333333,
              "#9c179e"
             ],
             [
              0.4444444444444444,
              "#bd3786"
             ],
             [
              0.5555555555555556,
              "#d8576b"
             ],
             [
              0.6666666666666666,
              "#ed7953"
             ],
             [
              0.7777777777777778,
              "#fb9f3a"
             ],
             [
              0.8888888888888888,
              "#fdca26"
             ],
             [
              1,
              "#f0f921"
             ]
            ],
            "type": "histogram2d"
           }
          ],
          "histogram2dcontour": [
           {
            "colorbar": {
             "outlinewidth": 0,
             "ticks": ""
            },
            "colorscale": [
             [
              0,
              "#0d0887"
             ],
             [
              0.1111111111111111,
              "#46039f"
             ],
             [
              0.2222222222222222,
              "#7201a8"
             ],
             [
              0.3333333333333333,
              "#9c179e"
             ],
             [
              0.4444444444444444,
              "#bd3786"
             ],
             [
              0.5555555555555556,
              "#d8576b"
             ],
             [
              0.6666666666666666,
              "#ed7953"
             ],
             [
              0.7777777777777778,
              "#fb9f3a"
             ],
             [
              0.8888888888888888,
              "#fdca26"
             ],
             [
              1,
              "#f0f921"
             ]
            ],
            "type": "histogram2dcontour"
           }
          ],
          "mesh3d": [
           {
            "colorbar": {
             "outlinewidth": 0,
             "ticks": ""
            },
            "type": "mesh3d"
           }
          ],
          "parcoords": [
           {
            "line": {
             "colorbar": {
              "outlinewidth": 0,
              "ticks": ""
             }
            },
            "type": "parcoords"
           }
          ],
          "pie": [
           {
            "automargin": true,
            "type": "pie"
           }
          ],
          "scatter": [
           {
            "marker": {
             "line": {
              "color": "#283442"
             }
            },
            "type": "scatter"
           }
          ],
          "scatter3d": [
           {
            "line": {
             "colorbar": {
              "outlinewidth": 0,
              "ticks": ""
             }
            },
            "marker": {
             "colorbar": {
              "outlinewidth": 0,
              "ticks": ""
             }
            },
            "type": "scatter3d"
           }
          ],
          "scattercarpet": [
           {
            "marker": {
             "colorbar": {
              "outlinewidth": 0,
              "ticks": ""
             }
            },
            "type": "scattercarpet"
           }
          ],
          "scattergeo": [
           {
            "marker": {
             "colorbar": {
              "outlinewidth": 0,
              "ticks": ""
             }
            },
            "type": "scattergeo"
           }
          ],
          "scattergl": [
           {
            "marker": {
             "line": {
              "color": "#283442"
             }
            },
            "type": "scattergl"
           }
          ],
          "scattermapbox": [
           {
            "marker": {
             "colorbar": {
              "outlinewidth": 0,
              "ticks": ""
             }
            },
            "type": "scattermapbox"
           }
          ],
          "scatterpolar": [
           {
            "marker": {
             "colorbar": {
              "outlinewidth": 0,
              "ticks": ""
             }
            },
            "type": "scatterpolar"
           }
          ],
          "scatterpolargl": [
           {
            "marker": {
             "colorbar": {
              "outlinewidth": 0,
              "ticks": ""
             }
            },
            "type": "scatterpolargl"
           }
          ],
          "scatterternary": [
           {
            "marker": {
             "colorbar": {
              "outlinewidth": 0,
              "ticks": ""
             }
            },
            "type": "scatterternary"
           }
          ],
          "surface": [
           {
            "colorbar": {
             "outlinewidth": 0,
             "ticks": ""
            },
            "colorscale": [
             [
              0,
              "#0d0887"
             ],
             [
              0.1111111111111111,
              "#46039f"
             ],
             [
              0.2222222222222222,
              "#7201a8"
             ],
             [
              0.3333333333333333,
              "#9c179e"
             ],
             [
              0.4444444444444444,
              "#bd3786"
             ],
             [
              0.5555555555555556,
              "#d8576b"
             ],
             [
              0.6666666666666666,
              "#ed7953"
             ],
             [
              0.7777777777777778,
              "#fb9f3a"
             ],
             [
              0.8888888888888888,
              "#fdca26"
             ],
             [
              1,
              "#f0f921"
             ]
            ],
            "type": "surface"
           }
          ],
          "table": [
           {
            "cells": {
             "fill": {
              "color": "#506784"
             },
             "line": {
              "color": "rgb(17,17,17)"
             }
            },
            "header": {
             "fill": {
              "color": "#2a3f5f"
             },
             "line": {
              "color": "rgb(17,17,17)"
             }
            },
            "type": "table"
           }
          ]
         },
         "layout": {
          "annotationdefaults": {
           "arrowcolor": "#f2f5fa",
           "arrowhead": 0,
           "arrowwidth": 1
          },
          "coloraxis": {
           "colorbar": {
            "outlinewidth": 0,
            "ticks": ""
           }
          },
          "colorscale": {
           "diverging": [
            [
             0,
             "#8e0152"
            ],
            [
             0.1,
             "#c51b7d"
            ],
            [
             0.2,
             "#de77ae"
            ],
            [
             0.3,
             "#f1b6da"
            ],
            [
             0.4,
             "#fde0ef"
            ],
            [
             0.5,
             "#f7f7f7"
            ],
            [
             0.6,
             "#e6f5d0"
            ],
            [
             0.7,
             "#b8e186"
            ],
            [
             0.8,
             "#7fbc41"
            ],
            [
             0.9,
             "#4d9221"
            ],
            [
             1,
             "#276419"
            ]
           ],
           "sequential": [
            [
             0,
             "#0d0887"
            ],
            [
             0.1111111111111111,
             "#46039f"
            ],
            [
             0.2222222222222222,
             "#7201a8"
            ],
            [
             0.3333333333333333,
             "#9c179e"
            ],
            [
             0.4444444444444444,
             "#bd3786"
            ],
            [
             0.5555555555555556,
             "#d8576b"
            ],
            [
             0.6666666666666666,
             "#ed7953"
            ],
            [
             0.7777777777777778,
             "#fb9f3a"
            ],
            [
             0.8888888888888888,
             "#fdca26"
            ],
            [
             1,
             "#f0f921"
            ]
           ],
           "sequentialminus": [
            [
             0,
             "#0d0887"
            ],
            [
             0.1111111111111111,
             "#46039f"
            ],
            [
             0.2222222222222222,
             "#7201a8"
            ],
            [
             0.3333333333333333,
             "#9c179e"
            ],
            [
             0.4444444444444444,
             "#bd3786"
            ],
            [
             0.5555555555555556,
             "#d8576b"
            ],
            [
             0.6666666666666666,
             "#ed7953"
            ],
            [
             0.7777777777777778,
             "#fb9f3a"
            ],
            [
             0.8888888888888888,
             "#fdca26"
            ],
            [
             1,
             "#f0f921"
            ]
           ]
          },
          "colorway": [
           "#636efa",
           "#EF553B",
           "#00cc96",
           "#ab63fa",
           "#FFA15A",
           "#19d3f3",
           "#FF6692",
           "#B6E880",
           "#FF97FF",
           "#FECB52"
          ],
          "font": {
           "color": "#f2f5fa"
          },
          "geo": {
           "bgcolor": "rgb(17,17,17)",
           "lakecolor": "rgb(17,17,17)",
           "landcolor": "rgb(17,17,17)",
           "showlakes": true,
           "showland": true,
           "subunitcolor": "#506784"
          },
          "hoverlabel": {
           "align": "left"
          },
          "hovermode": "closest",
          "mapbox": {
           "style": "dark"
          },
          "paper_bgcolor": "rgb(17,17,17)",
          "plot_bgcolor": "rgb(17,17,17)",
          "polar": {
           "angularaxis": {
            "gridcolor": "#506784",
            "linecolor": "#506784",
            "ticks": ""
           },
           "bgcolor": "rgb(17,17,17)",
           "radialaxis": {
            "gridcolor": "#506784",
            "linecolor": "#506784",
            "ticks": ""
           }
          },
          "scene": {
           "xaxis": {
            "backgroundcolor": "rgb(17,17,17)",
            "gridcolor": "#506784",
            "gridwidth": 2,
            "linecolor": "#506784",
            "showbackground": true,
            "ticks": "",
            "zerolinecolor": "#C8D4E3"
           },
           "yaxis": {
            "backgroundcolor": "rgb(17,17,17)",
            "gridcolor": "#506784",
            "gridwidth": 2,
            "linecolor": "#506784",
            "showbackground": true,
            "ticks": "",
            "zerolinecolor": "#C8D4E3"
           },
           "zaxis": {
            "backgroundcolor": "rgb(17,17,17)",
            "gridcolor": "#506784",
            "gridwidth": 2,
            "linecolor": "#506784",
            "showbackground": true,
            "ticks": "",
            "zerolinecolor": "#C8D4E3"
           }
          },
          "shapedefaults": {
           "line": {
            "color": "#f2f5fa"
           }
          },
          "sliderdefaults": {
           "bgcolor": "#C8D4E3",
           "bordercolor": "rgb(17,17,17)",
           "borderwidth": 1,
           "tickwidth": 0
          },
          "ternary": {
           "aaxis": {
            "gridcolor": "#506784",
            "linecolor": "#506784",
            "ticks": ""
           },
           "baxis": {
            "gridcolor": "#506784",
            "linecolor": "#506784",
            "ticks": ""
           },
           "bgcolor": "rgb(17,17,17)",
           "caxis": {
            "gridcolor": "#506784",
            "linecolor": "#506784",
            "ticks": ""
           }
          },
          "title": {
           "x": 0.05
          },
          "updatemenudefaults": {
           "bgcolor": "#506784",
           "borderwidth": 0
          },
          "xaxis": {
           "automargin": true,
           "gridcolor": "#283442",
           "linecolor": "#506784",
           "ticks": "",
           "title": {
            "standoff": 15
           },
           "zerolinecolor": "#283442",
           "zerolinewidth": 2
          },
          "yaxis": {
           "automargin": true,
           "gridcolor": "#283442",
           "linecolor": "#506784",
           "ticks": "",
           "title": {
            "standoff": 15
           },
           "zerolinecolor": "#283442",
           "zerolinewidth": 2
          }
         }
        },
        "width": 1400,
        "xaxis": {
         "anchor": "y",
         "domain": [
          0,
          1
         ],
         "tickmode": "array",
         "title": {
          "font": {
           "size": 14
          },
          "text": "Airbnb London Neighbourhoods"
         }
        },
        "yaxis": {
         "anchor": "x",
         "domain": [
          0,
          1
         ],
         "tickmode": "array",
         "title": {
          "font": {
           "size": 14
          },
          "text": "Listing Count"
         }
        }
       }
      }
     },
     "metadata": {}
    }
   ],
   "source": [
    "fig = px.bar(listing_type_bars_df[['Entire home/apt', 'Hotel room', 'Private room', 'Shared room']], template='plotly_dark')\n",
    "fig.update_layout(\n",
    "    autosize=False,\n",
    "    width=1400,\n",
    "    height=500,\n",
    "    yaxis=dict(\n",
    "        title_text=\"Listing Count\",\n",
    "        tickmode=\"array\",\n",
    "        titlefont=dict(size=14),\n",
    "    ),\n",
    "    xaxis=dict(\n",
    "    title_text=\"Airbnb London Neighbourhoods\",\n",
    "    tickmode=\"array\",\n",
    "    titlefont=dict(size=14),\n",
    "    ))\n",
    "fig.show()"
   ]
  },
  {
   "cell_type": "code",
   "execution_count": 197,
   "metadata": {},
   "outputs": [
    {
     "output_type": "execute_result",
     "data": {
      "text/plain": "                      Avg. Listing Price (£)  Avg. No of Host Owned Listings  \\\nneighbourhood                                                                  \nBarking and Dagenham               59.833333                        2.515152   \nBarnet                             93.640120                       11.700000   \nBexley                             57.452107                        2.233716   \nBrent                             102.219194                       18.886372   \nBromley                            65.461774                        2.102446   \n\n                      Yearly Availability (out 365 days)  \\\nneighbourhood                                              \nBarking and Dagenham                          136.941919   \nBarnet                                        137.138922   \nBexley                                        145.839080   \nBrent                                         119.416123   \nBromley                                       131.181957   \n\n                             neighbourhood  Entire home/apt  Hotel room  \\\nneighbourhood                                                             \nBarking and Dagenham  Barking and Dagenham            110.0         3.0   \nBarnet                              Barnet            719.0        32.0   \nBexley                              Bexley             76.0         2.0   \nBrent                                Brent           1227.0        20.0   \nBromley                            Bromley            239.0        15.0   \n\n                      Private room  Shared room  total_listings  \nneighbourhood                                                    \nBarking and Dagenham         279.0          4.0           396.0  \nBarnet                       905.0         14.0          1670.0  \nBexley                       180.0          3.0           261.0  \nBrent                       1323.0         35.0          2605.0  \nBromley                      394.0          6.0           654.0  ",
      "text/html": "<div>\n<style scoped>\n    .dataframe tbody tr th:only-of-type {\n        vertical-align: middle;\n    }\n\n    .dataframe tbody tr th {\n        vertical-align: top;\n    }\n\n    .dataframe thead th {\n        text-align: right;\n    }\n</style>\n<table border=\"1\" class=\"dataframe\">\n  <thead>\n    <tr style=\"text-align: right;\">\n      <th></th>\n      <th>Avg. Listing Price (£)</th>\n      <th>Avg. No of Host Owned Listings</th>\n      <th>Yearly Availability (out 365 days)</th>\n      <th>neighbourhood</th>\n      <th>Entire home/apt</th>\n      <th>Hotel room</th>\n      <th>Private room</th>\n      <th>Shared room</th>\n      <th>total_listings</th>\n    </tr>\n    <tr>\n      <th>neighbourhood</th>\n      <th></th>\n      <th></th>\n      <th></th>\n      <th></th>\n      <th></th>\n      <th></th>\n      <th></th>\n      <th></th>\n      <th></th>\n    </tr>\n  </thead>\n  <tbody>\n    <tr>\n      <th>Barking and Dagenham</th>\n      <td>59.833333</td>\n      <td>2.515152</td>\n      <td>136.941919</td>\n      <td>Barking and Dagenham</td>\n      <td>110.0</td>\n      <td>3.0</td>\n      <td>279.0</td>\n      <td>4.0</td>\n      <td>396.0</td>\n    </tr>\n    <tr>\n      <th>Barnet</th>\n      <td>93.640120</td>\n      <td>11.700000</td>\n      <td>137.138922</td>\n      <td>Barnet</td>\n      <td>719.0</td>\n      <td>32.0</td>\n      <td>905.0</td>\n      <td>14.0</td>\n      <td>1670.0</td>\n    </tr>\n    <tr>\n      <th>Bexley</th>\n      <td>57.452107</td>\n      <td>2.233716</td>\n      <td>145.839080</td>\n      <td>Bexley</td>\n      <td>76.0</td>\n      <td>2.0</td>\n      <td>180.0</td>\n      <td>3.0</td>\n      <td>261.0</td>\n    </tr>\n    <tr>\n      <th>Brent</th>\n      <td>102.219194</td>\n      <td>18.886372</td>\n      <td>119.416123</td>\n      <td>Brent</td>\n      <td>1227.0</td>\n      <td>20.0</td>\n      <td>1323.0</td>\n      <td>35.0</td>\n      <td>2605.0</td>\n    </tr>\n    <tr>\n      <th>Bromley</th>\n      <td>65.461774</td>\n      <td>2.102446</td>\n      <td>131.181957</td>\n      <td>Bromley</td>\n      <td>239.0</td>\n      <td>15.0</td>\n      <td>394.0</td>\n      <td>6.0</td>\n      <td>654.0</td>\n    </tr>\n  </tbody>\n</table>\n</div>"
     },
     "metadata": {},
     "execution_count": 197
    }
   ],
   "source": [
    "merged_df = neighbourhood_avgs.join(listing_type_bars_df)\n",
    "merged_df.head()"
   ]
  },
  {
   "cell_type": "code",
   "execution_count": 202,
   "metadata": {},
   "outputs": [
    {
     "output_type": "display_data",
     "data": {
      "application/vnd.plotly.v1+json": {
       "config": {
        "plotlyServerURL": "https://plot.ly"
       },
       "data": [
        {
         "hovertemplate": "neighbourhood=%{text}<br>Avg. No of Host Owned Listings=%{x}<br>Entire home/apt=%{y}<extra></extra>",
         "legendgroup": "Barking and Dagenham",
         "marker": {
          "color": "#636efa",
          "symbol": "circle"
         },
         "mode": "markers+text",
         "name": "Barking and Dagenham",
         "orientation": "v",
         "showlegend": true,
         "text": [
          "Barking and Dagenham"
         ],
         "textposition": "top center",
         "type": "scatter",
         "x": [
          2.515151515151515
         ],
         "xaxis": "x",
         "y": [
          110
         ],
         "yaxis": "y"
        },
        {
         "hovertemplate": "neighbourhood=%{text}<br>Avg. No of Host Owned Listings=%{x}<br>Entire home/apt=%{y}<extra></extra>",
         "legendgroup": "Barnet",
         "marker": {
          "color": "#EF553B",
          "symbol": "circle"
         },
         "mode": "markers+text",
         "name": "Barnet",
         "orientation": "v",
         "showlegend": true,
         "text": [
          "Barnet"
         ],
         "textposition": "top center",
         "type": "scatter",
         "x": [
          11.7
         ],
         "xaxis": "x",
         "y": [
          719
         ],
         "yaxis": "y"
        },
        {
         "hovertemplate": "neighbourhood=%{text}<br>Avg. No of Host Owned Listings=%{x}<br>Entire home/apt=%{y}<extra></extra>",
         "legendgroup": "Bexley",
         "marker": {
          "color": "#00cc96",
          "symbol": "circle"
         },
         "mode": "markers+text",
         "name": "Bexley",
         "orientation": "v",
         "showlegend": true,
         "text": [
          "Bexley"
         ],
         "textposition": "top center",
         "type": "scatter",
         "x": [
          2.2337164750957856
         ],
         "xaxis": "x",
         "y": [
          76
         ],
         "yaxis": "y"
        },
        {
         "hovertemplate": "neighbourhood=%{text}<br>Avg. No of Host Owned Listings=%{x}<br>Entire home/apt=%{y}<extra></extra>",
         "legendgroup": "Brent",
         "marker": {
          "color": "#ab63fa",
          "symbol": "circle"
         },
         "mode": "markers+text",
         "name": "Brent",
         "orientation": "v",
         "showlegend": true,
         "text": [
          "Brent"
         ],
         "textposition": "top center",
         "type": "scatter",
         "x": [
          18.88637236084453
         ],
         "xaxis": "x",
         "y": [
          1227
         ],
         "yaxis": "y"
        },
        {
         "hovertemplate": "neighbourhood=%{text}<br>Avg. No of Host Owned Listings=%{x}<br>Entire home/apt=%{y}<extra></extra>",
         "legendgroup": "Bromley",
         "marker": {
          "color": "#FFA15A",
          "symbol": "circle"
         },
         "mode": "markers+text",
         "name": "Bromley",
         "orientation": "v",
         "showlegend": true,
         "text": [
          "Bromley"
         ],
         "textposition": "top center",
         "type": "scatter",
         "x": [
          2.102446483180428
         ],
         "xaxis": "x",
         "y": [
          239
         ],
         "yaxis": "y"
        },
        {
         "hovertemplate": "neighbourhood=%{text}<br>Avg. No of Host Owned Listings=%{x}<br>Entire home/apt=%{y}<extra></extra>",
         "legendgroup": "Camden",
         "marker": {
          "color": "#19d3f3",
          "symbol": "circle"
         },
         "mode": "markers+text",
         "name": "Camden",
         "orientation": "v",
         "showlegend": true,
         "text": [
          "Camden"
         ],
         "textposition": "top center",
         "type": "scatter",
         "x": [
          26.85695979497037
         ],
         "xaxis": "x",
         "y": [
          4125
         ],
         "yaxis": "y"
        },
        {
         "hovertemplate": "neighbourhood=%{text}<br>Avg. No of Host Owned Listings=%{x}<br>Entire home/apt=%{y}<extra></extra>",
         "legendgroup": "City of London",
         "marker": {
          "color": "#FF6692",
          "symbol": "circle"
         },
         "mode": "markers+text",
         "name": "City of London",
         "orientation": "v",
         "showlegend": true,
         "text": [
          "City of London"
         ],
         "textposition": "top center",
         "type": "scatter",
         "x": [
          27.780040733197556
         ],
         "xaxis": "x",
         "y": [
          428
         ],
         "yaxis": "y"
        },
        {
         "hovertemplate": "neighbourhood=%{text}<br>Avg. No of Host Owned Listings=%{x}<br>Entire home/apt=%{y}<extra></extra>",
         "legendgroup": "Croydon",
         "marker": {
          "color": "#B6E880",
          "symbol": "circle"
         },
         "mode": "markers+text",
         "name": "Croydon",
         "orientation": "v",
         "showlegend": true,
         "text": [
          "Croydon"
         ],
         "textposition": "top center",
         "type": "scatter",
         "x": [
          2.852428964252979
         ],
         "xaxis": "x",
         "y": [
          394
         ],
         "yaxis": "y"
        },
        {
         "hovertemplate": "neighbourhood=%{text}<br>Avg. No of Host Owned Listings=%{x}<br>Entire home/apt=%{y}<extra></extra>",
         "legendgroup": "Ealing",
         "marker": {
          "color": "#FF97FF",
          "symbol": "circle"
         },
         "mode": "markers+text",
         "name": "Ealing",
         "orientation": "v",
         "showlegend": true,
         "text": [
          "Ealing"
         ],
         "textposition": "top center",
         "type": "scatter",
         "x": [
          10.692737430167599
         ],
         "xaxis": "x",
         "y": [
          705
         ],
         "yaxis": "y"
        },
        {
         "hovertemplate": "neighbourhood=%{text}<br>Avg. No of Host Owned Listings=%{x}<br>Entire home/apt=%{y}<extra></extra>",
         "legendgroup": "Enfield",
         "marker": {
          "color": "#FECB52",
          "symbol": "circle"
         },
         "mode": "markers+text",
         "name": "Enfield",
         "orientation": "v",
         "showlegend": true,
         "text": [
          "Enfield"
         ],
         "textposition": "top center",
         "type": "scatter",
         "x": [
          3.832394366197183
         ],
         "xaxis": "x",
         "y": [
          233
         ],
         "yaxis": "y"
        },
        {
         "hovertemplate": "neighbourhood=%{text}<br>Avg. No of Host Owned Listings=%{x}<br>Entire home/apt=%{y}<extra></extra>",
         "legendgroup": "Greenwich",
         "marker": {
          "color": "#636efa",
          "symbol": "circle"
         },
         "mode": "markers+text",
         "name": "Greenwich",
         "orientation": "v",
         "showlegend": true,
         "text": [
          "Greenwich"
         ],
         "textposition": "top center",
         "type": "scatter",
         "x": [
          8.006336405529954
         ],
         "xaxis": "x",
         "y": [
          829
         ],
         "yaxis": "y"
        },
        {
         "hovertemplate": "neighbourhood=%{text}<br>Avg. No of Host Owned Listings=%{x}<br>Entire home/apt=%{y}<extra></extra>",
         "legendgroup": "Hackney",
         "marker": {
          "color": "#EF553B",
          "symbol": "circle"
         },
         "mode": "markers+text",
         "name": "Hackney",
         "orientation": "v",
         "showlegend": true,
         "text": [
          "Hackney"
         ],
         "textposition": "top center",
         "type": "scatter",
         "x": [
          13.782608695652174
         ],
         "xaxis": "x",
         "y": [
          3382
         ],
         "yaxis": "y"
        },
        {
         "hovertemplate": "neighbourhood=%{text}<br>Avg. No of Host Owned Listings=%{x}<br>Entire home/apt=%{y}<extra></extra>",
         "legendgroup": "Hammersmith and Fulham",
         "marker": {
          "color": "#00cc96",
          "symbol": "circle"
         },
         "mode": "markers+text",
         "name": "Hammersmith and Fulham",
         "orientation": "v",
         "showlegend": true,
         "text": [
          "Hammersmith and Fulham"
         ],
         "textposition": "top center",
         "type": "scatter",
         "x": [
          38.95676824946846
         ],
         "xaxis": "x",
         "y": [
          2786
         ],
         "yaxis": "y"
        },
        {
         "hovertemplate": "neighbourhood=%{text}<br>Avg. No of Host Owned Listings=%{x}<br>Entire home/apt=%{y}<extra></extra>",
         "legendgroup": "Haringey",
         "marker": {
          "color": "#ab63fa",
          "symbol": "circle"
         },
         "mode": "markers+text",
         "name": "Haringey",
         "orientation": "v",
         "showlegend": true,
         "text": [
          "Haringey"
         ],
         "textposition": "top center",
         "type": "scatter",
         "x": [
          12.717868338557993
         ],
         "xaxis": "x",
         "y": [
          991
         ],
         "yaxis": "y"
        },
        {
         "hovertemplate": "neighbourhood=%{text}<br>Avg. No of Host Owned Listings=%{x}<br>Entire home/apt=%{y}<extra></extra>",
         "legendgroup": "Harrow",
         "marker": {
          "color": "#FFA15A",
          "symbol": "circle"
         },
         "mode": "markers+text",
         "name": "Harrow",
         "orientation": "v",
         "showlegend": true,
         "text": [
          "Harrow"
         ],
         "textposition": "top center",
         "type": "scatter",
         "x": [
          3.295983086680761
         ],
         "xaxis": "x",
         "y": [
          163
         ],
         "yaxis": "y"
        },
        {
         "hovertemplate": "neighbourhood=%{text}<br>Avg. No of Host Owned Listings=%{x}<br>Entire home/apt=%{y}<extra></extra>",
         "legendgroup": "Havering",
         "marker": {
          "color": "#19d3f3",
          "symbol": "circle"
         },
         "mode": "markers+text",
         "name": "Havering",
         "orientation": "v",
         "showlegend": true,
         "text": [
          "Havering"
         ],
         "textposition": "top center",
         "type": "scatter",
         "x": [
          4.94921875
         ],
         "xaxis": "x",
         "y": [
          97
         ],
         "yaxis": "y"
        },
        {
         "hovertemplate": "neighbourhood=%{text}<br>Avg. No of Host Owned Listings=%{x}<br>Entire home/apt=%{y}<extra></extra>",
         "legendgroup": "Hillingdon",
         "marker": {
          "color": "#FF6692",
          "symbol": "circle"
         },
         "mode": "markers+text",
         "name": "Hillingdon",
         "orientation": "v",
         "showlegend": true,
         "text": [
          "Hillingdon"
         ],
         "textposition": "top center",
         "type": "scatter",
         "x": [
          7.513513513513513
         ],
         "xaxis": "x",
         "y": [
          215
         ],
         "yaxis": "y"
        },
        {
         "hovertemplate": "neighbourhood=%{text}<br>Avg. No of Host Owned Listings=%{x}<br>Entire home/apt=%{y}<extra></extra>",
         "legendgroup": "Hounslow",
         "marker": {
          "color": "#B6E880",
          "symbol": "circle"
         },
         "mode": "markers+text",
         "name": "Hounslow",
         "orientation": "v",
         "showlegend": true,
         "text": [
          "Hounslow"
         ],
         "textposition": "top center",
         "type": "scatter",
         "x": [
          23.638009049773757
         ],
         "xaxis": "x",
         "y": [
          505
         ],
         "yaxis": "y"
        },
        {
         "hovertemplate": "neighbourhood=%{text}<br>Avg. No of Host Owned Listings=%{x}<br>Entire home/apt=%{y}<extra></extra>",
         "legendgroup": "Islington",
         "marker": {
          "color": "#FF97FF",
          "symbol": "circle"
         },
         "mode": "markers+text",
         "name": "Islington",
         "orientation": "v",
         "showlegend": true,
         "text": [
          "Islington"
         ],
         "textposition": "top center",
         "type": "scatter",
         "x": [
          24.33791591950588
         ],
         "xaxis": "x",
         "y": [
          3124
         ],
         "yaxis": "y"
        },
        {
         "hovertemplate": "neighbourhood=%{text}<br>Avg. No of Host Owned Listings=%{x}<br>Entire home/apt=%{y}<extra></extra>",
         "legendgroup": "Kensington and Chelsea",
         "marker": {
          "color": "#FECB52",
          "symbol": "circle"
         },
         "mode": "markers+text",
         "name": "Kensington and Chelsea",
         "orientation": "v",
         "showlegend": true,
         "text": [
          "Kensington and Chelsea"
         ],
         "textposition": "top center",
         "type": "scatter",
         "x": [
          42.44777101496957
         ],
         "xaxis": "x",
         "y": [
          4853
         ],
         "yaxis": "y"
        },
        {
         "hovertemplate": "neighbourhood=%{text}<br>Avg. No of Host Owned Listings=%{x}<br>Entire home/apt=%{y}<extra></extra>",
         "legendgroup": "Kingston upon Thames",
         "marker": {
          "color": "#636efa",
          "symbol": "circle"
         },
         "mode": "markers+text",
         "name": "Kingston upon Thames",
         "orientation": "v",
         "showlegend": true,
         "text": [
          "Kingston upon Thames"
         ],
         "textposition": "top center",
         "type": "scatter",
         "x": [
          4.08
         ],
         "xaxis": "x",
         "y": [
          234
         ],
         "yaxis": "y"
        },
        {
         "hovertemplate": "neighbourhood=%{text}<br>Avg. No of Host Owned Listings=%{x}<br>Entire home/apt=%{y}<extra></extra>",
         "legendgroup": "Lambeth",
         "marker": {
          "color": "#EF553B",
          "symbol": "circle"
         },
         "mode": "markers+text",
         "name": "Lambeth",
         "orientation": "v",
         "showlegend": true,
         "text": [
          "Lambeth"
         ],
         "textposition": "top center",
         "type": "scatter",
         "x": [
          16.120467117393975
         ],
         "xaxis": "x",
         "y": [
          2516
         ],
         "yaxis": "y"
        },
        {
         "hovertemplate": "neighbourhood=%{text}<br>Avg. No of Host Owned Listings=%{x}<br>Entire home/apt=%{y}<extra></extra>",
         "legendgroup": "Lewisham",
         "marker": {
          "color": "#00cc96",
          "symbol": "circle"
         },
         "mode": "markers+text",
         "name": "Lewisham",
         "orientation": "v",
         "showlegend": true,
         "text": [
          "Lewisham"
         ],
         "textposition": "top center",
         "type": "scatter",
         "x": [
          3.1371453138435084
         ],
         "xaxis": "x",
         "y": [
          975
         ],
         "yaxis": "y"
        },
        {
         "hovertemplate": "neighbourhood=%{text}<br>Avg. No of Host Owned Listings=%{x}<br>Entire home/apt=%{y}<extra></extra>",
         "legendgroup": "Merton",
         "marker": {
          "color": "#ab63fa",
          "symbol": "circle"
         },
         "mode": "markers+text",
         "name": "Merton",
         "orientation": "v",
         "showlegend": true,
         "text": [
          "Merton"
         ],
         "textposition": "top center",
         "type": "scatter",
         "x": [
          32.31818181818182
         ],
         "xaxis": "x",
         "y": [
          604
         ],
         "yaxis": "y"
        },
        {
         "hovertemplate": "neighbourhood=%{text}<br>Avg. No of Host Owned Listings=%{x}<br>Entire home/apt=%{y}<extra></extra>",
         "legendgroup": "Newham",
         "marker": {
          "color": "#FFA15A",
          "symbol": "circle"
         },
         "mode": "markers+text",
         "name": "Newham",
         "orientation": "v",
         "showlegend": true,
         "text": [
          "Newham"
         ],
         "textposition": "top center",
         "type": "scatter",
         "x": [
          5.700144857556736
         ],
         "xaxis": "x",
         "y": [
          802
         ],
         "yaxis": "y"
        },
        {
         "hovertemplate": "neighbourhood=%{text}<br>Avg. No of Host Owned Listings=%{x}<br>Entire home/apt=%{y}<extra></extra>",
         "legendgroup": "Redbridge",
         "marker": {
          "color": "#19d3f3",
          "symbol": "circle"
         },
         "mode": "markers+text",
         "name": "Redbridge",
         "orientation": "v",
         "showlegend": true,
         "text": [
          "Redbridge"
         ],
         "textposition": "top center",
         "type": "scatter",
         "x": [
          4.264627659574468
         ],
         "xaxis": "x",
         "y": [
          243
         ],
         "yaxis": "y"
        },
        {
         "hovertemplate": "neighbourhood=%{text}<br>Avg. No of Host Owned Listings=%{x}<br>Entire home/apt=%{y}<extra></extra>",
         "legendgroup": "Richmond upon Thames",
         "marker": {
          "color": "#FF6692",
          "symbol": "circle"
         },
         "mode": "markers+text",
         "name": "Richmond upon Thames",
         "orientation": "v",
         "showlegend": true,
         "text": [
          "Richmond upon Thames"
         ],
         "textposition": "top center",
         "type": "scatter",
         "x": [
          29.686113393590798
         ],
         "xaxis": "x",
         "y": [
          684
         ],
         "yaxis": "y"
        },
        {
         "hovertemplate": "neighbourhood=%{text}<br>Avg. No of Host Owned Listings=%{x}<br>Entire home/apt=%{y}<extra></extra>",
         "legendgroup": "Southwark",
         "marker": {
          "color": "#B6E880",
          "symbol": "circle"
         },
         "mode": "markers+text",
         "name": "Southwark",
         "orientation": "v",
         "showlegend": true,
         "text": [
          "Southwark"
         ],
         "textposition": "top center",
         "type": "scatter",
         "x": [
          10.652612467218075
         ],
         "xaxis": "x",
         "y": [
          2694
         ],
         "yaxis": "y"
        },
        {
         "hovertemplate": "neighbourhood=%{text}<br>Avg. No of Host Owned Listings=%{x}<br>Entire home/apt=%{y}<extra></extra>",
         "legendgroup": "Sutton",
         "marker": {
          "color": "#FF97FF",
          "symbol": "circle"
         },
         "mode": "markers+text",
         "name": "Sutton",
         "orientation": "v",
         "showlegend": true,
         "text": [
          "Sutton"
         ],
         "textposition": "top center",
         "type": "scatter",
         "x": [
          1.921383647798742
         ],
         "xaxis": "x",
         "y": [
          97
         ],
         "yaxis": "y"
        },
        {
         "hovertemplate": "neighbourhood=%{text}<br>Avg. No of Host Owned Listings=%{x}<br>Entire home/apt=%{y}<extra></extra>",
         "legendgroup": "Tower Hamlets",
         "marker": {
          "color": "#FECB52",
          "symbol": "circle"
         },
         "mode": "markers+text",
         "name": "Tower Hamlets",
         "orientation": "v",
         "showlegend": true,
         "text": [
          "Tower Hamlets"
         ],
         "textposition": "top center",
         "type": "scatter",
         "x": [
          21.671313544045187
         ],
         "xaxis": "x",
         "y": [
          4067
         ],
         "yaxis": "y"
        },
        {
         "hovertemplate": "neighbourhood=%{text}<br>Avg. No of Host Owned Listings=%{x}<br>Entire home/apt=%{y}<extra></extra>",
         "legendgroup": "Waltham Forest",
         "marker": {
          "color": "#636efa",
          "symbol": "circle"
         },
         "mode": "markers+text",
         "name": "Waltham Forest",
         "orientation": "v",
         "showlegend": true,
         "text": [
          "Waltham Forest"
         ],
         "textposition": "top center",
         "type": "scatter",
         "x": [
          3.769647696476965
         ],
         "xaxis": "x",
         "y": [
          669
         ],
         "yaxis": "y"
        },
        {
         "hovertemplate": "neighbourhood=%{text}<br>Avg. No of Host Owned Listings=%{x}<br>Entire home/apt=%{y}<extra></extra>",
         "legendgroup": "Wandsworth",
         "marker": {
          "color": "#EF553B",
          "symbol": "circle"
         },
         "mode": "markers+text",
         "name": "Wandsworth",
         "orientation": "v",
         "showlegend": true,
         "text": [
          "Wandsworth"
         ],
         "textposition": "top center",
         "type": "scatter",
         "x": [
          37.81459751232105
         ],
         "xaxis": "x",
         "y": [
          2375
         ],
         "yaxis": "y"
        },
        {
         "hovertemplate": "neighbourhood=%{text}<br>Avg. No of Host Owned Listings=%{x}<br>Entire home/apt=%{y}<extra></extra>",
         "legendgroup": "Westminster",
         "marker": {
          "color": "#00cc96",
          "symbol": "circle"
         },
         "mode": "markers+text",
         "name": "Westminster",
         "orientation": "v",
         "showlegend": true,
         "text": [
          "Westminster"
         ],
         "textposition": "top center",
         "type": "scatter",
         "x": [
          24.50417379060646
         ],
         "xaxis": "x",
         "y": [
          7389
         ],
         "yaxis": "y"
        }
       ],
       "layout": {
        "autosize": false,
        "height": 500,
        "legend": {
         "title": {
          "text": "neighbourhood"
         },
         "tracegroupgap": 0
        },
        "margin": {
         "t": 60
        },
        "showlegend": false,
        "template": {
         "data": {
          "bar": [
           {
            "error_x": {
             "color": "#f2f5fa"
            },
            "error_y": {
             "color": "#f2f5fa"
            },
            "marker": {
             "line": {
              "color": "rgb(17,17,17)",
              "width": 0.5
             }
            },
            "type": "bar"
           }
          ],
          "barpolar": [
           {
            "marker": {
             "line": {
              "color": "rgb(17,17,17)",
              "width": 0.5
             }
            },
            "type": "barpolar"
           }
          ],
          "carpet": [
           {
            "aaxis": {
             "endlinecolor": "#A2B1C6",
             "gridcolor": "#506784",
             "linecolor": "#506784",
             "minorgridcolor": "#506784",
             "startlinecolor": "#A2B1C6"
            },
            "baxis": {
             "endlinecolor": "#A2B1C6",
             "gridcolor": "#506784",
             "linecolor": "#506784",
             "minorgridcolor": "#506784",
             "startlinecolor": "#A2B1C6"
            },
            "type": "carpet"
           }
          ],
          "choropleth": [
           {
            "colorbar": {
             "outlinewidth": 0,
             "ticks": ""
            },
            "type": "choropleth"
           }
          ],
          "contour": [
           {
            "colorbar": {
             "outlinewidth": 0,
             "ticks": ""
            },
            "colorscale": [
             [
              0,
              "#0d0887"
             ],
             [
              0.1111111111111111,
              "#46039f"
             ],
             [
              0.2222222222222222,
              "#7201a8"
             ],
             [
              0.3333333333333333,
              "#9c179e"
             ],
             [
              0.4444444444444444,
              "#bd3786"
             ],
             [
              0.5555555555555556,
              "#d8576b"
             ],
             [
              0.6666666666666666,
              "#ed7953"
             ],
             [
              0.7777777777777778,
              "#fb9f3a"
             ],
             [
              0.8888888888888888,
              "#fdca26"
             ],
             [
              1,
              "#f0f921"
             ]
            ],
            "type": "contour"
           }
          ],
          "contourcarpet": [
           {
            "colorbar": {
             "outlinewidth": 0,
             "ticks": ""
            },
            "type": "contourcarpet"
           }
          ],
          "heatmap": [
           {
            "colorbar": {
             "outlinewidth": 0,
             "ticks": ""
            },
            "colorscale": [
             [
              0,
              "#0d0887"
             ],
             [
              0.1111111111111111,
              "#46039f"
             ],
             [
              0.2222222222222222,
              "#7201a8"
             ],
             [
              0.3333333333333333,
              "#9c179e"
             ],
             [
              0.4444444444444444,
              "#bd3786"
             ],
             [
              0.5555555555555556,
              "#d8576b"
             ],
             [
              0.6666666666666666,
              "#ed7953"
             ],
             [
              0.7777777777777778,
              "#fb9f3a"
             ],
             [
              0.8888888888888888,
              "#fdca26"
             ],
             [
              1,
              "#f0f921"
             ]
            ],
            "type": "heatmap"
           }
          ],
          "heatmapgl": [
           {
            "colorbar": {
             "outlinewidth": 0,
             "ticks": ""
            },
            "colorscale": [
             [
              0,
              "#0d0887"
             ],
             [
              0.1111111111111111,
              "#46039f"
             ],
             [
              0.2222222222222222,
              "#7201a8"
             ],
             [
              0.3333333333333333,
              "#9c179e"
             ],
             [
              0.4444444444444444,
              "#bd3786"
             ],
             [
              0.5555555555555556,
              "#d8576b"
             ],
             [
              0.6666666666666666,
              "#ed7953"
             ],
             [
              0.7777777777777778,
              "#fb9f3a"
             ],
             [
              0.8888888888888888,
              "#fdca26"
             ],
             [
              1,
              "#f0f921"
             ]
            ],
            "type": "heatmapgl"
           }
          ],
          "histogram": [
           {
            "marker": {
             "colorbar": {
              "outlinewidth": 0,
              "ticks": ""
             }
            },
            "type": "histogram"
           }
          ],
          "histogram2d": [
           {
            "colorbar": {
             "outlinewidth": 0,
             "ticks": ""
            },
            "colorscale": [
             [
              0,
              "#0d0887"
             ],
             [
              0.1111111111111111,
              "#46039f"
             ],
             [
              0.2222222222222222,
              "#7201a8"
             ],
             [
              0.3333333333333333,
              "#9c179e"
             ],
             [
              0.4444444444444444,
              "#bd3786"
             ],
             [
              0.5555555555555556,
              "#d8576b"
             ],
             [
              0.6666666666666666,
              "#ed7953"
             ],
             [
              0.7777777777777778,
              "#fb9f3a"
             ],
             [
              0.8888888888888888,
              "#fdca26"
             ],
             [
              1,
              "#f0f921"
             ]
            ],
            "type": "histogram2d"
           }
          ],
          "histogram2dcontour": [
           {
            "colorbar": {
             "outlinewidth": 0,
             "ticks": ""
            },
            "colorscale": [
             [
              0,
              "#0d0887"
             ],
             [
              0.1111111111111111,
              "#46039f"
             ],
             [
              0.2222222222222222,
              "#7201a8"
             ],
             [
              0.3333333333333333,
              "#9c179e"
             ],
             [
              0.4444444444444444,
              "#bd3786"
             ],
             [
              0.5555555555555556,
              "#d8576b"
             ],
             [
              0.6666666666666666,
              "#ed7953"
             ],
             [
              0.7777777777777778,
              "#fb9f3a"
             ],
             [
              0.8888888888888888,
              "#fdca26"
             ],
             [
              1,
              "#f0f921"
             ]
            ],
            "type": "histogram2dcontour"
           }
          ],
          "mesh3d": [
           {
            "colorbar": {
             "outlinewidth": 0,
             "ticks": ""
            },
            "type": "mesh3d"
           }
          ],
          "parcoords": [
           {
            "line": {
             "colorbar": {
              "outlinewidth": 0,
              "ticks": ""
             }
            },
            "type": "parcoords"
           }
          ],
          "pie": [
           {
            "automargin": true,
            "type": "pie"
           }
          ],
          "scatter": [
           {
            "marker": {
             "line": {
              "color": "#283442"
             }
            },
            "type": "scatter"
           }
          ],
          "scatter3d": [
           {
            "line": {
             "colorbar": {
              "outlinewidth": 0,
              "ticks": ""
             }
            },
            "marker": {
             "colorbar": {
              "outlinewidth": 0,
              "ticks": ""
             }
            },
            "type": "scatter3d"
           }
          ],
          "scattercarpet": [
           {
            "marker": {
             "colorbar": {
              "outlinewidth": 0,
              "ticks": ""
             }
            },
            "type": "scattercarpet"
           }
          ],
          "scattergeo": [
           {
            "marker": {
             "colorbar": {
              "outlinewidth": 0,
              "ticks": ""
             }
            },
            "type": "scattergeo"
           }
          ],
          "scattergl": [
           {
            "marker": {
             "line": {
              "color": "#283442"
             }
            },
            "type": "scattergl"
           }
          ],
          "scattermapbox": [
           {
            "marker": {
             "colorbar": {
              "outlinewidth": 0,
              "ticks": ""
             }
            },
            "type": "scattermapbox"
           }
          ],
          "scatterpolar": [
           {
            "marker": {
             "colorbar": {
              "outlinewidth": 0,
              "ticks": ""
             }
            },
            "type": "scatterpolar"
           }
          ],
          "scatterpolargl": [
           {
            "marker": {
             "colorbar": {
              "outlinewidth": 0,
              "ticks": ""
             }
            },
            "type": "scatterpolargl"
           }
          ],
          "scatterternary": [
           {
            "marker": {
             "colorbar": {
              "outlinewidth": 0,
              "ticks": ""
             }
            },
            "type": "scatterternary"
           }
          ],
          "surface": [
           {
            "colorbar": {
             "outlinewidth": 0,
             "ticks": ""
            },
            "colorscale": [
             [
              0,
              "#0d0887"
             ],
             [
              0.1111111111111111,
              "#46039f"
             ],
             [
              0.2222222222222222,
              "#7201a8"
             ],
             [
              0.3333333333333333,
              "#9c179e"
             ],
             [
              0.4444444444444444,
              "#bd3786"
             ],
             [
              0.5555555555555556,
              "#d8576b"
             ],
             [
              0.6666666666666666,
              "#ed7953"
             ],
             [
              0.7777777777777778,
              "#fb9f3a"
             ],
             [
              0.8888888888888888,
              "#fdca26"
             ],
             [
              1,
              "#f0f921"
             ]
            ],
            "type": "surface"
           }
          ],
          "table": [
           {
            "cells": {
             "fill": {
              "color": "#506784"
             },
             "line": {
              "color": "rgb(17,17,17)"
             }
            },
            "header": {
             "fill": {
              "color": "#2a3f5f"
             },
             "line": {
              "color": "rgb(17,17,17)"
             }
            },
            "type": "table"
           }
          ]
         },
         "layout": {
          "annotationdefaults": {
           "arrowcolor": "#f2f5fa",
           "arrowhead": 0,
           "arrowwidth": 1
          },
          "coloraxis": {
           "colorbar": {
            "outlinewidth": 0,
            "ticks": ""
           }
          },
          "colorscale": {
           "diverging": [
            [
             0,
             "#8e0152"
            ],
            [
             0.1,
             "#c51b7d"
            ],
            [
             0.2,
             "#de77ae"
            ],
            [
             0.3,
             "#f1b6da"
            ],
            [
             0.4,
             "#fde0ef"
            ],
            [
             0.5,
             "#f7f7f7"
            ],
            [
             0.6,
             "#e6f5d0"
            ],
            [
             0.7,
             "#b8e186"
            ],
            [
             0.8,
             "#7fbc41"
            ],
            [
             0.9,
             "#4d9221"
            ],
            [
             1,
             "#276419"
            ]
           ],
           "sequential": [
            [
             0,
             "#0d0887"
            ],
            [
             0.1111111111111111,
             "#46039f"
            ],
            [
             0.2222222222222222,
             "#7201a8"
            ],
            [
             0.3333333333333333,
             "#9c179e"
            ],
            [
             0.4444444444444444,
             "#bd3786"
            ],
            [
             0.5555555555555556,
             "#d8576b"
            ],
            [
             0.6666666666666666,
             "#ed7953"
            ],
            [
             0.7777777777777778,
             "#fb9f3a"
            ],
            [
             0.8888888888888888,
             "#fdca26"
            ],
            [
             1,
             "#f0f921"
            ]
           ],
           "sequentialminus": [
            [
             0,
             "#0d0887"
            ],
            [
             0.1111111111111111,
             "#46039f"
            ],
            [
             0.2222222222222222,
             "#7201a8"
            ],
            [
             0.3333333333333333,
             "#9c179e"
            ],
            [
             0.4444444444444444,
             "#bd3786"
            ],
            [
             0.5555555555555556,
             "#d8576b"
            ],
            [
             0.6666666666666666,
             "#ed7953"
            ],
            [
             0.7777777777777778,
             "#fb9f3a"
            ],
            [
             0.8888888888888888,
             "#fdca26"
            ],
            [
             1,
             "#f0f921"
            ]
           ]
          },
          "colorway": [
           "#636efa",
           "#EF553B",
           "#00cc96",
           "#ab63fa",
           "#FFA15A",
           "#19d3f3",
           "#FF6692",
           "#B6E880",
           "#FF97FF",
           "#FECB52"
          ],
          "font": {
           "color": "#f2f5fa"
          },
          "geo": {
           "bgcolor": "rgb(17,17,17)",
           "lakecolor": "rgb(17,17,17)",
           "landcolor": "rgb(17,17,17)",
           "showlakes": true,
           "showland": true,
           "subunitcolor": "#506784"
          },
          "hoverlabel": {
           "align": "left"
          },
          "hovermode": "closest",
          "mapbox": {
           "style": "dark"
          },
          "paper_bgcolor": "rgb(17,17,17)",
          "plot_bgcolor": "rgb(17,17,17)",
          "polar": {
           "angularaxis": {
            "gridcolor": "#506784",
            "linecolor": "#506784",
            "ticks": ""
           },
           "bgcolor": "rgb(17,17,17)",
           "radialaxis": {
            "gridcolor": "#506784",
            "linecolor": "#506784",
            "ticks": ""
           }
          },
          "scene": {
           "xaxis": {
            "backgroundcolor": "rgb(17,17,17)",
            "gridcolor": "#506784",
            "gridwidth": 2,
            "linecolor": "#506784",
            "showbackground": true,
            "ticks": "",
            "zerolinecolor": "#C8D4E3"
           },
           "yaxis": {
            "backgroundcolor": "rgb(17,17,17)",
            "gridcolor": "#506784",
            "gridwidth": 2,
            "linecolor": "#506784",
            "showbackground": true,
            "ticks": "",
            "zerolinecolor": "#C8D4E3"
           },
           "zaxis": {
            "backgroundcolor": "rgb(17,17,17)",
            "gridcolor": "#506784",
            "gridwidth": 2,
            "linecolor": "#506784",
            "showbackground": true,
            "ticks": "",
            "zerolinecolor": "#C8D4E3"
           }
          },
          "shapedefaults": {
           "line": {
            "color": "#f2f5fa"
           }
          },
          "sliderdefaults": {
           "bgcolor": "#C8D4E3",
           "bordercolor": "rgb(17,17,17)",
           "borderwidth": 1,
           "tickwidth": 0
          },
          "ternary": {
           "aaxis": {
            "gridcolor": "#506784",
            "linecolor": "#506784",
            "ticks": ""
           },
           "baxis": {
            "gridcolor": "#506784",
            "linecolor": "#506784",
            "ticks": ""
           },
           "bgcolor": "rgb(17,17,17)",
           "caxis": {
            "gridcolor": "#506784",
            "linecolor": "#506784",
            "ticks": ""
           }
          },
          "title": {
           "x": 0.05
          },
          "updatemenudefaults": {
           "bgcolor": "#506784",
           "borderwidth": 0
          },
          "xaxis": {
           "automargin": true,
           "gridcolor": "#283442",
           "linecolor": "#506784",
           "ticks": "",
           "title": {
            "standoff": 15
           },
           "zerolinecolor": "#283442",
           "zerolinewidth": 2
          },
          "yaxis": {
           "automargin": true,
           "gridcolor": "#283442",
           "linecolor": "#506784",
           "ticks": "",
           "title": {
            "standoff": 15
           },
           "zerolinecolor": "#283442",
           "zerolinewidth": 2
          }
         }
        },
        "width": 1200,
        "xaxis": {
         "anchor": "y",
         "domain": [
          0,
          1
         ],
         "tickmode": "array",
         "title": {
          "font": {
           "size": 14
          },
          "text": "Avg. No of Host Owned Listings"
         }
        },
        "yaxis": {
         "anchor": "x",
         "domain": [
          0,
          1
         ],
         "tickmode": "array",
         "title": {
          "font": {
           "size": 14
          },
          "text": "Yearly Availability (out 365 days)"
         }
        }
       }
      }
     },
     "metadata": {}
    }
   ],
   "source": [
    "fig = px.scatter(merged_df, x=\"Avg. No of Host Owned Listings\", y=\"Entire home/apt\", color=\"neighbourhood\", text=\"neighbourhood\",template='plotly_dark')\n",
    "fig.update_traces(textposition='top center')\n",
    "fig.update_layout(\n",
    "    showlegend=False,\n",
    "    autosize=False,\n",
    "    width=1200,\n",
    "    height=500,\n",
    "    yaxis=dict(\n",
    "        title_text=\"Yearly Availability (out 365 days)\",\n",
    "        tickmode=\"array\",\n",
    "        titlefont=dict(size=14),\n",
    "    ),\n",
    "    xaxis=dict(\n",
    "    title_text=\"Avg. No of Host Owned Listings\",\n",
    "    tickmode=\"array\",\n",
    "    titlefont=dict(size=14),\n",
    "    ))\n",
    "\n",
    "\n",
    "fig.show()"
   ]
  },
  {
   "cell_type": "code",
   "execution_count": null,
   "metadata": {},
   "outputs": [],
   "source": []
  }
 ],
 "metadata": {
  "language_info": {
   "codemirror_mode": {
    "name": "ipython",
    "version": 3
   },
   "file_extension": ".py",
   "mimetype": "text/x-python",
   "name": "python",
   "nbconvert_exporter": "python",
   "pygments_lexer": "ipython3",
   "version": "3.7.6-final"
  },
  "orig_nbformat": 2,
  "kernelspec": {
   "name": "python37664bit1c275fbc5cec4f6f8db42e6315e2c621",
   "display_name": "Python 3.7.6 64-bit"
  }
 },
 "nbformat": 4,
 "nbformat_minor": 2
}