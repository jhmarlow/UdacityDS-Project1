{
 "cells": [
  {
   "cell_type": "markdown",
   "metadata": {},
   "source": [
    "# Airbnb Seattle: Looking at Listing Owner Patterns\n",
    "\n",
    "Take a look at who owns the properties in seattle and how they are rented out"
   ]
  },
  {
   "cell_type": "code",
   "execution_count": 1,
   "metadata": {},
   "outputs": [],
   "source": [
    "# imports\n",
    "import pandas as pd\n",
    "import seaborn as sns\n",
    "import numpy as np\n",
    "import plotly.express as px"
   ]
  },
  {
   "cell_type": "markdown",
   "metadata": {},
   "source": [
    "### Load Data"
   ]
  },
  {
   "cell_type": "code",
   "execution_count": 2,
   "metadata": {
    "tags": []
   },
   "outputs": [
    {
     "output_type": "stream",
     "name": "stdout",
     "text": "2751\nIndex(['id', 'listing_url', 'scrape_id', 'last_scraped', 'name', 'summary',\n       'space', 'description', 'experiences_offered', 'neighborhood_overview',\n       'notes', 'transit', 'thumbnail_url', 'medium_url', 'picture_url',\n       'xl_picture_url', 'host_id', 'host_url', 'host_name', 'host_since',\n       'host_location', 'host_about', 'host_response_time',\n       'host_response_rate', 'host_acceptance_rate', 'host_is_superhost',\n       'host_thumbnail_url', 'host_picture_url', 'host_neighbourhood',\n       'host_listings_count', 'host_total_listings_count',\n       'host_verifications', 'host_has_profile_pic', 'host_identity_verified',\n       'street', 'neighbourhood', 'neighbourhood_cleansed',\n       'neighbourhood_group_cleansed', 'city', 'state', 'zipcode', 'market',\n       'smart_location', 'country_code', 'country', 'latitude', 'longitude',\n       'is_location_exact', 'property_type', 'room_type', 'accommodates',\n       'bathrooms', 'bedrooms', 'beds', 'bed_type', 'amenities', 'square_feet',\n       'price', 'weekly_price', 'monthly_price', 'security_deposit',\n       'cleaning_fee', 'guests_included', 'extra_people', 'minimum_nights',\n       'maximum_nights', 'calendar_updated', 'has_availability',\n       'availability_30', 'availability_60', 'availability_90',\n       'availability_365', 'calendar_last_scraped', 'number_of_reviews',\n       'first_review', 'last_review', 'review_scores_rating',\n       'review_scores_accuracy', 'review_scores_cleanliness',\n       'review_scores_checkin', 'review_scores_communication',\n       'review_scores_location', 'review_scores_value', 'requires_license',\n       'license', 'jurisdiction_names', 'instant_bookable',\n       'cancellation_policy', 'require_guest_profile_picture',\n       'require_guest_phone_verification', 'calculated_host_listings_count',\n       'reviews_per_month'],\n      dtype='object')\n"
    }
   ],
   "source": [
    "listings_df = pd.read_csv(\"../data/listings.csv\", dtype='unicode')\n",
    "\n",
    "print(listings_df['host_id'].unique().shape[0])\n",
    "print(listings_df.columns)"
   ]
  },
  {
   "cell_type": "code",
   "execution_count": 3,
   "metadata": {},
   "outputs": [
    {
     "output_type": "execute_result",
     "data": {
      "text/plain": "       id                          listing_url       scrape_id last_scraped  \\\n0  241032  https://www.airbnb.com/rooms/241032  20160104002432   2016-01-04   \n1  953595  https://www.airbnb.com/rooms/953595  20160104002432   2016-01-04   \n\n                                 name  \\\n0        Stylish Queen Anne Apartment   \n1  Bright & Airy Queen Anne Apartment   \n\n                                             summary  \\\n0                                                NaN   \n1  Chemically sensitive? We've removed the irrita...   \n\n                                               space  \\\n0  Make your self at home in this charming one-be...   \n1  Beautiful, hypoallergenic apartment in an extr...   \n\n                                         description experiences_offered  \\\n0  Make your self at home in this charming one-be...                none   \n1  Chemically sensitive? We've removed the irrita...                none   \n\n                               neighborhood_overview  ... review_scores_value  \\\n0                                                NaN  ...                  10   \n1  Queen Anne is a wonderful, truly functional vi...  ...                  10   \n\n  requires_license license jurisdiction_names instant_bookable  \\\n0                f     NaN         WASHINGTON                f   \n1                f     NaN         WASHINGTON                f   \n\n  cancellation_policy require_guest_profile_picture  \\\n0            moderate                             f   \n1              strict                             t   \n\n  require_guest_phone_verification calculated_host_listings_count  \\\n0                                f                              2   \n1                                t                              6   \n\n  reviews_per_month  \n0              4.07  \n1              1.48  \n\n[2 rows x 92 columns]",
      "text/html": "<div>\n<style scoped>\n    .dataframe tbody tr th:only-of-type {\n        vertical-align: middle;\n    }\n\n    .dataframe tbody tr th {\n        vertical-align: top;\n    }\n\n    .dataframe thead th {\n        text-align: right;\n    }\n</style>\n<table border=\"1\" class=\"dataframe\">\n  <thead>\n    <tr style=\"text-align: right;\">\n      <th></th>\n      <th>id</th>\n      <th>listing_url</th>\n      <th>scrape_id</th>\n      <th>last_scraped</th>\n      <th>name</th>\n      <th>summary</th>\n      <th>space</th>\n      <th>description</th>\n      <th>experiences_offered</th>\n      <th>neighborhood_overview</th>\n      <th>...</th>\n      <th>review_scores_value</th>\n      <th>requires_license</th>\n      <th>license</th>\n      <th>jurisdiction_names</th>\n      <th>instant_bookable</th>\n      <th>cancellation_policy</th>\n      <th>require_guest_profile_picture</th>\n      <th>require_guest_phone_verification</th>\n      <th>calculated_host_listings_count</th>\n      <th>reviews_per_month</th>\n    </tr>\n  </thead>\n  <tbody>\n    <tr>\n      <th>0</th>\n      <td>241032</td>\n      <td>https://www.airbnb.com/rooms/241032</td>\n      <td>20160104002432</td>\n      <td>2016-01-04</td>\n      <td>Stylish Queen Anne Apartment</td>\n      <td>NaN</td>\n      <td>Make your self at home in this charming one-be...</td>\n      <td>Make your self at home in this charming one-be...</td>\n      <td>none</td>\n      <td>NaN</td>\n      <td>...</td>\n      <td>10</td>\n      <td>f</td>\n      <td>NaN</td>\n      <td>WASHINGTON</td>\n      <td>f</td>\n      <td>moderate</td>\n      <td>f</td>\n      <td>f</td>\n      <td>2</td>\n      <td>4.07</td>\n    </tr>\n    <tr>\n      <th>1</th>\n      <td>953595</td>\n      <td>https://www.airbnb.com/rooms/953595</td>\n      <td>20160104002432</td>\n      <td>2016-01-04</td>\n      <td>Bright &amp; Airy Queen Anne Apartment</td>\n      <td>Chemically sensitive? We've removed the irrita...</td>\n      <td>Beautiful, hypoallergenic apartment in an extr...</td>\n      <td>Chemically sensitive? We've removed the irrita...</td>\n      <td>none</td>\n      <td>Queen Anne is a wonderful, truly functional vi...</td>\n      <td>...</td>\n      <td>10</td>\n      <td>f</td>\n      <td>NaN</td>\n      <td>WASHINGTON</td>\n      <td>f</td>\n      <td>strict</td>\n      <td>t</td>\n      <td>t</td>\n      <td>6</td>\n      <td>1.48</td>\n    </tr>\n  </tbody>\n</table>\n<p>2 rows × 92 columns</p>\n</div>"
     },
     "metadata": {},
     "execution_count": 3
    }
   ],
   "source": [
    "listings_df.head(2)"
   ]
  },
  {
   "cell_type": "markdown",
   "metadata": {},
   "source": [
    "### Data Wrangling"
   ]
  },
  {
   "cell_type": "code",
   "execution_count": 4,
   "metadata": {},
   "outputs": [],
   "source": [
    "def check_uniqueness(df, column_name):\n",
    "    \"\"\"Check the unique rows.\"\"\"\n",
    "    print(\"Number of rows: \" + str(df.shape[0]))\n",
    "    print(\"Number of distinct rows: \" + str(df[column_name].unique().shape[0]))  # making sure no duplicate listings\n",
    "\n",
    "def clean_string(df, col_name, character_list):\n",
    "    \"\"\" Clean string of defined characters.\n",
    "    \n",
    "    Returns: df with column cleaned \"\"\"\n",
    "    df[col_name] = df[col_name].astype(str)\n",
    "\n",
    "    for char in character_list:\n",
    "        df[col_name] = [x.replace(char,'') for x in df[col_name]]\n",
    "    \n",
    "    return df\n",
    "\n",
    "def col_to_dtype(df, col_name, dtype):\n",
    "    \"\"\"Change df col to particular dtype.\n",
    "    \n",
    "    Returns: df with column changed\"\"\"\n",
    "    df[col_name] = df[col_name].astype(dtype)\n",
    "\n",
    "    return df\n",
    "\n",
    "listings_df = clean_string(listings_df, 'price', ['$',','])\n",
    "listings_df = col_to_dtype(listings_df, 'price', 'float')"
   ]
  },
  {
   "cell_type": "code",
   "execution_count": 5,
   "metadata": {
    "tags": []
   },
   "outputs": [
    {
     "output_type": "stream",
     "name": "stdout",
     "text": "Number of rows: 3818\nNumber of distinct rows: 3818\n"
    }
   ],
   "source": [
    "## Check Unique Lisitngs\n",
    "check_uniqueness(listings_df, 'id')"
   ]
  },
  {
   "cell_type": "code",
   "execution_count": 12,
   "metadata": {},
   "outputs": [],
   "source": [
    "\n",
    "\n",
    "listings_df = col_to_dtype(listings_df, 'calculated_host_listings_count', 'int')\n",
    "listings_df = col_to_dtype(listings_df, 'price', 'int')\n",
    "listings_df = col_to_dtype(listings_df, 'availability_365', 'int')"
   ]
  },
  {
   "cell_type": "markdown",
   "metadata": {},
   "source": [
    "### Data Analysis"
   ]
  },
  {
   "cell_type": "code",
   "execution_count": 13,
   "metadata": {
    "tags": []
   },
   "outputs": [
    {
     "output_type": "execute_result",
     "data": {
      "text/plain": "                              Avg. Listing Price (£)  \\\nneighbourhood_group_cleansed                           \nBallard                                       124.68   \nBeacon Hill                                    94.67   \nCapitol Hill                                  130.59   \nCascade                                       140.10   \nCentral Area                                  128.34   \n\n                              Yearly Availability (out 365 days)  \\\nneighbourhood_group_cleansed                                       \nBallard                                                   252.67   \nBeacon Hill                                               256.53   \nCapitol Hill                                              233.98   \nCascade                                                   210.30   \nCentral Area                                              245.41   \n\n                              Avg. No of Host Owned Listings  \\\nneighbourhood_group_cleansed                                   \nBallard                                                 1.66   \nBeacon Hill                                             2.72   \nCapitol Hill                                            3.65   \nCascade                                                 1.40   \nCentral Area                                            1.82   \n\n                             neighbourhood_group_cleansed  \nneighbourhood_group_cleansed                               \nBallard                                           Ballard  \nBeacon Hill                                   Beacon Hill  \nCapitol Hill                                 Capitol Hill  \nCascade                                           Cascade  \nCentral Area                                 Central Area  ",
      "text/html": "<div>\n<style scoped>\n    .dataframe tbody tr th:only-of-type {\n        vertical-align: middle;\n    }\n\n    .dataframe tbody tr th {\n        vertical-align: top;\n    }\n\n    .dataframe thead th {\n        text-align: right;\n    }\n</style>\n<table border=\"1\" class=\"dataframe\">\n  <thead>\n    <tr style=\"text-align: right;\">\n      <th></th>\n      <th>Avg. Listing Price (£)</th>\n      <th>Yearly Availability (out 365 days)</th>\n      <th>Avg. No of Host Owned Listings</th>\n      <th>neighbourhood_group_cleansed</th>\n    </tr>\n    <tr>\n      <th>neighbourhood_group_cleansed</th>\n      <th></th>\n      <th></th>\n      <th></th>\n      <th></th>\n    </tr>\n  </thead>\n  <tbody>\n    <tr>\n      <th>Ballard</th>\n      <td>124.68</td>\n      <td>252.67</td>\n      <td>1.66</td>\n      <td>Ballard</td>\n    </tr>\n    <tr>\n      <th>Beacon Hill</th>\n      <td>94.67</td>\n      <td>256.53</td>\n      <td>2.72</td>\n      <td>Beacon Hill</td>\n    </tr>\n    <tr>\n      <th>Capitol Hill</th>\n      <td>130.59</td>\n      <td>233.98</td>\n      <td>3.65</td>\n      <td>Capitol Hill</td>\n    </tr>\n    <tr>\n      <th>Cascade</th>\n      <td>140.10</td>\n      <td>210.30</td>\n      <td>1.40</td>\n      <td>Cascade</td>\n    </tr>\n    <tr>\n      <th>Central Area</th>\n      <td>128.34</td>\n      <td>245.41</td>\n      <td>1.82</td>\n      <td>Central Area</td>\n    </tr>\n  </tbody>\n</table>\n</div>"
     },
     "metadata": {},
     "execution_count": 13
    }
   ],
   "source": [
    "# calc avg\n",
    "neighbourhood_avgs = listings_df.groupby('neighbourhood_group_cleansed').mean()\n",
    "\n",
    "# rename columsn for vis\n",
    "neighbourhood_avgs.rename(columns={\n",
    "'price':'Avg. Listing Price (£)',\n",
    "'calculated_host_listings_count': 'Avg. No of Host Owned Listings',\n",
    "'availability_365': 'Yearly Availability (out 365 days)'},\n",
    "inplace = True)\n",
    "\n",
    "# create neighbourhood group\n",
    "neighbourhood_avgs['neighbourhood_group_cleansed'] = neighbourhood_avgs.index\n",
    "\n",
    "# round for vis\n",
    "neighbourhood_avgs = neighbourhood_avgs.round(2)\n",
    "\n",
    "neighbourhood_avgs.head()"
   ]
  },
  {
   "cell_type": "markdown",
   "metadata": {},
   "source": [
    "### Data Visualisation"
   ]
  },
  {
   "cell_type": "code",
   "execution_count": 19,
   "metadata": {},
   "outputs": [],
   "source": [
    "def custom_bar(df_series, x_label, y_label):\n",
    "    \"\"\" Custom bar plot wrapper.\"\"\"\n",
    "    fig = px.bar(df_series.sort_values(ascending=False), template='plotly_dark')\n",
    "\n",
    "    fig.update_layout(\n",
    "        showlegend=False,\n",
    "        autosize=False,\n",
    "        width=1200,\n",
    "        height=500,\n",
    "        yaxis=dict(\n",
    "            title_text=x_label,\n",
    "            tickmode=\"array\",\n",
    "            titlefont=dict(size=14)),\n",
    "        xaxis=dict(\n",
    "        title_text=y_label,\n",
    "        tickmode=\"array\",\n",
    "        titlefont=dict(size=14)))\n",
    "\n",
    "    fig.show()\n",
    "\n",
    "\n",
    "def custom_scatter(df, x_col, y_col, color_col, text_col, size_col):\n",
    "    \"\"\" Custom scatter plot wrapper.\"\"\"\n",
    "    fig = px.scatter(neighbourhood_avgs,\n",
    "                    x=x_col,\n",
    "                    y=y_col,\n",
    "                    color=color_col,\n",
    "                    text=text_col,\n",
    "                    size=size_col,\n",
    "                    size_max=30,\n",
    "                    template='plotly_dark')\n",
    "\n",
    "    fig.update_traces(textposition='top center')\n",
    "\n",
    "    fig.update_layout(\n",
    "        showlegend=False,\n",
    "        autosize=False,\n",
    "        width=1200,\n",
    "        height=800,\n",
    "        yaxis=dict(\n",
    "            title_text=y_col,\n",
    "            tickmode=\"array\",\n",
    "            titlefont=dict(size=14)),\n",
    "        xaxis=dict(\n",
    "        title_text=x_col,\n",
    "        tickmode=\"array\",\n",
    "        titlefont=dict(size=14)))\n",
    "    \n",
    "    fig.show()\n",
    "\n",
    "    return fig"
   ]
  },
  {
   "cell_type": "code",
   "execution_count": 20,
   "metadata": {},
   "outputs": [
    {
     "output_type": "display_data",
     "data": {
      "application/vnd.plotly.v1+json": {
       "config": {
        "plotlyServerURL": "https://plot.ly"
       },
       "data": [
        {
         "hovertemplate": "neighbourhood_group_cleansed=%{text}<br>Avg. No of Host Owned Listings=%{x}<br>Yearly Availability (out 365 days)=%{y}<br>Avg. Listing Price (£)=%{marker.size}<extra></extra>",
         "legendgroup": "Ballard",
         "marker": {
          "color": "#636efa",
          "size": [
           124.68
          ],
          "sizemode": "area",
          "sizeref": 0.1974111111111111,
          "symbol": "circle"
         },
         "mode": "markers+text",
         "name": "Ballard",
         "orientation": "v",
         "showlegend": true,
         "text": [
          "Ballard"
         ],
         "textposition": "top center",
         "type": "scatter",
         "x": [
          1.66
         ],
         "xaxis": "x",
         "y": [
          252.67
         ],
         "yaxis": "y"
        },
        {
         "hovertemplate": "neighbourhood_group_cleansed=%{text}<br>Avg. No of Host Owned Listings=%{x}<br>Yearly Availability (out 365 days)=%{y}<br>Avg. Listing Price (£)=%{marker.size}<extra></extra>",
         "legendgroup": "Beacon Hill",
         "marker": {
          "color": "#EF553B",
          "size": [
           94.67
          ],
          "sizemode": "area",
          "sizeref": 0.1974111111111111,
          "symbol": "circle"
         },
         "mode": "markers+text",
         "name": "Beacon Hill",
         "orientation": "v",
         "showlegend": true,
         "text": [
          "Beacon Hill"
         ],
         "textposition": "top center",
         "type": "scatter",
         "x": [
          2.72
         ],
         "xaxis": "x",
         "y": [
          256.53
         ],
         "yaxis": "y"
        },
        {
         "hovertemplate": "neighbourhood_group_cleansed=%{text}<br>Avg. No of Host Owned Listings=%{x}<br>Yearly Availability (out 365 days)=%{y}<br>Avg. Listing Price (£)=%{marker.size}<extra></extra>",
         "legendgroup": "Capitol Hill",
         "marker": {
          "color": "#00cc96",
          "size": [
           130.59
          ],
          "sizemode": "area",
          "sizeref": 0.1974111111111111,
          "symbol": "circle"
         },
         "mode": "markers+text",
         "name": "Capitol Hill",
         "orientation": "v",
         "showlegend": true,
         "text": [
          "Capitol Hill"
         ],
         "textposition": "top center",
         "type": "scatter",
         "x": [
          3.65
         ],
         "xaxis": "x",
         "y": [
          233.98
         ],
         "yaxis": "y"
        },
        {
         "hovertemplate": "neighbourhood_group_cleansed=%{text}<br>Avg. No of Host Owned Listings=%{x}<br>Yearly Availability (out 365 days)=%{y}<br>Avg. Listing Price (£)=%{marker.size}<extra></extra>",
         "legendgroup": "Cascade",
         "marker": {
          "color": "#ab63fa",
          "size": [
           140.1
          ],
          "sizemode": "area",
          "sizeref": 0.1974111111111111,
          "symbol": "circle"
         },
         "mode": "markers+text",
         "name": "Cascade",
         "orientation": "v",
         "showlegend": true,
         "text": [
          "Cascade"
         ],
         "textposition": "top center",
         "type": "scatter",
         "x": [
          1.4
         ],
         "xaxis": "x",
         "y": [
          210.3
         ],
         "yaxis": "y"
        },
        {
         "hovertemplate": "neighbourhood_group_cleansed=%{text}<br>Avg. No of Host Owned Listings=%{x}<br>Yearly Availability (out 365 days)=%{y}<br>Avg. Listing Price (£)=%{marker.size}<extra></extra>",
         "legendgroup": "Central Area",
         "marker": {
          "color": "#FFA15A",
          "size": [
           128.34
          ],
          "sizemode": "area",
          "sizeref": 0.1974111111111111,
          "symbol": "circle"
         },
         "mode": "markers+text",
         "name": "Central Area",
         "orientation": "v",
         "showlegend": true,
         "text": [
          "Central Area"
         ],
         "textposition": "top center",
         "type": "scatter",
         "x": [
          1.82
         ],
         "xaxis": "x",
         "y": [
          245.41
         ],
         "yaxis": "y"
        },
        {
         "hovertemplate": "neighbourhood_group_cleansed=%{text}<br>Avg. No of Host Owned Listings=%{x}<br>Yearly Availability (out 365 days)=%{y}<br>Avg. Listing Price (£)=%{marker.size}<extra></extra>",
         "legendgroup": "Delridge",
         "marker": {
          "color": "#19d3f3",
          "size": [
           83.28
          ],
          "sizemode": "area",
          "sizeref": 0.1974111111111111,
          "symbol": "circle"
         },
         "mode": "markers+text",
         "name": "Delridge",
         "orientation": "v",
         "showlegend": true,
         "text": [
          "Delridge"
         ],
         "textposition": "top center",
         "type": "scatter",
         "x": [
          1.29
         ],
         "xaxis": "x",
         "y": [
          272.72
         ],
         "yaxis": "y"
        },
        {
         "hovertemplate": "neighbourhood_group_cleansed=%{text}<br>Avg. No of Host Owned Listings=%{x}<br>Yearly Availability (out 365 days)=%{y}<br>Avg. Listing Price (£)=%{marker.size}<extra></extra>",
         "legendgroup": "Downtown",
         "marker": {
          "color": "#FF6692",
          "size": [
           154.41
          ],
          "sizemode": "area",
          "sizeref": 0.1974111111111111,
          "symbol": "circle"
         },
         "mode": "markers+text",
         "name": "Downtown",
         "orientation": "v",
         "showlegend": true,
         "text": [
          "Downtown"
         ],
         "textposition": "top center",
         "type": "scatter",
         "x": [
          3.75
         ],
         "xaxis": "x",
         "y": [
          237.22
         ],
         "yaxis": "y"
        },
        {
         "hovertemplate": "neighbourhood_group_cleansed=%{text}<br>Avg. No of Host Owned Listings=%{x}<br>Yearly Availability (out 365 days)=%{y}<br>Avg. Listing Price (£)=%{marker.size}<extra></extra>",
         "legendgroup": "Interbay",
         "marker": {
          "color": "#B6E880",
          "size": [
           109.73
          ],
          "sizemode": "area",
          "sizeref": 0.1974111111111111,
          "symbol": "circle"
         },
         "mode": "markers+text",
         "name": "Interbay",
         "orientation": "v",
         "showlegend": true,
         "text": [
          "Interbay"
         ],
         "textposition": "top center",
         "type": "scatter",
         "x": [
          1.91
         ],
         "xaxis": "x",
         "y": [
          308.55
         ],
         "yaxis": "y"
        },
        {
         "hovertemplate": "neighbourhood_group_cleansed=%{text}<br>Avg. No of Host Owned Listings=%{x}<br>Yearly Availability (out 365 days)=%{y}<br>Avg. Listing Price (£)=%{marker.size}<extra></extra>",
         "legendgroup": "Lake City",
         "marker": {
          "color": "#FF97FF",
          "size": [
           92.67
          ],
          "sizemode": "area",
          "sizeref": 0.1974111111111111,
          "symbol": "circle"
         },
         "mode": "markers+text",
         "name": "Lake City",
         "orientation": "v",
         "showlegend": true,
         "text": [
          "Lake City"
         ],
         "textposition": "top center",
         "type": "scatter",
         "x": [
          1.55
         ],
         "xaxis": "x",
         "y": [
          280.61
         ],
         "yaxis": "y"
        },
        {
         "hovertemplate": "neighbourhood_group_cleansed=%{text}<br>Avg. No of Host Owned Listings=%{x}<br>Yearly Availability (out 365 days)=%{y}<br>Avg. Listing Price (£)=%{marker.size}<extra></extra>",
         "legendgroup": "Magnolia",
         "marker": {
          "color": "#FECB52",
          "size": [
           177.67
          ],
          "sizemode": "area",
          "sizeref": 0.1974111111111111,
          "symbol": "circle"
         },
         "mode": "markers+text",
         "name": "Magnolia",
         "orientation": "v",
         "showlegend": true,
         "text": [
          "Magnolia"
         ],
         "textposition": "top center",
         "type": "scatter",
         "x": [
          1.75
         ],
         "xaxis": "x",
         "y": [
          282.75
         ],
         "yaxis": "y"
        },
        {
         "hovertemplate": "neighbourhood_group_cleansed=%{text}<br>Avg. No of Host Owned Listings=%{x}<br>Yearly Availability (out 365 days)=%{y}<br>Avg. Listing Price (£)=%{marker.size}<extra></extra>",
         "legendgroup": "Northgate",
         "marker": {
          "color": "#636efa",
          "size": [
           88.55
          ],
          "sizemode": "area",
          "sizeref": 0.1974111111111111,
          "symbol": "circle"
         },
         "mode": "markers+text",
         "name": "Northgate",
         "orientation": "v",
         "showlegend": true,
         "text": [
          "Northgate"
         ],
         "textposition": "top center",
         "type": "scatter",
         "x": [
          1.72
         ],
         "xaxis": "x",
         "y": [
          263.81
         ],
         "yaxis": "y"
        },
        {
         "hovertemplate": "neighbourhood_group_cleansed=%{text}<br>Avg. No of Host Owned Listings=%{x}<br>Yearly Availability (out 365 days)=%{y}<br>Avg. Listing Price (£)=%{marker.size}<extra></extra>",
         "legendgroup": "Other neighborhoods",
         "marker": {
          "color": "#EF553B",
          "size": [
           119.97
          ],
          "sizemode": "area",
          "sizeref": 0.1974111111111111,
          "symbol": "circle"
         },
         "mode": "markers+text",
         "name": "Other neighborhoods",
         "orientation": "v",
         "showlegend": true,
         "text": [
          "Other neighborhoods"
         ],
         "textposition": "top center",
         "type": "scatter",
         "x": [
          2.86
         ],
         "xaxis": "x",
         "y": [
          245.16
         ],
         "yaxis": "y"
        },
        {
         "hovertemplate": "neighbourhood_group_cleansed=%{text}<br>Avg. No of Host Owned Listings=%{x}<br>Yearly Availability (out 365 days)=%{y}<br>Avg. Listing Price (£)=%{marker.size}<extra></extra>",
         "legendgroup": "Queen Anne",
         "marker": {
          "color": "#00cc96",
          "size": [
           157.22
          ],
          "sizemode": "area",
          "sizeref": 0.1974111111111111,
          "symbol": "circle"
         },
         "mode": "markers+text",
         "name": "Queen Anne",
         "orientation": "v",
         "showlegend": true,
         "text": [
          "Queen Anne"
         ],
         "textposition": "top center",
         "type": "scatter",
         "x": [
          1.67
         ],
         "xaxis": "x",
         "y": [
          226.45
         ],
         "yaxis": "y"
        },
        {
         "hovertemplate": "neighbourhood_group_cleansed=%{text}<br>Avg. No of Host Owned Listings=%{x}<br>Yearly Availability (out 365 days)=%{y}<br>Avg. Listing Price (£)=%{marker.size}<extra></extra>",
         "legendgroup": "Rainier Valley",
         "marker": {
          "color": "#ab63fa",
          "size": [
           91.9
          ],
          "sizemode": "area",
          "sizeref": 0.1974111111111111,
          "symbol": "circle"
         },
         "mode": "markers+text",
         "name": "Rainier Valley",
         "orientation": "v",
         "showlegend": true,
         "text": [
          "Rainier Valley"
         ],
         "textposition": "top center",
         "type": "scatter",
         "x": [
          2.34
         ],
         "xaxis": "x",
         "y": [
          244.74
         ],
         "yaxis": "y"
        },
        {
         "hovertemplate": "neighbourhood_group_cleansed=%{text}<br>Avg. No of Host Owned Listings=%{x}<br>Yearly Availability (out 365 days)=%{y}<br>Avg. Listing Price (£)=%{marker.size}<extra></extra>",
         "legendgroup": "Seward Park",
         "marker": {
          "color": "#FFA15A",
          "size": [
           108.48
          ],
          "sizemode": "area",
          "sizeref": 0.1974111111111111,
          "symbol": "circle"
         },
         "mode": "markers+text",
         "name": "Seward Park",
         "orientation": "v",
         "showlegend": true,
         "text": [
          "Seward Park"
         ],
         "textposition": "top center",
         "type": "scatter",
         "x": [
          2.98
         ],
         "xaxis": "x",
         "y": [
          248.2
         ],
         "yaxis": "y"
        },
        {
         "hovertemplate": "neighbourhood_group_cleansed=%{text}<br>Avg. No of Host Owned Listings=%{x}<br>Yearly Availability (out 365 days)=%{y}<br>Avg. Listing Price (£)=%{marker.size}<extra></extra>",
         "legendgroup": "University District",
         "marker": {
          "color": "#19d3f3",
          "size": [
           93.64
          ],
          "sizemode": "area",
          "sizeref": 0.1974111111111111,
          "symbol": "circle"
         },
         "mode": "markers+text",
         "name": "University District",
         "orientation": "v",
         "showlegend": true,
         "text": [
          "University District"
         ],
         "textposition": "top center",
         "type": "scatter",
         "x": [
          13.27
         ],
         "xaxis": "x",
         "y": [
          271.7
         ],
         "yaxis": "y"
        },
        {
         "hovertemplate": "neighbourhood_group_cleansed=%{text}<br>Avg. No of Host Owned Listings=%{x}<br>Yearly Availability (out 365 days)=%{y}<br>Avg. Listing Price (£)=%{marker.size}<extra></extra>",
         "legendgroup": "West Seattle",
         "marker": {
          "color": "#FF6692",
          "size": [
           141.36
          ],
          "sizemode": "area",
          "sizeref": 0.1974111111111111,
          "symbol": "circle"
         },
         "mode": "markers+text",
         "name": "West Seattle",
         "orientation": "v",
         "showlegend": true,
         "text": [
          "West Seattle"
         ],
         "textposition": "top center",
         "type": "scatter",
         "x": [
          1.67
         ],
         "xaxis": "x",
         "y": [
          255.91
         ],
         "yaxis": "y"
        }
       ],
       "layout": {
        "autosize": false,
        "height": 800,
        "legend": {
         "itemsizing": "constant",
         "title": {
          "text": "neighbourhood_group_cleansed"
         },
         "tracegroupgap": 0
        },
        "margin": {
         "t": 60
        },
        "showlegend": false,
        "template": {
         "data": {
          "bar": [
           {
            "error_x": {
             "color": "#f2f5fa"
            },
            "error_y": {
             "color": "#f2f5fa"
            },
            "marker": {
             "line": {
              "color": "rgb(17,17,17)",
              "width": 0.5
             }
            },
            "type": "bar"
           }
          ],
          "barpolar": [
           {
            "marker": {
             "line": {
              "color": "rgb(17,17,17)",
              "width": 0.5
             }
            },
            "type": "barpolar"
           }
          ],
          "carpet": [
           {
            "aaxis": {
             "endlinecolor": "#A2B1C6",
             "gridcolor": "#506784",
             "linecolor": "#506784",
             "minorgridcolor": "#506784",
             "startlinecolor": "#A2B1C6"
            },
            "baxis": {
             "endlinecolor": "#A2B1C6",
             "gridcolor": "#506784",
             "linecolor": "#506784",
             "minorgridcolor": "#506784",
             "startlinecolor": "#A2B1C6"
            },
            "type": "carpet"
           }
          ],
          "choropleth": [
           {
            "colorbar": {
             "outlinewidth": 0,
             "ticks": ""
            },
            "type": "choropleth"
           }
          ],
          "contour": [
           {
            "colorbar": {
             "outlinewidth": 0,
             "ticks": ""
            },
            "colorscale": [
             [
              0,
              "#0d0887"
             ],
             [
              0.1111111111111111,
              "#46039f"
             ],
             [
              0.2222222222222222,
              "#7201a8"
             ],
             [
              0.3333333333333333,
              "#9c179e"
             ],
             [
              0.4444444444444444,
              "#bd3786"
             ],
             [
              0.5555555555555556,
              "#d8576b"
             ],
             [
              0.6666666666666666,
              "#ed7953"
             ],
             [
              0.7777777777777778,
              "#fb9f3a"
             ],
             [
              0.8888888888888888,
              "#fdca26"
             ],
             [
              1,
              "#f0f921"
             ]
            ],
            "type": "contour"
           }
          ],
          "contourcarpet": [
           {
            "colorbar": {
             "outlinewidth": 0,
             "ticks": ""
            },
            "type": "contourcarpet"
           }
          ],
          "heatmap": [
           {
            "colorbar": {
             "outlinewidth": 0,
             "ticks": ""
            },
            "colorscale": [
             [
              0,
              "#0d0887"
             ],
             [
              0.1111111111111111,
              "#46039f"
             ],
             [
              0.2222222222222222,
              "#7201a8"
             ],
             [
              0.3333333333333333,
              "#9c179e"
             ],
             [
              0.4444444444444444,
              "#bd3786"
             ],
             [
              0.5555555555555556,
              "#d8576b"
             ],
             [
              0.6666666666666666,
              "#ed7953"
             ],
             [
              0.7777777777777778,
              "#fb9f3a"
             ],
             [
              0.8888888888888888,
              "#fdca26"
             ],
             [
              1,
              "#f0f921"
             ]
            ],
            "type": "heatmap"
           }
          ],
          "heatmapgl": [
           {
            "colorbar": {
             "outlinewidth": 0,
             "ticks": ""
            },
            "colorscale": [
             [
              0,
              "#0d0887"
             ],
             [
              0.1111111111111111,
              "#46039f"
             ],
             [
              0.2222222222222222,
              "#7201a8"
             ],
             [
              0.3333333333333333,
              "#9c179e"
             ],
             [
              0.4444444444444444,
              "#bd3786"
             ],
             [
              0.5555555555555556,
              "#d8576b"
             ],
             [
              0.6666666666666666,
              "#ed7953"
             ],
             [
              0.7777777777777778,
              "#fb9f3a"
             ],
             [
              0.8888888888888888,
              "#fdca26"
             ],
             [
              1,
              "#f0f921"
             ]
            ],
            "type": "heatmapgl"
           }
          ],
          "histogram": [
           {
            "marker": {
             "colorbar": {
              "outlinewidth": 0,
              "ticks": ""
             }
            },
            "type": "histogram"
           }
          ],
          "histogram2d": [
           {
            "colorbar": {
             "outlinewidth": 0,
             "ticks": ""
            },
            "colorscale": [
             [
              0,
              "#0d0887"
             ],
             [
              0.1111111111111111,
              "#46039f"
             ],
             [
              0.2222222222222222,
              "#7201a8"
             ],
             [
              0.3333333333333333,
              "#9c179e"
             ],
             [
              0.4444444444444444,
              "#bd3786"
             ],
             [
              0.5555555555555556,
              "#d8576b"
             ],
             [
              0.6666666666666666,
              "#ed7953"
             ],
             [
              0.7777777777777778,
              "#fb9f3a"
             ],
             [
              0.8888888888888888,
              "#fdca26"
             ],
             [
              1,
              "#f0f921"
             ]
            ],
            "type": "histogram2d"
           }
          ],
          "histogram2dcontour": [
           {
            "colorbar": {
             "outlinewidth": 0,
             "ticks": ""
            },
            "colorscale": [
             [
              0,
              "#0d0887"
             ],
             [
              0.1111111111111111,
              "#46039f"
             ],
             [
              0.2222222222222222,
              "#7201a8"
             ],
             [
              0.3333333333333333,
              "#9c179e"
             ],
             [
              0.4444444444444444,
              "#bd3786"
             ],
             [
              0.5555555555555556,
              "#d8576b"
             ],
             [
              0.6666666666666666,
              "#ed7953"
             ],
             [
              0.7777777777777778,
              "#fb9f3a"
             ],
             [
              0.8888888888888888,
              "#fdca26"
             ],
             [
              1,
              "#f0f921"
             ]
            ],
            "type": "histogram2dcontour"
           }
          ],
          "mesh3d": [
           {
            "colorbar": {
             "outlinewidth": 0,
             "ticks": ""
            },
            "type": "mesh3d"
           }
          ],
          "parcoords": [
           {
            "line": {
             "colorbar": {
              "outlinewidth": 0,
              "ticks": ""
             }
            },
            "type": "parcoords"
           }
          ],
          "pie": [
           {
            "automargin": true,
            "type": "pie"
           }
          ],
          "scatter": [
           {
            "marker": {
             "line": {
              "color": "#283442"
             }
            },
            "type": "scatter"
           }
          ],
          "scatter3d": [
           {
            "line": {
             "colorbar": {
              "outlinewidth": 0,
              "ticks": ""
             }
            },
            "marker": {
             "colorbar": {
              "outlinewidth": 0,
              "ticks": ""
             }
            },
            "type": "scatter3d"
           }
          ],
          "scattercarpet": [
           {
            "marker": {
             "colorbar": {
              "outlinewidth": 0,
              "ticks": ""
             }
            },
            "type": "scattercarpet"
           }
          ],
          "scattergeo": [
           {
            "marker": {
             "colorbar": {
              "outlinewidth": 0,
              "ticks": ""
             }
            },
            "type": "scattergeo"
           }
          ],
          "scattergl": [
           {
            "marker": {
             "line": {
              "color": "#283442"
             }
            },
            "type": "scattergl"
           }
          ],
          "scattermapbox": [
           {
            "marker": {
             "colorbar": {
              "outlinewidth": 0,
              "ticks": ""
             }
            },
            "type": "scattermapbox"
           }
          ],
          "scatterpolar": [
           {
            "marker": {
             "colorbar": {
              "outlinewidth": 0,
              "ticks": ""
             }
            },
            "type": "scatterpolar"
           }
          ],
          "scatterpolargl": [
           {
            "marker": {
             "colorbar": {
              "outlinewidth": 0,
              "ticks": ""
             }
            },
            "type": "scatterpolargl"
           }
          ],
          "scatterternary": [
           {
            "marker": {
             "colorbar": {
              "outlinewidth": 0,
              "ticks": ""
             }
            },
            "type": "scatterternary"
           }
          ],
          "surface": [
           {
            "colorbar": {
             "outlinewidth": 0,
             "ticks": ""
            },
            "colorscale": [
             [
              0,
              "#0d0887"
             ],
             [
              0.1111111111111111,
              "#46039f"
             ],
             [
              0.2222222222222222,
              "#7201a8"
             ],
             [
              0.3333333333333333,
              "#9c179e"
             ],
             [
              0.4444444444444444,
              "#bd3786"
             ],
             [
              0.5555555555555556,
              "#d8576b"
             ],
             [
              0.6666666666666666,
              "#ed7953"
             ],
             [
              0.7777777777777778,
              "#fb9f3a"
             ],
             [
              0.8888888888888888,
              "#fdca26"
             ],
             [
              1,
              "#f0f921"
             ]
            ],
            "type": "surface"
           }
          ],
          "table": [
           {
            "cells": {
             "fill": {
              "color": "#506784"
             },
             "line": {
              "color": "rgb(17,17,17)"
             }
            },
            "header": {
             "fill": {
              "color": "#2a3f5f"
             },
             "line": {
              "color": "rgb(17,17,17)"
             }
            },
            "type": "table"
           }
          ]
         },
         "layout": {
          "annotationdefaults": {
           "arrowcolor": "#f2f5fa",
           "arrowhead": 0,
           "arrowwidth": 1
          },
          "coloraxis": {
           "colorbar": {
            "outlinewidth": 0,
            "ticks": ""
           }
          },
          "colorscale": {
           "diverging": [
            [
             0,
             "#8e0152"
            ],
            [
             0.1,
             "#c51b7d"
            ],
            [
             0.2,
             "#de77ae"
            ],
            [
             0.3,
             "#f1b6da"
            ],
            [
             0.4,
             "#fde0ef"
            ],
            [
             0.5,
             "#f7f7f7"
            ],
            [
             0.6,
             "#e6f5d0"
            ],
            [
             0.7,
             "#b8e186"
            ],
            [
             0.8,
             "#7fbc41"
            ],
            [
             0.9,
             "#4d9221"
            ],
            [
             1,
             "#276419"
            ]
           ],
           "sequential": [
            [
             0,
             "#0d0887"
            ],
            [
             0.1111111111111111,
             "#46039f"
            ],
            [
             0.2222222222222222,
             "#7201a8"
            ],
            [
             0.3333333333333333,
             "#9c179e"
            ],
            [
             0.4444444444444444,
             "#bd3786"
            ],
            [
             0.5555555555555556,
             "#d8576b"
            ],
            [
             0.6666666666666666,
             "#ed7953"
            ],
            [
             0.7777777777777778,
             "#fb9f3a"
            ],
            [
             0.8888888888888888,
             "#fdca26"
            ],
            [
             1,
             "#f0f921"
            ]
           ],
           "sequentialminus": [
            [
             0,
             "#0d0887"
            ],
            [
             0.1111111111111111,
             "#46039f"
            ],
            [
             0.2222222222222222,
             "#7201a8"
            ],
            [
             0.3333333333333333,
             "#9c179e"
            ],
            [
             0.4444444444444444,
             "#bd3786"
            ],
            [
             0.5555555555555556,
             "#d8576b"
            ],
            [
             0.6666666666666666,
             "#ed7953"
            ],
            [
             0.7777777777777778,
             "#fb9f3a"
            ],
            [
             0.8888888888888888,
             "#fdca26"
            ],
            [
             1,
             "#f0f921"
            ]
           ]
          },
          "colorway": [
           "#636efa",
           "#EF553B",
           "#00cc96",
           "#ab63fa",
           "#FFA15A",
           "#19d3f3",
           "#FF6692",
           "#B6E880",
           "#FF97FF",
           "#FECB52"
          ],
          "font": {
           "color": "#f2f5fa"
          },
          "geo": {
           "bgcolor": "rgb(17,17,17)",
           "lakecolor": "rgb(17,17,17)",
           "landcolor": "rgb(17,17,17)",
           "showlakes": true,
           "showland": true,
           "subunitcolor": "#506784"
          },
          "hoverlabel": {
           "align": "left"
          },
          "hovermode": "closest",
          "mapbox": {
           "style": "dark"
          },
          "paper_bgcolor": "rgb(17,17,17)",
          "plot_bgcolor": "rgb(17,17,17)",
          "polar": {
           "angularaxis": {
            "gridcolor": "#506784",
            "linecolor": "#506784",
            "ticks": ""
           },
           "bgcolor": "rgb(17,17,17)",
           "radialaxis": {
            "gridcolor": "#506784",
            "linecolor": "#506784",
            "ticks": ""
           }
          },
          "scene": {
           "xaxis": {
            "backgroundcolor": "rgb(17,17,17)",
            "gridcolor": "#506784",
            "gridwidth": 2,
            "linecolor": "#506784",
            "showbackground": true,
            "ticks": "",
            "zerolinecolor": "#C8D4E3"
           },
           "yaxis": {
            "backgroundcolor": "rgb(17,17,17)",
            "gridcolor": "#506784",
            "gridwidth": 2,
            "linecolor": "#506784",
            "showbackground": true,
            "ticks": "",
            "zerolinecolor": "#C8D4E3"
           },
           "zaxis": {
            "backgroundcolor": "rgb(17,17,17)",
            "gridcolor": "#506784",
            "gridwidth": 2,
            "linecolor": "#506784",
            "showbackground": true,
            "ticks": "",
            "zerolinecolor": "#C8D4E3"
           }
          },
          "shapedefaults": {
           "line": {
            "color": "#f2f5fa"
           }
          },
          "sliderdefaults": {
           "bgcolor": "#C8D4E3",
           "bordercolor": "rgb(17,17,17)",
           "borderwidth": 1,
           "tickwidth": 0
          },
          "ternary": {
           "aaxis": {
            "gridcolor": "#506784",
            "linecolor": "#506784",
            "ticks": ""
           },
           "baxis": {
            "gridcolor": "#506784",
            "linecolor": "#506784",
            "ticks": ""
           },
           "bgcolor": "rgb(17,17,17)",
           "caxis": {
            "gridcolor": "#506784",
            "linecolor": "#506784",
            "ticks": ""
           }
          },
          "title": {
           "x": 0.05
          },
          "updatemenudefaults": {
           "bgcolor": "#506784",
           "borderwidth": 0
          },
          "xaxis": {
           "automargin": true,
           "gridcolor": "#283442",
           "linecolor": "#506784",
           "ticks": "",
           "title": {
            "standoff": 15
           },
           "zerolinecolor": "#283442",
           "zerolinewidth": 2
          },
          "yaxis": {
           "automargin": true,
           "gridcolor": "#283442",
           "linecolor": "#506784",
           "ticks": "",
           "title": {
            "standoff": 15
           },
           "zerolinecolor": "#283442",
           "zerolinewidth": 2
          }
         }
        },
        "width": 1200,
        "xaxis": {
         "anchor": "y",
         "domain": [
          0,
          1
         ],
         "tickmode": "array",
         "title": {
          "font": {
           "size": 14
          },
          "text": "Avg. No of Host Owned Listings"
         }
        },
        "yaxis": {
         "anchor": "x",
         "domain": [
          0,
          1
         ],
         "tickmode": "array",
         "title": {
          "font": {
           "size": 14
          },
          "text": "Yearly Availability (out 365 days)"
         }
        }
       }
      }
     },
     "metadata": {}
    }
   ],
   "source": [
    "fig = custom_scatter(neighbourhood_avgs, \"Avg. No of Host Owned Listings\", \"Yearly Availability (out 365 days)\", \"neighbourhood_group_cleansed\", \"neighbourhood_group_cleansed\", 'Avg. Listing Price (£)')"
   ]
  },
  {
   "cell_type": "code",
   "execution_count": 16,
   "metadata": {},
   "outputs": [],
   "source": [
    "import chart_studio\n",
    "username = '' # your username\n",
    "api_key = '' # your api key - go to profile > settings > regenerate key\n",
    "chart_studio.tools.set_credentials_file(username=username, api_key=api_key)"
   ]
  },
  {
   "cell_type": "code",
   "execution_count": 21,
   "metadata": {},
   "outputs": [
    {
     "output_type": "execute_result",
     "data": {
      "text/plain": "'https://plotly.com/~jhmarlow/14/'"
     },
     "metadata": {},
     "execution_count": 21
    }
   ],
   "source": [
    "import chart_studio.plotly as py\n",
    "py.plot(fig, filename = 'host_patterns', auto_open=True)"
   ]
  },
  {
   "cell_type": "code",
   "execution_count": null,
   "metadata": {},
   "outputs": [],
   "source": []
  }
 ],
 "metadata": {
  "language_info": {
   "codemirror_mode": {
    "name": "ipython",
    "version": 3
   },
   "file_extension": ".py",
   "mimetype": "text/x-python",
   "name": "python",
   "nbconvert_exporter": "python",
   "pygments_lexer": "ipython3",
   "version": "3.7.6-final"
  },
  "orig_nbformat": 2,
  "kernelspec": {
   "name": "python37664bit1c275fbc5cec4f6f8db42e6315e2c621",
   "display_name": "Python 3.7.6 64-bit"
  }
 },
 "nbformat": 4,
 "nbformat_minor": 2
}