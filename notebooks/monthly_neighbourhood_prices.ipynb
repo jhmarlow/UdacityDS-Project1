{
 "cells": [
  {
   "cell_type": "markdown",
   "metadata": {},
   "source": [
    "# Airbnb Data Exploration\n",
    "\n",
    "Data exploration of Airbnb for London"
   ]
  },
  {
   "cell_type": "code",
   "execution_count": 1,
   "metadata": {},
   "outputs": [],
   "source": [
    "import pandas as pd\n",
    "import plotly.express as px\n",
    "import datetime\n",
    "import plotly.graph_objects as go"
   ]
  },
  {
   "cell_type": "code",
   "execution_count": 2,
   "metadata": {},
   "outputs": [],
   "source": [
    "calendar_df = pd.read_csv(\"../data/calendar.csv\")\n",
    "listing_df = pd.read_csv(\"../data/listings.csv\")"
   ]
  },
  {
   "cell_type": "code",
   "execution_count": 3,
   "metadata": {},
   "outputs": [
    {
     "output_type": "execute_result",
     "data": {
      "text/plain": "       id                          listing_url       scrape_id last_scraped  \\\n0  241032  https://www.airbnb.com/rooms/241032  20160104002432   2016-01-04   \n1  953595  https://www.airbnb.com/rooms/953595  20160104002432   2016-01-04   \n\n                                 name  \\\n0        Stylish Queen Anne Apartment   \n1  Bright & Airy Queen Anne Apartment   \n\n                                             summary  \\\n0                                                NaN   \n1  Chemically sensitive? We've removed the irrita...   \n\n                                               space  \\\n0  Make your self at home in this charming one-be...   \n1  Beautiful, hypoallergenic apartment in an extr...   \n\n                                         description experiences_offered  \\\n0  Make your self at home in this charming one-be...                none   \n1  Chemically sensitive? We've removed the irrita...                none   \n\n                               neighborhood_overview  ... review_scores_value  \\\n0                                                NaN  ...                10.0   \n1  Queen Anne is a wonderful, truly functional vi...  ...                10.0   \n\n  requires_license license jurisdiction_names instant_bookable  \\\n0                f     NaN         WASHINGTON                f   \n1                f     NaN         WASHINGTON                f   \n\n  cancellation_policy  require_guest_profile_picture  \\\n0            moderate                              f   \n1              strict                              t   \n\n  require_guest_phone_verification calculated_host_listings_count  \\\n0                                f                              2   \n1                                t                              6   \n\n  reviews_per_month  \n0              4.07  \n1              1.48  \n\n[2 rows x 92 columns]",
      "text/html": "<div>\n<style scoped>\n    .dataframe tbody tr th:only-of-type {\n        vertical-align: middle;\n    }\n\n    .dataframe tbody tr th {\n        vertical-align: top;\n    }\n\n    .dataframe thead th {\n        text-align: right;\n    }\n</style>\n<table border=\"1\" class=\"dataframe\">\n  <thead>\n    <tr style=\"text-align: right;\">\n      <th></th>\n      <th>id</th>\n      <th>listing_url</th>\n      <th>scrape_id</th>\n      <th>last_scraped</th>\n      <th>name</th>\n      <th>summary</th>\n      <th>space</th>\n      <th>description</th>\n      <th>experiences_offered</th>\n      <th>neighborhood_overview</th>\n      <th>...</th>\n      <th>review_scores_value</th>\n      <th>requires_license</th>\n      <th>license</th>\n      <th>jurisdiction_names</th>\n      <th>instant_bookable</th>\n      <th>cancellation_policy</th>\n      <th>require_guest_profile_picture</th>\n      <th>require_guest_phone_verification</th>\n      <th>calculated_host_listings_count</th>\n      <th>reviews_per_month</th>\n    </tr>\n  </thead>\n  <tbody>\n    <tr>\n      <th>0</th>\n      <td>241032</td>\n      <td>https://www.airbnb.com/rooms/241032</td>\n      <td>20160104002432</td>\n      <td>2016-01-04</td>\n      <td>Stylish Queen Anne Apartment</td>\n      <td>NaN</td>\n      <td>Make your self at home in this charming one-be...</td>\n      <td>Make your self at home in this charming one-be...</td>\n      <td>none</td>\n      <td>NaN</td>\n      <td>...</td>\n      <td>10.0</td>\n      <td>f</td>\n      <td>NaN</td>\n      <td>WASHINGTON</td>\n      <td>f</td>\n      <td>moderate</td>\n      <td>f</td>\n      <td>f</td>\n      <td>2</td>\n      <td>4.07</td>\n    </tr>\n    <tr>\n      <th>1</th>\n      <td>953595</td>\n      <td>https://www.airbnb.com/rooms/953595</td>\n      <td>20160104002432</td>\n      <td>2016-01-04</td>\n      <td>Bright &amp; Airy Queen Anne Apartment</td>\n      <td>Chemically sensitive? We've removed the irrita...</td>\n      <td>Beautiful, hypoallergenic apartment in an extr...</td>\n      <td>Chemically sensitive? We've removed the irrita...</td>\n      <td>none</td>\n      <td>Queen Anne is a wonderful, truly functional vi...</td>\n      <td>...</td>\n      <td>10.0</td>\n      <td>f</td>\n      <td>NaN</td>\n      <td>WASHINGTON</td>\n      <td>f</td>\n      <td>strict</td>\n      <td>t</td>\n      <td>t</td>\n      <td>6</td>\n      <td>1.48</td>\n    </tr>\n  </tbody>\n</table>\n<p>2 rows × 92 columns</p>\n</div>"
     },
     "metadata": {},
     "execution_count": 3
    }
   ],
   "source": [
    "listing_df.head(2)"
   ]
  },
  {
   "cell_type": "code",
   "execution_count": 4,
   "metadata": {},
   "outputs": [
    {
     "output_type": "execute_result",
     "data": {
      "text/plain": "   listing_id        date available   price\n0      241032  2016-01-04         t  $85.00\n1      241032  2016-01-05         t  $85.00",
      "text/html": "<div>\n<style scoped>\n    .dataframe tbody tr th:only-of-type {\n        vertical-align: middle;\n    }\n\n    .dataframe tbody tr th {\n        vertical-align: top;\n    }\n\n    .dataframe thead th {\n        text-align: right;\n    }\n</style>\n<table border=\"1\" class=\"dataframe\">\n  <thead>\n    <tr style=\"text-align: right;\">\n      <th></th>\n      <th>listing_id</th>\n      <th>date</th>\n      <th>available</th>\n      <th>price</th>\n    </tr>\n  </thead>\n  <tbody>\n    <tr>\n      <th>0</th>\n      <td>241032</td>\n      <td>2016-01-04</td>\n      <td>t</td>\n      <td>$85.00</td>\n    </tr>\n    <tr>\n      <th>1</th>\n      <td>241032</td>\n      <td>2016-01-05</td>\n      <td>t</td>\n      <td>$85.00</td>\n    </tr>\n  </tbody>\n</table>\n</div>"
     },
     "metadata": {},
     "execution_count": 4
    }
   ],
   "source": [
    "calendar_df.head(2)"
   ]
  },
  {
   "cell_type": "markdown",
   "metadata": {},
   "source": [
    "### Join Calendar and Neighbourhood on listing id"
   ]
  },
  {
   "cell_type": "code",
   "execution_count": 5,
   "metadata": {},
   "outputs": [
    {
     "output_type": "execute_result",
     "data": {
      "text/plain": "   listing_id       date available   price neighbourhood_group_cleansed\n0      241032 2016-01-04         t  $85.00                   Queen Anne\n1      241032 2016-01-05         t  $85.00                   Queen Anne",
      "text/html": "<div>\n<style scoped>\n    .dataframe tbody tr th:only-of-type {\n        vertical-align: middle;\n    }\n\n    .dataframe tbody tr th {\n        vertical-align: top;\n    }\n\n    .dataframe thead th {\n        text-align: right;\n    }\n</style>\n<table border=\"1\" class=\"dataframe\">\n  <thead>\n    <tr style=\"text-align: right;\">\n      <th></th>\n      <th>listing_id</th>\n      <th>date</th>\n      <th>available</th>\n      <th>price</th>\n      <th>neighbourhood_group_cleansed</th>\n    </tr>\n  </thead>\n  <tbody>\n    <tr>\n      <th>0</th>\n      <td>241032</td>\n      <td>2016-01-04</td>\n      <td>t</td>\n      <td>$85.00</td>\n      <td>Queen Anne</td>\n    </tr>\n    <tr>\n      <th>1</th>\n      <td>241032</td>\n      <td>2016-01-05</td>\n      <td>t</td>\n      <td>$85.00</td>\n      <td>Queen Anne</td>\n    </tr>\n  </tbody>\n</table>\n</div>"
     },
     "metadata": {},
     "execution_count": 5
    }
   ],
   "source": [
    "listing_neighbourhood_df = listing_df[['id','neighbourhood_group_cleansed']]\n",
    "listing_neighbourhood_df = listing_neighbourhood_df.rename(columns={\"id\": \"listing_id\"})\n",
    "merged_df = pd.merge(calendar_df, listing_neighbourhood_df, on='listing_id', how='outer')\n",
    "merged_df['date'] = pd.to_datetime(merged_df['date'], format=\"%Y-%m-%d\")\n",
    "merged_df.head(2)"
   ]
  },
  {
   "cell_type": "markdown",
   "metadata": {},
   "source": [
    "### Clean Price"
   ]
  },
  {
   "cell_type": "code",
   "execution_count": 6,
   "metadata": {},
   "outputs": [
    {
     "output_type": "execute_result",
     "data": {
      "text/plain": "   listing_id       date available  price neighbourhood_group_cleansed\n0      241032 2016-01-04         t   85.0                   Queen Anne\n1      241032 2016-01-05         t   85.0                   Queen Anne\n2      241032 2016-01-06         f    NaN                   Queen Anne\n3      241032 2016-01-07         f    NaN                   Queen Anne\n4      241032 2016-01-08         f    NaN                   Queen Anne",
      "text/html": "<div>\n<style scoped>\n    .dataframe tbody tr th:only-of-type {\n        vertical-align: middle;\n    }\n\n    .dataframe tbody tr th {\n        vertical-align: top;\n    }\n\n    .dataframe thead th {\n        text-align: right;\n    }\n</style>\n<table border=\"1\" class=\"dataframe\">\n  <thead>\n    <tr style=\"text-align: right;\">\n      <th></th>\n      <th>listing_id</th>\n      <th>date</th>\n      <th>available</th>\n      <th>price</th>\n      <th>neighbourhood_group_cleansed</th>\n    </tr>\n  </thead>\n  <tbody>\n    <tr>\n      <th>0</th>\n      <td>241032</td>\n      <td>2016-01-04</td>\n      <td>t</td>\n      <td>85.0</td>\n      <td>Queen Anne</td>\n    </tr>\n    <tr>\n      <th>1</th>\n      <td>241032</td>\n      <td>2016-01-05</td>\n      <td>t</td>\n      <td>85.0</td>\n      <td>Queen Anne</td>\n    </tr>\n    <tr>\n      <th>2</th>\n      <td>241032</td>\n      <td>2016-01-06</td>\n      <td>f</td>\n      <td>NaN</td>\n      <td>Queen Anne</td>\n    </tr>\n    <tr>\n      <th>3</th>\n      <td>241032</td>\n      <td>2016-01-07</td>\n      <td>f</td>\n      <td>NaN</td>\n      <td>Queen Anne</td>\n    </tr>\n    <tr>\n      <th>4</th>\n      <td>241032</td>\n      <td>2016-01-08</td>\n      <td>f</td>\n      <td>NaN</td>\n      <td>Queen Anne</td>\n    </tr>\n  </tbody>\n</table>\n</div>"
     },
     "metadata": {},
     "execution_count": 6
    }
   ],
   "source": [
    "def clean_string_to_numeric(df, col, character_list):\n",
    "\n",
    "    for char in character_list:\n",
    "        df[col] = [x.replace(char,'') for x in df[col]]\n",
    "    \n",
    "    return df\n",
    "\n",
    "def col_to_dtype(df, col, dtype):\n",
    "    df[col] = df[col].astype(dtype)\n",
    "    return df\n",
    "\n",
    "merged_df['price'] = merged_df['price'].astype(str)\n",
    "merged_df = clean_string_to_numeric(merged_df, 'price', [\"$\",\",\"])\n",
    "merged_df = col_to_dtype(merged_df, 'price', float)\n",
    "merged_df.head()"
   ]
  },
  {
   "cell_type": "code",
   "execution_count": 7,
   "metadata": {},
   "outputs": [
    {
     "output_type": "execute_result",
     "data": {
      "text/plain": "                                      listing_id       price\ndate  neighbourhood_group_cleansed                          \nApril Ballard                       5.180190e+06  120.999350\n      Beacon Hill                   5.052427e+06   99.030576\n      Capitol Hill                  5.668931e+06  134.181818\n      Cascade                       6.089536e+06  157.135593\n      Central Area                  5.587679e+06  128.884648",
      "text/html": "<div>\n<style scoped>\n    .dataframe tbody tr th:only-of-type {\n        vertical-align: middle;\n    }\n\n    .dataframe tbody tr th {\n        vertical-align: top;\n    }\n\n    .dataframe thead th {\n        text-align: right;\n    }\n</style>\n<table border=\"1\" class=\"dataframe\">\n  <thead>\n    <tr style=\"text-align: right;\">\n      <th></th>\n      <th></th>\n      <th>listing_id</th>\n      <th>price</th>\n    </tr>\n    <tr>\n      <th>date</th>\n      <th>neighbourhood_group_cleansed</th>\n      <th></th>\n      <th></th>\n    </tr>\n  </thead>\n  <tbody>\n    <tr>\n      <th rowspan=\"5\" valign=\"top\">April</th>\n      <th>Ballard</th>\n      <td>5.180190e+06</td>\n      <td>120.999350</td>\n    </tr>\n    <tr>\n      <th>Beacon Hill</th>\n      <td>5.052427e+06</td>\n      <td>99.030576</td>\n    </tr>\n    <tr>\n      <th>Capitol Hill</th>\n      <td>5.668931e+06</td>\n      <td>134.181818</td>\n    </tr>\n    <tr>\n      <th>Cascade</th>\n      <td>6.089536e+06</td>\n      <td>157.135593</td>\n    </tr>\n    <tr>\n      <th>Central Area</th>\n      <td>5.587679e+06</td>\n      <td>128.884648</td>\n    </tr>\n  </tbody>\n</table>\n</div>"
     },
     "metadata": {},
     "execution_count": 7
    }
   ],
   "source": [
    "calendar_month_avg = merged_df.groupby([merged_df['date'].dt.strftime('%B'), merged_df['neighbourhood_group_cleansed']]).mean()\n",
    "calendar_month_avg.head()"
   ]
  },
  {
   "cell_type": "code",
   "execution_count": 8,
   "metadata": {},
   "outputs": [],
   "source": [
    "grouped_price_df = calendar_month_avg['price']"
   ]
  },
  {
   "cell_type": "code",
   "execution_count": 9,
   "metadata": {},
   "outputs": [
    {
     "output_type": "execute_result",
     "data": {
      "text/plain": "neighbourhood_group_cleansed     Ballard  Beacon Hill  Capitol Hill  \\\ndate                                                                  \nApril                         120.999350    99.030576    134.181818   \nAugust                        139.124224   103.394035    142.804368   \nDecember                      129.631683   101.333211    133.784395   \nFebruary                      110.033227    96.401518    125.381330   \nJanuary                       108.986406    97.777725    123.823421   \nJuly                          138.565895   105.394449    144.035177   \nJune                          135.055280   105.828649    141.496378   \nMarch                         113.237420    94.018613    129.379577   \nMay                           122.753247   102.737389    135.511436   \nNovember                      126.323305   100.196055    132.684299   \nOctober                       126.943603    99.686677    132.938325   \nSeptember                     131.257533   102.107618    139.027625   \n\nneighbourhood_group_cleansed     Cascade  Central Area   Delridge    Downtown  \\\ndate                                                                            \nApril                         157.135593    128.884648  89.799889  182.228800   \nAugust                        167.752300    143.500132  96.316934  225.402173   \nDecember                      142.488285    138.567857  92.660020  176.166682   \nFebruary                      144.141864    122.093812  81.613109  156.857117   \nJanuary                       139.289689    120.513238  78.060000  153.544756   \nJuly                          167.563328    145.537473  94.989714  230.343055   \nJune                          168.922052    139.640927  92.891257  223.974254   \nMarch                         146.517104    123.147360  87.960275  173.549728   \nMay                           168.933374    134.314932  91.482906  196.796751   \nNovember                      144.513655    138.496046  92.989763  168.904529   \nOctober                       149.152174    138.012361  94.044610  174.916578   \nSeptember                     155.669231    141.086849  95.447177  193.148247   \n\nneighbourhood_group_cleansed    Interbay   Lake City    Magnolia   Northgate  \\\ndate                                                                           \nApril                         116.575646   92.973451  204.425329   91.769274   \nAugust                        125.200000  101.069565  201.063165  100.167991   \nDecember                      114.500000   90.801760  202.312173   89.121781   \nFebruary                      112.874126   92.184322  185.428373   88.005780   \nJanuary                       118.723636   88.437179  187.909692   87.301223   \nJuly                          126.659420  101.628116  211.078224  100.652770   \nJune                          122.118519  102.712753  197.319853   95.683634   \nMarch                         119.141935   91.227027  190.361674   89.282902   \nMay                           116.682310   96.041793  200.872061   96.053719   \nNovember                      113.566102   90.388485  200.107850   91.464523   \nOctober                       116.609319   90.094539  200.395086   93.622897   \nSeptember                     119.451852   97.521036  203.150000   96.557274   \n\nneighbourhood_group_cleansed  Other neighborhoods  Queen Anne  Rainier Valley  \\\ndate                                                                            \nApril                                  121.214977  170.429821      100.901802   \nAugust                                 135.258759  194.843181      107.465484   \nDecember                               129.438850  172.255945       98.605489   \nFebruary                               113.688757  153.775233       89.511774   \nJanuary                                110.440733  156.448199       90.091510   \nJuly                                   134.977329  198.040541      108.731723   \nJune                                   129.215547  190.212476      106.635173   \nMarch                                  114.391564  163.659001       93.054608   \nMay                                    124.448971  177.208201      103.639314   \nNovember                               128.886091  171.903081       99.100810   \nOctober                                129.050938  176.661936      100.571727   \nSeptember                              132.391371  187.548387      103.428204   \n\nneighbourhood_group_cleansed  Seward Park  University District  West Seattle  \ndate                                                                          \nApril                          105.656733           106.583080    145.114359  \nAugust                         121.463768           111.939155    159.073464  \nDecember                       119.830688           104.452389    147.817291  \nFebruary                        97.792434            96.716808    136.937485  \nJanuary                        100.407538            94.948899    140.519956  \nJuly                           119.803419           108.939803    161.445817  \nJune                           110.424658           108.418463    154.083182  \nMarch                           97.588752            98.777852    137.891341  \nMay                            106.018085           108.026615    146.612736  \nNovember                       118.816667           104.517608    146.429412  \nOctober                        119.444924           105.169329    147.409162  \nSeptember                      122.435049           107.608551    154.262692  ",
      "text/html": "<div>\n<style scoped>\n    .dataframe tbody tr th:only-of-type {\n        vertical-align: middle;\n    }\n\n    .dataframe tbody tr th {\n        vertical-align: top;\n    }\n\n    .dataframe thead th {\n        text-align: right;\n    }\n</style>\n<table border=\"1\" class=\"dataframe\">\n  <thead>\n    <tr style=\"text-align: right;\">\n      <th>neighbourhood_group_cleansed</th>\n      <th>Ballard</th>\n      <th>Beacon Hill</th>\n      <th>Capitol Hill</th>\n      <th>Cascade</th>\n      <th>Central Area</th>\n      <th>Delridge</th>\n      <th>Downtown</th>\n      <th>Interbay</th>\n      <th>Lake City</th>\n      <th>Magnolia</th>\n      <th>Northgate</th>\n      <th>Other neighborhoods</th>\n      <th>Queen Anne</th>\n      <th>Rainier Valley</th>\n      <th>Seward Park</th>\n      <th>University District</th>\n      <th>West Seattle</th>\n    </tr>\n    <tr>\n      <th>date</th>\n      <th></th>\n      <th></th>\n      <th></th>\n      <th></th>\n      <th></th>\n      <th></th>\n      <th></th>\n      <th></th>\n      <th></th>\n      <th></th>\n      <th></th>\n      <th></th>\n      <th></th>\n      <th></th>\n      <th></th>\n      <th></th>\n      <th></th>\n    </tr>\n  </thead>\n  <tbody>\n    <tr>\n      <th>April</th>\n      <td>120.999350</td>\n      <td>99.030576</td>\n      <td>134.181818</td>\n      <td>157.135593</td>\n      <td>128.884648</td>\n      <td>89.799889</td>\n      <td>182.228800</td>\n      <td>116.575646</td>\n      <td>92.973451</td>\n      <td>204.425329</td>\n      <td>91.769274</td>\n      <td>121.214977</td>\n      <td>170.429821</td>\n      <td>100.901802</td>\n      <td>105.656733</td>\n      <td>106.583080</td>\n      <td>145.114359</td>\n    </tr>\n    <tr>\n      <th>August</th>\n      <td>139.124224</td>\n      <td>103.394035</td>\n      <td>142.804368</td>\n      <td>167.752300</td>\n      <td>143.500132</td>\n      <td>96.316934</td>\n      <td>225.402173</td>\n      <td>125.200000</td>\n      <td>101.069565</td>\n      <td>201.063165</td>\n      <td>100.167991</td>\n      <td>135.258759</td>\n      <td>194.843181</td>\n      <td>107.465484</td>\n      <td>121.463768</td>\n      <td>111.939155</td>\n      <td>159.073464</td>\n    </tr>\n    <tr>\n      <th>December</th>\n      <td>129.631683</td>\n      <td>101.333211</td>\n      <td>133.784395</td>\n      <td>142.488285</td>\n      <td>138.567857</td>\n      <td>92.660020</td>\n      <td>176.166682</td>\n      <td>114.500000</td>\n      <td>90.801760</td>\n      <td>202.312173</td>\n      <td>89.121781</td>\n      <td>129.438850</td>\n      <td>172.255945</td>\n      <td>98.605489</td>\n      <td>119.830688</td>\n      <td>104.452389</td>\n      <td>147.817291</td>\n    </tr>\n    <tr>\n      <th>February</th>\n      <td>110.033227</td>\n      <td>96.401518</td>\n      <td>125.381330</td>\n      <td>144.141864</td>\n      <td>122.093812</td>\n      <td>81.613109</td>\n      <td>156.857117</td>\n      <td>112.874126</td>\n      <td>92.184322</td>\n      <td>185.428373</td>\n      <td>88.005780</td>\n      <td>113.688757</td>\n      <td>153.775233</td>\n      <td>89.511774</td>\n      <td>97.792434</td>\n      <td>96.716808</td>\n      <td>136.937485</td>\n    </tr>\n    <tr>\n      <th>January</th>\n      <td>108.986406</td>\n      <td>97.777725</td>\n      <td>123.823421</td>\n      <td>139.289689</td>\n      <td>120.513238</td>\n      <td>78.060000</td>\n      <td>153.544756</td>\n      <td>118.723636</td>\n      <td>88.437179</td>\n      <td>187.909692</td>\n      <td>87.301223</td>\n      <td>110.440733</td>\n      <td>156.448199</td>\n      <td>90.091510</td>\n      <td>100.407538</td>\n      <td>94.948899</td>\n      <td>140.519956</td>\n    </tr>\n    <tr>\n      <th>July</th>\n      <td>138.565895</td>\n      <td>105.394449</td>\n      <td>144.035177</td>\n      <td>167.563328</td>\n      <td>145.537473</td>\n      <td>94.989714</td>\n      <td>230.343055</td>\n      <td>126.659420</td>\n      <td>101.628116</td>\n      <td>211.078224</td>\n      <td>100.652770</td>\n      <td>134.977329</td>\n      <td>198.040541</td>\n      <td>108.731723</td>\n      <td>119.803419</td>\n      <td>108.939803</td>\n      <td>161.445817</td>\n    </tr>\n    <tr>\n      <th>June</th>\n      <td>135.055280</td>\n      <td>105.828649</td>\n      <td>141.496378</td>\n      <td>168.922052</td>\n      <td>139.640927</td>\n      <td>92.891257</td>\n      <td>223.974254</td>\n      <td>122.118519</td>\n      <td>102.712753</td>\n      <td>197.319853</td>\n      <td>95.683634</td>\n      <td>129.215547</td>\n      <td>190.212476</td>\n      <td>106.635173</td>\n      <td>110.424658</td>\n      <td>108.418463</td>\n      <td>154.083182</td>\n    </tr>\n    <tr>\n      <th>March</th>\n      <td>113.237420</td>\n      <td>94.018613</td>\n      <td>129.379577</td>\n      <td>146.517104</td>\n      <td>123.147360</td>\n      <td>87.960275</td>\n      <td>173.549728</td>\n      <td>119.141935</td>\n      <td>91.227027</td>\n      <td>190.361674</td>\n      <td>89.282902</td>\n      <td>114.391564</td>\n      <td>163.659001</td>\n      <td>93.054608</td>\n      <td>97.588752</td>\n      <td>98.777852</td>\n      <td>137.891341</td>\n    </tr>\n    <tr>\n      <th>May</th>\n      <td>122.753247</td>\n      <td>102.737389</td>\n      <td>135.511436</td>\n      <td>168.933374</td>\n      <td>134.314932</td>\n      <td>91.482906</td>\n      <td>196.796751</td>\n      <td>116.682310</td>\n      <td>96.041793</td>\n      <td>200.872061</td>\n      <td>96.053719</td>\n      <td>124.448971</td>\n      <td>177.208201</td>\n      <td>103.639314</td>\n      <td>106.018085</td>\n      <td>108.026615</td>\n      <td>146.612736</td>\n    </tr>\n    <tr>\n      <th>November</th>\n      <td>126.323305</td>\n      <td>100.196055</td>\n      <td>132.684299</td>\n      <td>144.513655</td>\n      <td>138.496046</td>\n      <td>92.989763</td>\n      <td>168.904529</td>\n      <td>113.566102</td>\n      <td>90.388485</td>\n      <td>200.107850</td>\n      <td>91.464523</td>\n      <td>128.886091</td>\n      <td>171.903081</td>\n      <td>99.100810</td>\n      <td>118.816667</td>\n      <td>104.517608</td>\n      <td>146.429412</td>\n    </tr>\n    <tr>\n      <th>October</th>\n      <td>126.943603</td>\n      <td>99.686677</td>\n      <td>132.938325</td>\n      <td>149.152174</td>\n      <td>138.012361</td>\n      <td>94.044610</td>\n      <td>174.916578</td>\n      <td>116.609319</td>\n      <td>90.094539</td>\n      <td>200.395086</td>\n      <td>93.622897</td>\n      <td>129.050938</td>\n      <td>176.661936</td>\n      <td>100.571727</td>\n      <td>119.444924</td>\n      <td>105.169329</td>\n      <td>147.409162</td>\n    </tr>\n    <tr>\n      <th>September</th>\n      <td>131.257533</td>\n      <td>102.107618</td>\n      <td>139.027625</td>\n      <td>155.669231</td>\n      <td>141.086849</td>\n      <td>95.447177</td>\n      <td>193.148247</td>\n      <td>119.451852</td>\n      <td>97.521036</td>\n      <td>203.150000</td>\n      <td>96.557274</td>\n      <td>132.391371</td>\n      <td>187.548387</td>\n      <td>103.428204</td>\n      <td>122.435049</td>\n      <td>107.608551</td>\n      <td>154.262692</td>\n    </tr>\n  </tbody>\n</table>\n</div>"
     },
     "metadata": {},
     "execution_count": 9
    }
   ],
   "source": [
    "unstacked_df = grouped_price_df.unstack(level=1)\n",
    "unstacked_df"
   ]
  },
  {
   "cell_type": "code",
   "execution_count": 10,
   "metadata": {},
   "outputs": [],
   "source": [
    "unstacked_df['month'] = unstacked_df.index.values"
   ]
  },
  {
   "cell_type": "code",
   "execution_count": 11,
   "metadata": {},
   "outputs": [
    {
     "output_type": "execute_result",
     "data": {
      "text/plain": "neighbourhood_group_cleansed     Ballard  Beacon Hill  Capitol Hill  \\\ndate                                                                  \nApril                         120.999350    99.030576    134.181818   \nAugust                        139.124224   103.394035    142.804368   \nDecember                      129.631683   101.333211    133.784395   \nFebruary                      110.033227    96.401518    125.381330   \nJanuary                       108.986406    97.777725    123.823421   \nJuly                          138.565895   105.394449    144.035177   \nJune                          135.055280   105.828649    141.496378   \nMarch                         113.237420    94.018613    129.379577   \nMay                           122.753247   102.737389    135.511436   \nNovember                      126.323305   100.196055    132.684299   \nOctober                       126.943603    99.686677    132.938325   \nSeptember                     131.257533   102.107618    139.027625   \n\nneighbourhood_group_cleansed     Cascade  Central Area   Delridge    Downtown  \\\ndate                                                                            \nApril                         157.135593    128.884648  89.799889  182.228800   \nAugust                        167.752300    143.500132  96.316934  225.402173   \nDecember                      142.488285    138.567857  92.660020  176.166682   \nFebruary                      144.141864    122.093812  81.613109  156.857117   \nJanuary                       139.289689    120.513238  78.060000  153.544756   \nJuly                          167.563328    145.537473  94.989714  230.343055   \nJune                          168.922052    139.640927  92.891257  223.974254   \nMarch                         146.517104    123.147360  87.960275  173.549728   \nMay                           168.933374    134.314932  91.482906  196.796751   \nNovember                      144.513655    138.496046  92.989763  168.904529   \nOctober                       149.152174    138.012361  94.044610  174.916578   \nSeptember                     155.669231    141.086849  95.447177  193.148247   \n\nneighbourhood_group_cleansed    Interbay   Lake City    Magnolia   Northgate  \\\ndate                                                                           \nApril                         116.575646   92.973451  204.425329   91.769274   \nAugust                        125.200000  101.069565  201.063165  100.167991   \nDecember                      114.500000   90.801760  202.312173   89.121781   \nFebruary                      112.874126   92.184322  185.428373   88.005780   \nJanuary                       118.723636   88.437179  187.909692   87.301223   \nJuly                          126.659420  101.628116  211.078224  100.652770   \nJune                          122.118519  102.712753  197.319853   95.683634   \nMarch                         119.141935   91.227027  190.361674   89.282902   \nMay                           116.682310   96.041793  200.872061   96.053719   \nNovember                      113.566102   90.388485  200.107850   91.464523   \nOctober                       116.609319   90.094539  200.395086   93.622897   \nSeptember                     119.451852   97.521036  203.150000   96.557274   \n\nneighbourhood_group_cleansed  Other neighborhoods  Queen Anne  Rainier Valley  \\\ndate                                                                            \nApril                                  121.214977  170.429821      100.901802   \nAugust                                 135.258759  194.843181      107.465484   \nDecember                               129.438850  172.255945       98.605489   \nFebruary                               113.688757  153.775233       89.511774   \nJanuary                                110.440733  156.448199       90.091510   \nJuly                                   134.977329  198.040541      108.731723   \nJune                                   129.215547  190.212476      106.635173   \nMarch                                  114.391564  163.659001       93.054608   \nMay                                    124.448971  177.208201      103.639314   \nNovember                               128.886091  171.903081       99.100810   \nOctober                                129.050938  176.661936      100.571727   \nSeptember                              132.391371  187.548387      103.428204   \n\nneighbourhood_group_cleansed  Seward Park  University District  West Seattle  \\\ndate                                                                           \nApril                          105.656733           106.583080    145.114359   \nAugust                         121.463768           111.939155    159.073464   \nDecember                       119.830688           104.452389    147.817291   \nFebruary                        97.792434            96.716808    136.937485   \nJanuary                        100.407538            94.948899    140.519956   \nJuly                           119.803419           108.939803    161.445817   \nJune                           110.424658           108.418463    154.083182   \nMarch                           97.588752            98.777852    137.891341   \nMay                            106.018085           108.026615    146.612736   \nNovember                       118.816667           104.517608    146.429412   \nOctober                        119.444924           105.169329    147.409162   \nSeptember                      122.435049           107.608551    154.262692   \n\nneighbourhood_group_cleansed      month  \ndate                                     \nApril                             April  \nAugust                           August  \nDecember                       December  \nFebruary                       February  \nJanuary                         January  \nJuly                               July  \nJune                               June  \nMarch                             March  \nMay                                 May  \nNovember                       November  \nOctober                         October  \nSeptember                     September  ",
      "text/html": "<div>\n<style scoped>\n    .dataframe tbody tr th:only-of-type {\n        vertical-align: middle;\n    }\n\n    .dataframe tbody tr th {\n        vertical-align: top;\n    }\n\n    .dataframe thead th {\n        text-align: right;\n    }\n</style>\n<table border=\"1\" class=\"dataframe\">\n  <thead>\n    <tr style=\"text-align: right;\">\n      <th>neighbourhood_group_cleansed</th>\n      <th>Ballard</th>\n      <th>Beacon Hill</th>\n      <th>Capitol Hill</th>\n      <th>Cascade</th>\n      <th>Central Area</th>\n      <th>Delridge</th>\n      <th>Downtown</th>\n      <th>Interbay</th>\n      <th>Lake City</th>\n      <th>Magnolia</th>\n      <th>Northgate</th>\n      <th>Other neighborhoods</th>\n      <th>Queen Anne</th>\n      <th>Rainier Valley</th>\n      <th>Seward Park</th>\n      <th>University District</th>\n      <th>West Seattle</th>\n      <th>month</th>\n    </tr>\n    <tr>\n      <th>date</th>\n      <th></th>\n      <th></th>\n      <th></th>\n      <th></th>\n      <th></th>\n      <th></th>\n      <th></th>\n      <th></th>\n      <th></th>\n      <th></th>\n      <th></th>\n      <th></th>\n      <th></th>\n      <th></th>\n      <th></th>\n      <th></th>\n      <th></th>\n      <th></th>\n    </tr>\n  </thead>\n  <tbody>\n    <tr>\n      <th>April</th>\n      <td>120.999350</td>\n      <td>99.030576</td>\n      <td>134.181818</td>\n      <td>157.135593</td>\n      <td>128.884648</td>\n      <td>89.799889</td>\n      <td>182.228800</td>\n      <td>116.575646</td>\n      <td>92.973451</td>\n      <td>204.425329</td>\n      <td>91.769274</td>\n      <td>121.214977</td>\n      <td>170.429821</td>\n      <td>100.901802</td>\n      <td>105.656733</td>\n      <td>106.583080</td>\n      <td>145.114359</td>\n      <td>April</td>\n    </tr>\n    <tr>\n      <th>August</th>\n      <td>139.124224</td>\n      <td>103.394035</td>\n      <td>142.804368</td>\n      <td>167.752300</td>\n      <td>143.500132</td>\n      <td>96.316934</td>\n      <td>225.402173</td>\n      <td>125.200000</td>\n      <td>101.069565</td>\n      <td>201.063165</td>\n      <td>100.167991</td>\n      <td>135.258759</td>\n      <td>194.843181</td>\n      <td>107.465484</td>\n      <td>121.463768</td>\n      <td>111.939155</td>\n      <td>159.073464</td>\n      <td>August</td>\n    </tr>\n    <tr>\n      <th>December</th>\n      <td>129.631683</td>\n      <td>101.333211</td>\n      <td>133.784395</td>\n      <td>142.488285</td>\n      <td>138.567857</td>\n      <td>92.660020</td>\n      <td>176.166682</td>\n      <td>114.500000</td>\n      <td>90.801760</td>\n      <td>202.312173</td>\n      <td>89.121781</td>\n      <td>129.438850</td>\n      <td>172.255945</td>\n      <td>98.605489</td>\n      <td>119.830688</td>\n      <td>104.452389</td>\n      <td>147.817291</td>\n      <td>December</td>\n    </tr>\n    <tr>\n      <th>February</th>\n      <td>110.033227</td>\n      <td>96.401518</td>\n      <td>125.381330</td>\n      <td>144.141864</td>\n      <td>122.093812</td>\n      <td>81.613109</td>\n      <td>156.857117</td>\n      <td>112.874126</td>\n      <td>92.184322</td>\n      <td>185.428373</td>\n      <td>88.005780</td>\n      <td>113.688757</td>\n      <td>153.775233</td>\n      <td>89.511774</td>\n      <td>97.792434</td>\n      <td>96.716808</td>\n      <td>136.937485</td>\n      <td>February</td>\n    </tr>\n    <tr>\n      <th>January</th>\n      <td>108.986406</td>\n      <td>97.777725</td>\n      <td>123.823421</td>\n      <td>139.289689</td>\n      <td>120.513238</td>\n      <td>78.060000</td>\n      <td>153.544756</td>\n      <td>118.723636</td>\n      <td>88.437179</td>\n      <td>187.909692</td>\n      <td>87.301223</td>\n      <td>110.440733</td>\n      <td>156.448199</td>\n      <td>90.091510</td>\n      <td>100.407538</td>\n      <td>94.948899</td>\n      <td>140.519956</td>\n      <td>January</td>\n    </tr>\n    <tr>\n      <th>July</th>\n      <td>138.565895</td>\n      <td>105.394449</td>\n      <td>144.035177</td>\n      <td>167.563328</td>\n      <td>145.537473</td>\n      <td>94.989714</td>\n      <td>230.343055</td>\n      <td>126.659420</td>\n      <td>101.628116</td>\n      <td>211.078224</td>\n      <td>100.652770</td>\n      <td>134.977329</td>\n      <td>198.040541</td>\n      <td>108.731723</td>\n      <td>119.803419</td>\n      <td>108.939803</td>\n      <td>161.445817</td>\n      <td>July</td>\n    </tr>\n    <tr>\n      <th>June</th>\n      <td>135.055280</td>\n      <td>105.828649</td>\n      <td>141.496378</td>\n      <td>168.922052</td>\n      <td>139.640927</td>\n      <td>92.891257</td>\n      <td>223.974254</td>\n      <td>122.118519</td>\n      <td>102.712753</td>\n      <td>197.319853</td>\n      <td>95.683634</td>\n      <td>129.215547</td>\n      <td>190.212476</td>\n      <td>106.635173</td>\n      <td>110.424658</td>\n      <td>108.418463</td>\n      <td>154.083182</td>\n      <td>June</td>\n    </tr>\n    <tr>\n      <th>March</th>\n      <td>113.237420</td>\n      <td>94.018613</td>\n      <td>129.379577</td>\n      <td>146.517104</td>\n      <td>123.147360</td>\n      <td>87.960275</td>\n      <td>173.549728</td>\n      <td>119.141935</td>\n      <td>91.227027</td>\n      <td>190.361674</td>\n      <td>89.282902</td>\n      <td>114.391564</td>\n      <td>163.659001</td>\n      <td>93.054608</td>\n      <td>97.588752</td>\n      <td>98.777852</td>\n      <td>137.891341</td>\n      <td>March</td>\n    </tr>\n    <tr>\n      <th>May</th>\n      <td>122.753247</td>\n      <td>102.737389</td>\n      <td>135.511436</td>\n      <td>168.933374</td>\n      <td>134.314932</td>\n      <td>91.482906</td>\n      <td>196.796751</td>\n      <td>116.682310</td>\n      <td>96.041793</td>\n      <td>200.872061</td>\n      <td>96.053719</td>\n      <td>124.448971</td>\n      <td>177.208201</td>\n      <td>103.639314</td>\n      <td>106.018085</td>\n      <td>108.026615</td>\n      <td>146.612736</td>\n      <td>May</td>\n    </tr>\n    <tr>\n      <th>November</th>\n      <td>126.323305</td>\n      <td>100.196055</td>\n      <td>132.684299</td>\n      <td>144.513655</td>\n      <td>138.496046</td>\n      <td>92.989763</td>\n      <td>168.904529</td>\n      <td>113.566102</td>\n      <td>90.388485</td>\n      <td>200.107850</td>\n      <td>91.464523</td>\n      <td>128.886091</td>\n      <td>171.903081</td>\n      <td>99.100810</td>\n      <td>118.816667</td>\n      <td>104.517608</td>\n      <td>146.429412</td>\n      <td>November</td>\n    </tr>\n    <tr>\n      <th>October</th>\n      <td>126.943603</td>\n      <td>99.686677</td>\n      <td>132.938325</td>\n      <td>149.152174</td>\n      <td>138.012361</td>\n      <td>94.044610</td>\n      <td>174.916578</td>\n      <td>116.609319</td>\n      <td>90.094539</td>\n      <td>200.395086</td>\n      <td>93.622897</td>\n      <td>129.050938</td>\n      <td>176.661936</td>\n      <td>100.571727</td>\n      <td>119.444924</td>\n      <td>105.169329</td>\n      <td>147.409162</td>\n      <td>October</td>\n    </tr>\n    <tr>\n      <th>September</th>\n      <td>131.257533</td>\n      <td>102.107618</td>\n      <td>139.027625</td>\n      <td>155.669231</td>\n      <td>141.086849</td>\n      <td>95.447177</td>\n      <td>193.148247</td>\n      <td>119.451852</td>\n      <td>97.521036</td>\n      <td>203.150000</td>\n      <td>96.557274</td>\n      <td>132.391371</td>\n      <td>187.548387</td>\n      <td>103.428204</td>\n      <td>122.435049</td>\n      <td>107.608551</td>\n      <td>154.262692</td>\n      <td>September</td>\n    </tr>\n  </tbody>\n</table>\n</div>"
     },
     "metadata": {},
     "execution_count": 11
    }
   ],
   "source": [
    "unstacked_df"
   ]
  },
  {
   "cell_type": "code",
   "execution_count": 12,
   "metadata": {},
   "outputs": [],
   "source": [
    "\n",
    "\n",
    "unstacked_df['month_num'] = [datetime.datetime.strptime(x, \"%B\").month for x in unstacked_df['month']]"
   ]
  },
  {
   "cell_type": "code",
   "execution_count": 19,
   "metadata": {},
   "outputs": [
    {
     "output_type": "execute_result",
     "data": {
      "text/plain": "neighbourhood_group_cleansed  Ballard  Beacon Hill  Capitol Hill  Cascade  \\\ndate                                                                        \nJanuary                        108.99        97.78        123.82   139.29   \nFebruary                       110.03        96.40        125.38   144.14   \nMarch                          113.24        94.02        129.38   146.52   \nApril                          121.00        99.03        134.18   157.14   \nMay                            122.75       102.74        135.51   168.93   \n\nneighbourhood_group_cleansed  Central Area  Delridge  Downtown  Interbay  \\\ndate                                                                       \nJanuary                             120.51     78.06    153.54    118.72   \nFebruary                            122.09     81.61    156.86    112.87   \nMarch                               123.15     87.96    173.55    119.14   \nApril                               128.88     89.80    182.23    116.58   \nMay                                 134.31     91.48    196.80    116.68   \n\nneighbourhood_group_cleansed  Lake City  Magnolia  Northgate  \\\ndate                                                           \nJanuary                           88.44    187.91      87.30   \nFebruary                          92.18    185.43      88.01   \nMarch                             91.23    190.36      89.28   \nApril                             92.97    204.43      91.77   \nMay                               96.04    200.87      96.05   \n\nneighbourhood_group_cleansed  Other neighborhoods  Queen Anne  Rainier Valley  \\\ndate                                                                            \nJanuary                                    110.44      156.45           90.09   \nFebruary                                   113.69      153.78           89.51   \nMarch                                      114.39      163.66           93.05   \nApril                                      121.21      170.43          100.90   \nMay                                        124.45      177.21          103.64   \n\nneighbourhood_group_cleansed  Seward Park  University District  West Seattle  \ndate                                                                          \nJanuary                            100.41                94.95        140.52  \nFebruary                            97.79                96.72        136.94  \nMarch                               97.59                98.78        137.89  \nApril                              105.66               106.58        145.11  \nMay                                106.02               108.03        146.61  ",
      "text/html": "<div>\n<style scoped>\n    .dataframe tbody tr th:only-of-type {\n        vertical-align: middle;\n    }\n\n    .dataframe tbody tr th {\n        vertical-align: top;\n    }\n\n    .dataframe thead th {\n        text-align: right;\n    }\n</style>\n<table border=\"1\" class=\"dataframe\">\n  <thead>\n    <tr style=\"text-align: right;\">\n      <th>neighbourhood_group_cleansed</th>\n      <th>Ballard</th>\n      <th>Beacon Hill</th>\n      <th>Capitol Hill</th>\n      <th>Cascade</th>\n      <th>Central Area</th>\n      <th>Delridge</th>\n      <th>Downtown</th>\n      <th>Interbay</th>\n      <th>Lake City</th>\n      <th>Magnolia</th>\n      <th>Northgate</th>\n      <th>Other neighborhoods</th>\n      <th>Queen Anne</th>\n      <th>Rainier Valley</th>\n      <th>Seward Park</th>\n      <th>University District</th>\n      <th>West Seattle</th>\n    </tr>\n    <tr>\n      <th>date</th>\n      <th></th>\n      <th></th>\n      <th></th>\n      <th></th>\n      <th></th>\n      <th></th>\n      <th></th>\n      <th></th>\n      <th></th>\n      <th></th>\n      <th></th>\n      <th></th>\n      <th></th>\n      <th></th>\n      <th></th>\n      <th></th>\n      <th></th>\n    </tr>\n  </thead>\n  <tbody>\n    <tr>\n      <th>January</th>\n      <td>108.99</td>\n      <td>97.78</td>\n      <td>123.82</td>\n      <td>139.29</td>\n      <td>120.51</td>\n      <td>78.06</td>\n      <td>153.54</td>\n      <td>118.72</td>\n      <td>88.44</td>\n      <td>187.91</td>\n      <td>87.30</td>\n      <td>110.44</td>\n      <td>156.45</td>\n      <td>90.09</td>\n      <td>100.41</td>\n      <td>94.95</td>\n      <td>140.52</td>\n    </tr>\n    <tr>\n      <th>February</th>\n      <td>110.03</td>\n      <td>96.40</td>\n      <td>125.38</td>\n      <td>144.14</td>\n      <td>122.09</td>\n      <td>81.61</td>\n      <td>156.86</td>\n      <td>112.87</td>\n      <td>92.18</td>\n      <td>185.43</td>\n      <td>88.01</td>\n      <td>113.69</td>\n      <td>153.78</td>\n      <td>89.51</td>\n      <td>97.79</td>\n      <td>96.72</td>\n      <td>136.94</td>\n    </tr>\n    <tr>\n      <th>March</th>\n      <td>113.24</td>\n      <td>94.02</td>\n      <td>129.38</td>\n      <td>146.52</td>\n      <td>123.15</td>\n      <td>87.96</td>\n      <td>173.55</td>\n      <td>119.14</td>\n      <td>91.23</td>\n      <td>190.36</td>\n      <td>89.28</td>\n      <td>114.39</td>\n      <td>163.66</td>\n      <td>93.05</td>\n      <td>97.59</td>\n      <td>98.78</td>\n      <td>137.89</td>\n    </tr>\n    <tr>\n      <th>April</th>\n      <td>121.00</td>\n      <td>99.03</td>\n      <td>134.18</td>\n      <td>157.14</td>\n      <td>128.88</td>\n      <td>89.80</td>\n      <td>182.23</td>\n      <td>116.58</td>\n      <td>92.97</td>\n      <td>204.43</td>\n      <td>91.77</td>\n      <td>121.21</td>\n      <td>170.43</td>\n      <td>100.90</td>\n      <td>105.66</td>\n      <td>106.58</td>\n      <td>145.11</td>\n    </tr>\n    <tr>\n      <th>May</th>\n      <td>122.75</td>\n      <td>102.74</td>\n      <td>135.51</td>\n      <td>168.93</td>\n      <td>134.31</td>\n      <td>91.48</td>\n      <td>196.80</td>\n      <td>116.68</td>\n      <td>96.04</td>\n      <td>200.87</td>\n      <td>96.05</td>\n      <td>124.45</td>\n      <td>177.21</td>\n      <td>103.64</td>\n      <td>106.02</td>\n      <td>108.03</td>\n      <td>146.61</td>\n    </tr>\n  </tbody>\n</table>\n</div>"
     },
     "metadata": {},
     "execution_count": 19
    }
   ],
   "source": [
    "monthly_neigh_prices =unstacked_df.sort_values('month_num')\n",
    "monthly_neigh_prices = monthly_neigh_prices.drop(['month_num','month'], axis=1)\n",
    "monthly_neigh_prices = monthly_neigh_prices.round(2)\n",
    "monthly_neigh_prices.head()"
   ]
  },
  {
   "cell_type": "code",
   "execution_count": 26,
   "metadata": {},
   "outputs": [
    {
     "output_type": "display_data",
     "data": {
      "application/vnd.plotly.v1+json": {
       "config": {
        "plotlyServerURL": "https://plot.ly"
       },
       "data": [
        {
         "mode": "lines+markers",
         "name": "Ballard",
         "type": "scatter",
         "x": [
          "January",
          "February",
          "March",
          "April",
          "May",
          "June",
          "July",
          "August",
          "September",
          "October",
          "November",
          "December"
         ],
         "y": [
          108.99,
          110.03,
          113.24,
          121,
          122.75,
          135.06,
          138.57,
          139.12,
          131.26,
          126.94,
          126.32,
          129.63
         ]
        },
        {
         "mode": "lines+markers",
         "name": "Beacon Hill",
         "type": "scatter",
         "x": [
          "January",
          "February",
          "March",
          "April",
          "May",
          "June",
          "July",
          "August",
          "September",
          "October",
          "November",
          "December"
         ],
         "y": [
          97.78,
          96.4,
          94.02,
          99.03,
          102.74,
          105.83,
          105.39,
          103.39,
          102.11,
          99.69,
          100.2,
          101.33
         ]
        },
        {
         "mode": "lines+markers",
         "name": "Capitol Hill",
         "type": "scatter",
         "x": [
          "January",
          "February",
          "March",
          "April",
          "May",
          "June",
          "July",
          "August",
          "September",
          "October",
          "November",
          "December"
         ],
         "y": [
          123.82,
          125.38,
          129.38,
          134.18,
          135.51,
          141.5,
          144.04,
          142.8,
          139.03,
          132.94,
          132.68,
          133.78
         ]
        },
        {
         "mode": "lines+markers",
         "name": "Cascade",
         "type": "scatter",
         "x": [
          "January",
          "February",
          "March",
          "April",
          "May",
          "June",
          "July",
          "August",
          "September",
          "October",
          "November",
          "December"
         ],
         "y": [
          139.29,
          144.14,
          146.52,
          157.14,
          168.93,
          168.92,
          167.56,
          167.75,
          155.67,
          149.15,
          144.51,
          142.49
         ]
        },
        {
         "mode": "lines+markers",
         "name": "Central Area",
         "type": "scatter",
         "x": [
          "January",
          "February",
          "March",
          "April",
          "May",
          "June",
          "July",
          "August",
          "September",
          "October",
          "November",
          "December"
         ],
         "y": [
          120.51,
          122.09,
          123.15,
          128.88,
          134.31,
          139.64,
          145.54,
          143.5,
          141.09,
          138.01,
          138.5,
          138.57
         ]
        },
        {
         "mode": "lines+markers",
         "name": "Delridge",
         "type": "scatter",
         "x": [
          "January",
          "February",
          "March",
          "April",
          "May",
          "June",
          "July",
          "August",
          "September",
          "October",
          "November",
          "December"
         ],
         "y": [
          78.06,
          81.61,
          87.96,
          89.8,
          91.48,
          92.89,
          94.99,
          96.32,
          95.45,
          94.04,
          92.99,
          92.66
         ]
        },
        {
         "mode": "lines+markers",
         "name": "Downtown",
         "type": "scatter",
         "x": [
          "January",
          "February",
          "March",
          "April",
          "May",
          "June",
          "July",
          "August",
          "September",
          "October",
          "November",
          "December"
         ],
         "y": [
          153.54,
          156.86,
          173.55,
          182.23,
          196.8,
          223.97,
          230.34,
          225.4,
          193.15,
          174.92,
          168.9,
          176.17
         ]
        },
        {
         "mode": "lines+markers",
         "name": "Interbay",
         "type": "scatter",
         "x": [
          "January",
          "February",
          "March",
          "April",
          "May",
          "June",
          "July",
          "August",
          "September",
          "October",
          "November",
          "December"
         ],
         "y": [
          118.72,
          112.87,
          119.14,
          116.58,
          116.68,
          122.12,
          126.66,
          125.2,
          119.45,
          116.61,
          113.57,
          114.5
         ]
        },
        {
         "mode": "lines+markers",
         "name": "Lake City",
         "type": "scatter",
         "x": [
          "January",
          "February",
          "March",
          "April",
          "May",
          "June",
          "July",
          "August",
          "September",
          "October",
          "November",
          "December"
         ],
         "y": [
          88.44,
          92.18,
          91.23,
          92.97,
          96.04,
          102.71,
          101.63,
          101.07,
          97.52,
          90.09,
          90.39,
          90.8
         ]
        },
        {
         "mode": "lines+markers",
         "name": "Magnolia",
         "type": "scatter",
         "x": [
          "January",
          "February",
          "March",
          "April",
          "May",
          "June",
          "July",
          "August",
          "September",
          "October",
          "November",
          "December"
         ],
         "y": [
          187.91,
          185.43,
          190.36,
          204.43,
          200.87,
          197.32,
          211.08,
          201.06,
          203.15,
          200.4,
          200.11,
          202.31
         ]
        },
        {
         "mode": "lines+markers",
         "name": "Northgate",
         "type": "scatter",
         "x": [
          "January",
          "February",
          "March",
          "April",
          "May",
          "June",
          "July",
          "August",
          "September",
          "October",
          "November",
          "December"
         ],
         "y": [
          87.3,
          88.01,
          89.28,
          91.77,
          96.05,
          95.68,
          100.65,
          100.17,
          96.56,
          93.62,
          91.46,
          89.12
         ]
        },
        {
         "mode": "lines+markers",
         "name": "Other neighborhoods",
         "type": "scatter",
         "x": [
          "January",
          "February",
          "March",
          "April",
          "May",
          "June",
          "July",
          "August",
          "September",
          "October",
          "November",
          "December"
         ],
         "y": [
          110.44,
          113.69,
          114.39,
          121.21,
          124.45,
          129.22,
          134.98,
          135.26,
          132.39,
          129.05,
          128.89,
          129.44
         ]
        },
        {
         "mode": "lines+markers",
         "name": "Queen Anne",
         "type": "scatter",
         "x": [
          "January",
          "February",
          "March",
          "April",
          "May",
          "June",
          "July",
          "August",
          "September",
          "October",
          "November",
          "December"
         ],
         "y": [
          156.45,
          153.78,
          163.66,
          170.43,
          177.21,
          190.21,
          198.04,
          194.84,
          187.55,
          176.66,
          171.9,
          172.26
         ]
        },
        {
         "mode": "lines+markers",
         "name": "Rainier Valley",
         "type": "scatter",
         "x": [
          "January",
          "February",
          "March",
          "April",
          "May",
          "June",
          "July",
          "August",
          "September",
          "October",
          "November",
          "December"
         ],
         "y": [
          90.09,
          89.51,
          93.05,
          100.9,
          103.64,
          106.64,
          108.73,
          107.47,
          103.43,
          100.57,
          99.1,
          98.61
         ]
        },
        {
         "mode": "lines+markers",
         "name": "Seward Park",
         "type": "scatter",
         "x": [
          "January",
          "February",
          "March",
          "April",
          "May",
          "June",
          "July",
          "August",
          "September",
          "October",
          "November",
          "December"
         ],
         "y": [
          100.41,
          97.79,
          97.59,
          105.66,
          106.02,
          110.42,
          119.8,
          121.46,
          122.44,
          119.44,
          118.82,
          119.83
         ]
        },
        {
         "mode": "lines+markers",
         "name": "University District",
         "type": "scatter",
         "x": [
          "January",
          "February",
          "March",
          "April",
          "May",
          "June",
          "July",
          "August",
          "September",
          "October",
          "November",
          "December"
         ],
         "y": [
          94.95,
          96.72,
          98.78,
          106.58,
          108.03,
          108.42,
          108.94,
          111.94,
          107.61,
          105.17,
          104.52,
          104.45
         ]
        },
        {
         "mode": "lines+markers",
         "name": "West Seattle",
         "type": "scatter",
         "x": [
          "January",
          "February",
          "March",
          "April",
          "May",
          "June",
          "July",
          "August",
          "September",
          "October",
          "November",
          "December"
         ],
         "y": [
          140.52,
          136.94,
          137.89,
          145.11,
          146.61,
          154.08,
          161.45,
          159.07,
          154.26,
          147.41,
          146.43,
          147.82
         ]
        }
       ],
       "layout": {
        "autosize": false,
        "height": 800,
        "template": {
         "data": {
          "bar": [
           {
            "error_x": {
             "color": "#f2f5fa"
            },
            "error_y": {
             "color": "#f2f5fa"
            },
            "marker": {
             "line": {
              "color": "rgb(17,17,17)",
              "width": 0.5
             }
            },
            "type": "bar"
           }
          ],
          "barpolar": [
           {
            "marker": {
             "line": {
              "color": "rgb(17,17,17)",
              "width": 0.5
             }
            },
            "type": "barpolar"
           }
          ],
          "carpet": [
           {
            "aaxis": {
             "endlinecolor": "#A2B1C6",
             "gridcolor": "#506784",
             "linecolor": "#506784",
             "minorgridcolor": "#506784",
             "startlinecolor": "#A2B1C6"
            },
            "baxis": {
             "endlinecolor": "#A2B1C6",
             "gridcolor": "#506784",
             "linecolor": "#506784",
             "minorgridcolor": "#506784",
             "startlinecolor": "#A2B1C6"
            },
            "type": "carpet"
           }
          ],
          "choropleth": [
           {
            "colorbar": {
             "outlinewidth": 0,
             "ticks": ""
            },
            "type": "choropleth"
           }
          ],
          "contour": [
           {
            "colorbar": {
             "outlinewidth": 0,
             "ticks": ""
            },
            "colorscale": [
             [
              0,
              "#0d0887"
             ],
             [
              0.1111111111111111,
              "#46039f"
             ],
             [
              0.2222222222222222,
              "#7201a8"
             ],
             [
              0.3333333333333333,
              "#9c179e"
             ],
             [
              0.4444444444444444,
              "#bd3786"
             ],
             [
              0.5555555555555556,
              "#d8576b"
             ],
             [
              0.6666666666666666,
              "#ed7953"
             ],
             [
              0.7777777777777778,
              "#fb9f3a"
             ],
             [
              0.8888888888888888,
              "#fdca26"
             ],
             [
              1,
              "#f0f921"
             ]
            ],
            "type": "contour"
           }
          ],
          "contourcarpet": [
           {
            "colorbar": {
             "outlinewidth": 0,
             "ticks": ""
            },
            "type": "contourcarpet"
           }
          ],
          "heatmap": [
           {
            "colorbar": {
             "outlinewidth": 0,
             "ticks": ""
            },
            "colorscale": [
             [
              0,
              "#0d0887"
             ],
             [
              0.1111111111111111,
              "#46039f"
             ],
             [
              0.2222222222222222,
              "#7201a8"
             ],
             [
              0.3333333333333333,
              "#9c179e"
             ],
             [
              0.4444444444444444,
              "#bd3786"
             ],
             [
              0.5555555555555556,
              "#d8576b"
             ],
             [
              0.6666666666666666,
              "#ed7953"
             ],
             [
              0.7777777777777778,
              "#fb9f3a"
             ],
             [
              0.8888888888888888,
              "#fdca26"
             ],
             [
              1,
              "#f0f921"
             ]
            ],
            "type": "heatmap"
           }
          ],
          "heatmapgl": [
           {
            "colorbar": {
             "outlinewidth": 0,
             "ticks": ""
            },
            "colorscale": [
             [
              0,
              "#0d0887"
             ],
             [
              0.1111111111111111,
              "#46039f"
             ],
             [
              0.2222222222222222,
              "#7201a8"
             ],
             [
              0.3333333333333333,
              "#9c179e"
             ],
             [
              0.4444444444444444,
              "#bd3786"
             ],
             [
              0.5555555555555556,
              "#d8576b"
             ],
             [
              0.6666666666666666,
              "#ed7953"
             ],
             [
              0.7777777777777778,
              "#fb9f3a"
             ],
             [
              0.8888888888888888,
              "#fdca26"
             ],
             [
              1,
              "#f0f921"
             ]
            ],
            "type": "heatmapgl"
           }
          ],
          "histogram": [
           {
            "marker": {
             "colorbar": {
              "outlinewidth": 0,
              "ticks": ""
             }
            },
            "type": "histogram"
           }
          ],
          "histogram2d": [
           {
            "colorbar": {
             "outlinewidth": 0,
             "ticks": ""
            },
            "colorscale": [
             [
              0,
              "#0d0887"
             ],
             [
              0.1111111111111111,
              "#46039f"
             ],
             [
              0.2222222222222222,
              "#7201a8"
             ],
             [
              0.3333333333333333,
              "#9c179e"
             ],
             [
              0.4444444444444444,
              "#bd3786"
             ],
             [
              0.5555555555555556,
              "#d8576b"
             ],
             [
              0.6666666666666666,
              "#ed7953"
             ],
             [
              0.7777777777777778,
              "#fb9f3a"
             ],
             [
              0.8888888888888888,
              "#fdca26"
             ],
             [
              1,
              "#f0f921"
             ]
            ],
            "type": "histogram2d"
           }
          ],
          "histogram2dcontour": [
           {
            "colorbar": {
             "outlinewidth": 0,
             "ticks": ""
            },
            "colorscale": [
             [
              0,
              "#0d0887"
             ],
             [
              0.1111111111111111,
              "#46039f"
             ],
             [
              0.2222222222222222,
              "#7201a8"
             ],
             [
              0.3333333333333333,
              "#9c179e"
             ],
             [
              0.4444444444444444,
              "#bd3786"
             ],
             [
              0.5555555555555556,
              "#d8576b"
             ],
             [
              0.6666666666666666,
              "#ed7953"
             ],
             [
              0.7777777777777778,
              "#fb9f3a"
             ],
             [
              0.8888888888888888,
              "#fdca26"
             ],
             [
              1,
              "#f0f921"
             ]
            ],
            "type": "histogram2dcontour"
           }
          ],
          "mesh3d": [
           {
            "colorbar": {
             "outlinewidth": 0,
             "ticks": ""
            },
            "type": "mesh3d"
           }
          ],
          "parcoords": [
           {
            "line": {
             "colorbar": {
              "outlinewidth": 0,
              "ticks": ""
             }
            },
            "type": "parcoords"
           }
          ],
          "pie": [
           {
            "automargin": true,
            "type": "pie"
           }
          ],
          "scatter": [
           {
            "marker": {
             "line": {
              "color": "#283442"
             }
            },
            "type": "scatter"
           }
          ],
          "scatter3d": [
           {
            "line": {
             "colorbar": {
              "outlinewidth": 0,
              "ticks": ""
             }
            },
            "marker": {
             "colorbar": {
              "outlinewidth": 0,
              "ticks": ""
             }
            },
            "type": "scatter3d"
           }
          ],
          "scattercarpet": [
           {
            "marker": {
             "colorbar": {
              "outlinewidth": 0,
              "ticks": ""
             }
            },
            "type": "scattercarpet"
           }
          ],
          "scattergeo": [
           {
            "marker": {
             "colorbar": {
              "outlinewidth": 0,
              "ticks": ""
             }
            },
            "type": "scattergeo"
           }
          ],
          "scattergl": [
           {
            "marker": {
             "line": {
              "color": "#283442"
             }
            },
            "type": "scattergl"
           }
          ],
          "scattermapbox": [
           {
            "marker": {
             "colorbar": {
              "outlinewidth": 0,
              "ticks": ""
             }
            },
            "type": "scattermapbox"
           }
          ],
          "scatterpolar": [
           {
            "marker": {
             "colorbar": {
              "outlinewidth": 0,
              "ticks": ""
             }
            },
            "type": "scatterpolar"
           }
          ],
          "scatterpolargl": [
           {
            "marker": {
             "colorbar": {
              "outlinewidth": 0,
              "ticks": ""
             }
            },
            "type": "scatterpolargl"
           }
          ],
          "scatterternary": [
           {
            "marker": {
             "colorbar": {
              "outlinewidth": 0,
              "ticks": ""
             }
            },
            "type": "scatterternary"
           }
          ],
          "surface": [
           {
            "colorbar": {
             "outlinewidth": 0,
             "ticks": ""
            },
            "colorscale": [
             [
              0,
              "#0d0887"
             ],
             [
              0.1111111111111111,
              "#46039f"
             ],
             [
              0.2222222222222222,
              "#7201a8"
             ],
             [
              0.3333333333333333,
              "#9c179e"
             ],
             [
              0.4444444444444444,
              "#bd3786"
             ],
             [
              0.5555555555555556,
              "#d8576b"
             ],
             [
              0.6666666666666666,
              "#ed7953"
             ],
             [
              0.7777777777777778,
              "#fb9f3a"
             ],
             [
              0.8888888888888888,
              "#fdca26"
             ],
             [
              1,
              "#f0f921"
             ]
            ],
            "type": "surface"
           }
          ],
          "table": [
           {
            "cells": {
             "fill": {
              "color": "#506784"
             },
             "line": {
              "color": "rgb(17,17,17)"
             }
            },
            "header": {
             "fill": {
              "color": "#2a3f5f"
             },
             "line": {
              "color": "rgb(17,17,17)"
             }
            },
            "type": "table"
           }
          ]
         },
         "layout": {
          "annotationdefaults": {
           "arrowcolor": "#f2f5fa",
           "arrowhead": 0,
           "arrowwidth": 1
          },
          "coloraxis": {
           "colorbar": {
            "outlinewidth": 0,
            "ticks": ""
           }
          },
          "colorscale": {
           "diverging": [
            [
             0,
             "#8e0152"
            ],
            [
             0.1,
             "#c51b7d"
            ],
            [
             0.2,
             "#de77ae"
            ],
            [
             0.3,
             "#f1b6da"
            ],
            [
             0.4,
             "#fde0ef"
            ],
            [
             0.5,
             "#f7f7f7"
            ],
            [
             0.6,
             "#e6f5d0"
            ],
            [
             0.7,
             "#b8e186"
            ],
            [
             0.8,
             "#7fbc41"
            ],
            [
             0.9,
             "#4d9221"
            ],
            [
             1,
             "#276419"
            ]
           ],
           "sequential": [
            [
             0,
             "#0d0887"
            ],
            [
             0.1111111111111111,
             "#46039f"
            ],
            [
             0.2222222222222222,
             "#7201a8"
            ],
            [
             0.3333333333333333,
             "#9c179e"
            ],
            [
             0.4444444444444444,
             "#bd3786"
            ],
            [
             0.5555555555555556,
             "#d8576b"
            ],
            [
             0.6666666666666666,
             "#ed7953"
            ],
            [
             0.7777777777777778,
             "#fb9f3a"
            ],
            [
             0.8888888888888888,
             "#fdca26"
            ],
            [
             1,
             "#f0f921"
            ]
           ],
           "sequentialminus": [
            [
             0,
             "#0d0887"
            ],
            [
             0.1111111111111111,
             "#46039f"
            ],
            [
             0.2222222222222222,
             "#7201a8"
            ],
            [
             0.3333333333333333,
             "#9c179e"
            ],
            [
             0.4444444444444444,
             "#bd3786"
            ],
            [
             0.5555555555555556,
             "#d8576b"
            ],
            [
             0.6666666666666666,
             "#ed7953"
            ],
            [
             0.7777777777777778,
             "#fb9f3a"
            ],
            [
             0.8888888888888888,
             "#fdca26"
            ],
            [
             1,
             "#f0f921"
            ]
           ]
          },
          "colorway": [
           "#636efa",
           "#EF553B",
           "#00cc96",
           "#ab63fa",
           "#FFA15A",
           "#19d3f3",
           "#FF6692",
           "#B6E880",
           "#FF97FF",
           "#FECB52"
          ],
          "font": {
           "color": "#f2f5fa"
          },
          "geo": {
           "bgcolor": "rgb(17,17,17)",
           "lakecolor": "rgb(17,17,17)",
           "landcolor": "rgb(17,17,17)",
           "showlakes": true,
           "showland": true,
           "subunitcolor": "#506784"
          },
          "hoverlabel": {
           "align": "left"
          },
          "hovermode": "closest",
          "mapbox": {
           "style": "dark"
          },
          "paper_bgcolor": "rgb(17,17,17)",
          "plot_bgcolor": "rgb(17,17,17)",
          "polar": {
           "angularaxis": {
            "gridcolor": "#506784",
            "linecolor": "#506784",
            "ticks": ""
           },
           "bgcolor": "rgb(17,17,17)",
           "radialaxis": {
            "gridcolor": "#506784",
            "linecolor": "#506784",
            "ticks": ""
           }
          },
          "scene": {
           "xaxis": {
            "backgroundcolor": "rgb(17,17,17)",
            "gridcolor": "#506784",
            "gridwidth": 2,
            "linecolor": "#506784",
            "showbackground": true,
            "ticks": "",
            "zerolinecolor": "#C8D4E3"
           },
           "yaxis": {
            "backgroundcolor": "rgb(17,17,17)",
            "gridcolor": "#506784",
            "gridwidth": 2,
            "linecolor": "#506784",
            "showbackground": true,
            "ticks": "",
            "zerolinecolor": "#C8D4E3"
           },
           "zaxis": {
            "backgroundcolor": "rgb(17,17,17)",
            "gridcolor": "#506784",
            "gridwidth": 2,
            "linecolor": "#506784",
            "showbackground": true,
            "ticks": "",
            "zerolinecolor": "#C8D4E3"
           }
          },
          "shapedefaults": {
           "line": {
            "color": "#f2f5fa"
           }
          },
          "sliderdefaults": {
           "bgcolor": "#C8D4E3",
           "bordercolor": "rgb(17,17,17)",
           "borderwidth": 1,
           "tickwidth": 0
          },
          "ternary": {
           "aaxis": {
            "gridcolor": "#506784",
            "linecolor": "#506784",
            "ticks": ""
           },
           "baxis": {
            "gridcolor": "#506784",
            "linecolor": "#506784",
            "ticks": ""
           },
           "bgcolor": "rgb(17,17,17)",
           "caxis": {
            "gridcolor": "#506784",
            "linecolor": "#506784",
            "ticks": ""
           }
          },
          "title": {
           "x": 0.05
          },
          "updatemenudefaults": {
           "bgcolor": "#506784",
           "borderwidth": 0
          },
          "xaxis": {
           "automargin": true,
           "gridcolor": "#283442",
           "linecolor": "#506784",
           "ticks": "",
           "title": {
            "standoff": 15
           },
           "zerolinecolor": "#283442",
           "zerolinewidth": 2
          },
          "yaxis": {
           "automargin": true,
           "gridcolor": "#283442",
           "linecolor": "#506784",
           "ticks": "",
           "title": {
            "standoff": 15
           },
           "zerolinecolor": "#283442",
           "zerolinewidth": 2
          }
         }
        },
        "width": 600,
        "xaxis": {
         "tickmode": "array",
         "title": {
          "font": {
           "size": 14
          },
          "text": "Airbnb Seattle Neighbourhood"
         }
        },
        "yaxis": {
         "tickmode": "array",
         "title": {
          "font": {
           "size": 14
          },
          "text": "Average Listing Price ($)"
         }
        }
       }
      }
     },
     "metadata": {}
    }
   ],
   "source": [
    "\n",
    "# Create random data with numpy\n",
    "\n",
    "fig = go.Figure()\n",
    "\n",
    "# Add traces\n",
    "for neigh in monthly_neigh_prices.columns:\n",
    "    fig.add_trace(go.Scatter(x=monthly_neigh_prices.index, y=monthly_neigh_prices[neigh],\n",
    "                        mode='lines+markers',\n",
    "                        name=neigh))\n",
    "\n",
    "fig.update_layout(\n",
    "    template='plotly_dark',\n",
    "    autosize=False,\n",
    "    width=600,\n",
    "    height=800,\n",
    "    yaxis=dict(\n",
    "        title_text=\"Average Listing Price ($)\",\n",
    "        tickmode=\"array\",\n",
    "        titlefont=dict(size=14),\n",
    "    ),\n",
    "    xaxis=dict(\n",
    "    title_text=\"Airbnb eattle Neighbourhood\",\n",
    "    tickmode=\"array\",\n",
    "    titlefont=dict(size=14),\n",
    "    ))\n",
    "fig.show()"
   ]
  },
  {
   "cell_type": "code",
   "execution_count": 22,
   "metadata": {},
   "outputs": [],
   "source": [
    "import chart_studio\n",
    "import chart_studio.plotly as py\n",
    "username = 'jhmarlow' # your username\n",
    "api_key = 'sW1GO8ncX3JlvRlUGc0M' # your api key - go to profile > settings > regenerate key\n",
    "chart_studio.tools.set_credentials_file(username=username, api_key=api_key)\n",
    "\n",
    "py.plot(fig, filename = 'monthly_neighbourhood_prices_airbnb_seattle', auto_open=True)\n"
   ]
  }
 ],
 "metadata": {
  "language_info": {
   "codemirror_mode": {
    "name": "ipython",
    "version": 3
   },
   "file_extension": ".py",
   "mimetype": "text/x-python",
   "name": "python",
   "nbconvert_exporter": "python",
   "pygments_lexer": "ipython3",
   "version": "3.7.6-final"
  },
  "orig_nbformat": 2,
  "kernelspec": {
   "name": "python37664bit1c275fbc5cec4f6f8db42e6315e2c621",
   "display_name": "Python 3.7.6 64-bit"
  }
 },
 "nbformat": 4,
 "nbformat_minor": 2
}